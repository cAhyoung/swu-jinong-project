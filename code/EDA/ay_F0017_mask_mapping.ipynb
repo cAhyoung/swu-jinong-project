{
 "cells": [
  {
   "cell_type": "code",
   "execution_count": null,
   "metadata": {},
   "outputs": [],
   "source": [
    "import pandas as pd\n",
    "import numpy as np\n",
    "import seaborn as sns\n",
    "import matplotlib.pyplot as plt\n",
    "import os\n",
    "import cv2"
   ]
  },
  {
   "cell_type": "code",
   "execution_count": null,
   "metadata": {},
   "outputs": [],
   "source": [
    "data = pd.read_csv(\"filled_merged_growth_final2.csv\", encoding=\"UTF-8\")\n",
    "cdata = data.copy()"
   ]
  },
  {
   "cell_type": "code",
   "execution_count": null,
   "metadata": {},
   "outputs": [],
   "source": [
    "cdata"
   ]
  },
  {
   "cell_type": "code",
   "execution_count": null,
   "metadata": {},
   "outputs": [],
   "source": [
    "f0016 = cdata[cdata[\"farm_code\"]==\"F0016\"].reset_index()\n",
    "f0016.drop([\"index\"], axis=1, inplace=True)\n",
    "f0016"
   ]
  },
  {
   "cell_type": "code",
   "execution_count": null,
   "metadata": {},
   "outputs": [],
   "source": [
    "f0016_unique = list(f0016[\"mask_id\"].unique())\n",
    "f0016_unique"
   ]
  },
  {
   "cell_type": "code",
   "execution_count": null,
   "metadata": {},
   "outputs": [],
   "source": [
    "import matplotlib.pyplot as plt\n",
    "import matplotlib.image as mpimg\n",
    "    \n",
    "def visualize_images(image_paths, output_dir, month, mask_id, growth, img_name):\n",
    "    if not os.path.exists(output_dir + mask_id + \"/\"):\n",
    "        os.makedirs(output_dir + mask_id + \"/\")\n",
    "        \n",
    "    num_images = len(image_paths)\n",
    "    fig, axs = plt.subplots(1, num_images, figsize=(15, 10))\n",
    "\n",
    "    for i, img_path in enumerate(image_paths):\n",
    "        try : \n",
    "            img = mpimg.imread(img_path)\n",
    "            axs[i].imshow(img)\n",
    "            axs[i].axis('off')\n",
    "            axs[i].set_title(img_name[i])\n",
    "        except FileNotFoundError:\n",
    "            pass\n",
    "        \n",
    "    output_path = os.path.join(output_dir + mask_id + \"/\", f\"{month}_image_{mask_id}.png\")\n",
    "\n",
    "    plt.savefig(output_path, bbox_inches='tight', pad_inches=0)\n",
    "    plt.close()\n",
    "\n",
    "    print(f\"Images saved in {output_dir}\")\n"
   ]
  },
  {
   "cell_type": "markdown",
   "metadata": {},
   "source": [
    "##### *번외, F0016 시각화"
   ]
  },
  {
   "cell_type": "code",
   "execution_count": null,
   "metadata": {},
   "outputs": [],
   "source": [
    "f0016_2122_12 = f0016[(f0016[\"측정년도\"] == 2021) & (f0016[\"측정월\"] == 12)].reset_index().drop([\"index\"], axis=1)\n",
    "f0016_2122_12.head(3)"
   ]
  },
  {
   "cell_type": "code",
   "execution_count": null,
   "metadata": {},
   "outputs": [],
   "source": [
    "if (\"4c390ed15671f11a344a921eafb472e6\" in f0016_2122_12[\"mask_id\"].values):\n",
    "    print(\"yes\")\n",
    "else:\n",
    "    print(\"no\")"
   ]
  },
  {
   "cell_type": "code",
   "execution_count": null,
   "metadata": {},
   "outputs": [],
   "source": [
    "f0016_2122_12"
   ]
  },
  {
   "cell_type": "code",
   "execution_count": null,
   "metadata": {},
   "outputs": [],
   "source": [
    "f0016_2122_12[\"mask_id\"].value_counts()"
   ]
  },
  {
   "cell_type": "code",
   "execution_count": null,
   "metadata": {},
   "outputs": [],
   "source": [
    "mask_id_12 = f0016_2122_12[\"mask_id\"].value_counts().index\n",
    "mask_id_12"
   ]
  },
  {
   "cell_type": "code",
   "execution_count": null,
   "metadata": {},
   "outputs": [],
   "source": [
    "if \"4c390ed15671f11a344a921eafb472e6\" in mask_id_12:\n",
    "  print(\"True\")\n",
    "else: \n",
    "  print(\"False\")"
   ]
  },
  {
   "cell_type": "code",
   "execution_count": null,
   "metadata": {},
   "outputs": [],
   "source": [
    "output_dir = \"/home/ubuntu/drive/EDA/f0016_mapping_result_2122_dec/\""
   ]
  },
  {
   "cell_type": "code",
   "execution_count": null,
   "metadata": {},
   "outputs": [],
   "source": [
    "for idx, mask in enumerate(mask_id_12):\n",
    "  same_mask = f0016_2122_12[f0016_2122_12[\"mask_id\"] == mask]\n",
    "  img_path_list = []\n",
    "  growth = []\n",
    "  img_name = []\n",
    "  for i, row in same_mask.iterrows():\n",
    "    img_path_list.append(\"/home/ubuntu/drive/dataset/SAM_result/F0016/C101/\" + row[\"input_image_name\"] + \"/masks/\" + row[\"output_image_path\"])\n",
    "    growth.append(row[\"pred_growth\"])\n",
    "    img_name.append(row[\"input_image_name\"])\n",
    "  visualize_images(img_path_list, output_dir, \"dec\", mask, growth, img_name)"
   ]
  },
  {
   "cell_type": "markdown",
   "metadata": {},
   "source": [
    "----"
   ]
  },
  {
   "cell_type": "code",
   "execution_count": null,
   "metadata": {},
   "outputs": [],
   "source": [
    "f0017 = cdata[cdata[\"farm_code\"]==\"F0017\"].reset_index()\n",
    "f0017.drop([\"index\"], axis=1, inplace=True)\n",
    "f0017"
   ]
  },
  {
   "cell_type": "markdown",
   "metadata": {},
   "source": [
    "### 1. 같은 딸기 시간순으로 나열해서 확인하기\n",
    "- 21-22\n",
    "- 22-23\n",
    "- 22-24"
   ]
  },
  {
   "cell_type": "markdown",
   "metadata": {},
   "source": [
    "#### [ 21-22 ]"
   ]
  },
  {
   "cell_type": "code",
   "execution_count": null,
   "metadata": {},
   "outputs": [],
   "source": [
    "f0017_unique = list(f0017[\"mask_id\"].unique())\n",
    "f0017_unique"
   ]
  },
  {
   "cell_type": "code",
   "execution_count": null,
   "metadata": {},
   "outputs": [],
   "source": [
    "f0017[\"mask_id\"].value_counts()"
   ]
  },
  {
   "cell_type": "markdown",
   "metadata": {},
   "source": [
    "##### 1) 21-22 작기 11월"
   ]
  },
  {
   "cell_type": "code",
   "execution_count": null,
   "metadata": {},
   "outputs": [],
   "source": [
    "f0017_2122_11 = f0017[(f0017[\"측정년도\"] == 2021) & (f0017[\"측정월\"] == 11)].reset_index().drop([\"index\"], axis=1)\n",
    "f0017_2122_11.head(3)"
   ]
  },
  {
   "cell_type": "code",
   "execution_count": null,
   "metadata": {},
   "outputs": [],
   "source": [
    "mask_id_11 = f0017_2122_11[\"mask_id\"].value_counts().index\n",
    "mask_id_11"
   ]
  },
  {
   "cell_type": "code",
   "execution_count": null,
   "metadata": {},
   "outputs": [],
   "source": [
    "output_dir = \"/home/ubuntu/drive/EDA/f0017_mapping_result_re2122/\""
   ]
  },
  {
   "cell_type": "code",
   "execution_count": null,
   "metadata": {},
   "outputs": [],
   "source": [
    "for idx, mask in enumerate(mask_id_11):\n",
    "  same_mask = f0017_2122_11[f0017_2122_11[\"mask_id\"] == mask]\n",
    "  img_path_list = []\n",
    "  growth = []\n",
    "  for i, row in same_mask.iterrows():\n",
    "    img_path_list.append(\"/home/ubuntu/drive/dataset/SAM_result/F0017/C101/\" + row[\"input_image_name\"] + \"/masks/\" + row[\"output_image_path\"])\n",
    "    growth.append(row[\"pred_growth\"])\n",
    "  visualize_images(img_path_list, output_dir, \"nov\", mask, growth)"
   ]
  },
  {
   "cell_type": "markdown",
   "metadata": {},
   "source": [
    "##### 2) 21-22 작기 12월"
   ]
  },
  {
   "cell_type": "code",
   "execution_count": null,
   "metadata": {},
   "outputs": [],
   "source": [
    "f0017_2122_12 = f0017[(f0017[\"측정년도\"] == 2021) & (f0017[\"측정월\"] == 12)].reset_index().drop([\"index\"], axis=1)\n",
    "f0017_2122_12.head(3)"
   ]
  },
  {
   "cell_type": "code",
   "execution_count": null,
   "metadata": {},
   "outputs": [],
   "source": [
    "mask_id_12 = f0017_2122_12[\"mask_id\"].value_counts().index\n",
    "mask_id_12"
   ]
  },
  {
   "cell_type": "code",
   "execution_count": null,
   "metadata": {},
   "outputs": [],
   "source": [
    "for idx, mask in enumerate(mask_id_12):\n",
    "  same_mask = f0017_2122_12[f0017_2122_12[\"mask_id\"] == mask]\n",
    "  img_path_list = []\n",
    "  growth = []\n",
    "  for i, row in same_mask.iterrows():\n",
    "    img_path_list.append(\"/home/ubuntu/drive/dataset/SAM_result/F0017/C101/\" + row[\"input_image_name\"] + \"/masks/\" + row[\"output_image_path\"])\n",
    "    growth.append(row[\"pred_growth\"])\n",
    "  visualize_images(img_path_list, output_dir, \"dec\", mask, growth)"
   ]
  },
  {
   "cell_type": "markdown",
   "metadata": {},
   "source": [
    "##### 3) 21-22 작기 1월"
   ]
  },
  {
   "cell_type": "code",
   "execution_count": null,
   "metadata": {},
   "outputs": [],
   "source": [
    "f0017_2122_1 = f0017[(f0017[\"측정년도\"] == 2022) & (f0017[\"측정월\"] == 1)].reset_index().drop([\"index\"], axis=1)\n",
    "f0017_2122_1.head(3)"
   ]
  },
  {
   "cell_type": "code",
   "execution_count": null,
   "metadata": {},
   "outputs": [],
   "source": [
    "mask_id_1 = f0017_2122_1[\"mask_id\"].value_counts().index\n",
    "mask_id_1"
   ]
  },
  {
   "cell_type": "code",
   "execution_count": null,
   "metadata": {},
   "outputs": [],
   "source": [
    "for idx, mask in enumerate(mask_id_1):\n",
    "  same_mask = f0017_2122_1[f0017_2122_1[\"mask_id\"] == mask]\n",
    "  img_path_list = []\n",
    "  growth = []\n",
    "  for i, row in same_mask.iterrows():\n",
    "    img_path_list.append(\"/home/ubuntu/drive/dataset/SAM_result/F0017/C101/\" + row[\"input_image_name\"] + \"/masks/\" + row[\"output_image_path\"])\n",
    "    growth.append(row[\"pred_growth\"])\n",
    "  visualize_images(img_path_list, output_dir, \"jan\", mask, growth)"
   ]
  },
  {
   "cell_type": "markdown",
   "metadata": {},
   "source": [
    "##### 4) 21-22 작기 2월"
   ]
  },
  {
   "cell_type": "code",
   "execution_count": null,
   "metadata": {},
   "outputs": [],
   "source": [
    "f0017_2122_2 = f0017[(f0017[\"측정년도\"] == 2022) & (f0017[\"측정월\"] == 2)].reset_index().drop([\"index\"], axis=1)\n",
    "f0017_2122_2.head(3)"
   ]
  },
  {
   "cell_type": "code",
   "execution_count": null,
   "metadata": {},
   "outputs": [],
   "source": [
    "mask_id_2 = f0017_2122_2[\"mask_id\"].value_counts().index\n",
    "mask_id_2"
   ]
  },
  {
   "cell_type": "code",
   "execution_count": null,
   "metadata": {},
   "outputs": [],
   "source": [
    "for idx, mask in enumerate(mask_id_2):\n",
    "  same_mask = f0017_2122_2[f0017_2122_2[\"mask_id\"] == mask]\n",
    "  img_path_list = []\n",
    "  growth = []\n",
    "  for i, row in same_mask.iterrows():\n",
    "    img_path_list.append(\"/home/ubuntu/drive/dataset/SAM_result/F0017/C101/\" + row[\"input_image_name\"] + \"/masks/\" + row[\"output_image_path\"])\n",
    "    growth.append(row[\"pred_growth\"])\n",
    "  visualize_images(img_path_list, output_dir, \"fab\", mask, growth)"
   ]
  },
  {
   "cell_type": "markdown",
   "metadata": {},
   "source": [
    "##### 5) 21-22 작기 3월"
   ]
  },
  {
   "cell_type": "code",
   "execution_count": null,
   "metadata": {},
   "outputs": [],
   "source": [
    "f0017_2122_3 = f0017[(f0017[\"측정년도\"] == 2022) & (f0017[\"측정월\"] == 3)].reset_index().drop([\"index\"], axis=1)\n",
    "f0017_2122_3.head(3)\n"
   ]
  },
  {
   "cell_type": "code",
   "execution_count": null,
   "metadata": {},
   "outputs": [],
   "source": [
    "mask_id_3 = f0017_2122_3[\"mask_id\"].value_counts().index\n",
    "mask_id_3\n"
   ]
  },
  {
   "cell_type": "code",
   "execution_count": null,
   "metadata": {},
   "outputs": [],
   "source": [
    "for idx, mask in enumerate(mask_id_3):\n",
    "  same_mask = f0017_2122_3[f0017_2122_3[\"mask_id\"] == mask]\n",
    "  img_path_list = []\n",
    "  growth = []\n",
    "  for i, row in same_mask.iterrows():\n",
    "    img_path_list.append(\"/home/ubuntu/drive/dataset/SAM_result/F0017/C101/\" + row[\"input_image_name\"] + \"/masks/\" + row[\"output_image_path\"])\n",
    "    growth.append(row[\"pred_growth\"])\n",
    "  visualize_images(img_path_list, output_dir, \"mar\", mask, growth)"
   ]
  },
  {
   "cell_type": "markdown",
   "metadata": {},
   "source": [
    "##### 6) 21-22 작기 4월"
   ]
  },
  {
   "cell_type": "code",
   "execution_count": null,
   "metadata": {},
   "outputs": [],
   "source": [
    "f0017_2122_4 = f0017[(f0017[\"측정년도\"] == 2022) & (f0017[\"측정월\"] == 4)].reset_index().drop([\"index\"], axis=1)\n",
    "f0017_2122_4.head(3)"
   ]
  },
  {
   "cell_type": "code",
   "execution_count": null,
   "metadata": {},
   "outputs": [],
   "source": [
    "mask_id_4 = f0017_2122_4[\"mask_id\"].value_counts().index\n",
    "mask_id_4"
   ]
  },
  {
   "cell_type": "code",
   "execution_count": null,
   "metadata": {},
   "outputs": [],
   "source": [
    "for idx, mask in enumerate(mask_id_4):\n",
    "  same_mask = f0017_2122_4[f0017_2122_4[\"mask_id\"] == mask]\n",
    "  img_path_list = []\n",
    "  growth = []\n",
    "  for i, row in same_mask.iterrows():\n",
    "    img_path_list.append(\"/home/ubuntu/drive/dataset/SAM_result/F0017/C101/\" + row[\"input_image_name\"] + \"/masks/\" + row[\"output_image_path\"])\n",
    "    growth.append(row[\"pred_growth\"])\n",
    "  visualize_images(img_path_list, output_dir, \"apr\", mask, growth)"
   ]
  },
  {
   "cell_type": "markdown",
   "metadata": {},
   "source": [
    "#### [ 22-23 ]"
   ]
  },
  {
   "cell_type": "code",
   "execution_count": null,
   "metadata": {},
   "outputs": [],
   "source": [
    "output_dir = \"/home/ubuntu/drive/EDA/f0017_mapping_result_2223/\""
   ]
  },
  {
   "cell_type": "markdown",
   "metadata": {},
   "source": [
    "##### 1) 22-23 작기 11월"
   ]
  },
  {
   "cell_type": "code",
   "execution_count": null,
   "metadata": {},
   "outputs": [],
   "source": [
    "f0017_2223_11 = f0017[(f0017[\"측정년도\"] == 2022) & (f0017[\"측정월\"] == 11)].reset_index().drop([\"index\"], axis=1)\n",
    "f0017_2223_11.head(3)"
   ]
  },
  {
   "cell_type": "code",
   "execution_count": null,
   "metadata": {},
   "outputs": [],
   "source": [
    "mask_id_11 = f0017_2223_11[\"mask_id\"].value_counts().index\n",
    "mask_id_11"
   ]
  },
  {
   "cell_type": "code",
   "execution_count": null,
   "metadata": {},
   "outputs": [],
   "source": [
    "for idx, mask in enumerate(mask_id_11):\n",
    "  same_mask = f0017_2223_11[f0017_2223_11[\"mask_id\"] == mask]\n",
    "  img_path_list = []\n",
    "  growth = []\n",
    "  for i, row in same_mask.iterrows():\n",
    "    img_path_list.append(\"/home/ubuntu/drive/dataset/SAM_result/F0017/C101/\" + row[\"input_image_name\"] + \"/masks/\" + row[\"output_image_path\"])\n",
    "    growth.append(row[\"pred_growth\"])\n",
    "  visualize_images(img_path_list, output_dir, \"nov\", mask, growth)"
   ]
  },
  {
   "cell_type": "markdown",
   "metadata": {},
   "source": [
    "##### 2) 22-23작기 12월"
   ]
  },
  {
   "cell_type": "code",
   "execution_count": null,
   "metadata": {},
   "outputs": [],
   "source": [
    "f0017_2223_12 = f0017[(f0017[\"측정년도\"] == 2022) & (f0017[\"측정월\"] == 12)].reset_index().drop([\"index\"], axis=1)\n",
    "f0017_2223_12.head(3)"
   ]
  },
  {
   "cell_type": "code",
   "execution_count": null,
   "metadata": {},
   "outputs": [],
   "source": [
    "mask_id_12 = f0017_2223_12[\"mask_id\"].value_counts().index\n",
    "mask_id_12"
   ]
  },
  {
   "cell_type": "code",
   "execution_count": null,
   "metadata": {},
   "outputs": [],
   "source": [
    "for idx, mask in enumerate(mask_id_12):\n",
    "  same_mask = f0017_2223_12[f0017_2223_12[\"mask_id\"] == mask]\n",
    "  img_path_list = []\n",
    "  growth = []\n",
    "  for i, row in same_mask.iterrows():\n",
    "    img_path_list.append(\"/home/ubuntu/drive/dataset/SAM_result/F0017/C101/\" + row[\"input_image_name\"] + \"/masks/\" + row[\"output_image_path\"])\n",
    "    growth.append(row[\"pred_growth\"])\n",
    "  visualize_images(img_path_list, output_dir, \"dec\", mask, growth)"
   ]
  },
  {
   "cell_type": "markdown",
   "metadata": {},
   "source": [
    "##### 3) 22-23 작기 1월"
   ]
  },
  {
   "cell_type": "code",
   "execution_count": null,
   "metadata": {},
   "outputs": [],
   "source": [
    "f0017_2223_1 = f0017[(f0017[\"측정년도\"] == 2023) & (f0017[\"측정월\"] == 1)].reset_index().drop([\"index\"], axis=1)\n",
    "f0017_2223_1.head(3)"
   ]
  },
  {
   "cell_type": "code",
   "execution_count": null,
   "metadata": {},
   "outputs": [],
   "source": [
    "mask_id_1 = f0017_2223_1[\"mask_id\"].value_counts().index\n",
    "mask_id_1"
   ]
  },
  {
   "cell_type": "code",
   "execution_count": null,
   "metadata": {},
   "outputs": [],
   "source": [
    "for idx, mask in enumerate(mask_id_1):\n",
    "  same_mask = f0017_2223_1[f0017_2223_1[\"mask_id\"] == mask]\n",
    "  img_path_list = []\n",
    "  growth = []\n",
    "  for i, row in same_mask.iterrows():\n",
    "    img_path_list.append(\"/home/ubuntu/drive/dataset/SAM_result/F0017/C101/\" + row[\"input_image_name\"] + \"/masks/\" + row[\"output_image_path\"])\n",
    "    growth.append(row[\"pred_growth\"])\n",
    "  visualize_images(img_path_list, output_dir, \"jan\", mask, growth)"
   ]
  },
  {
   "cell_type": "markdown",
   "metadata": {},
   "source": [
    "##### 4) 22-23 작기 2월"
   ]
  },
  {
   "cell_type": "code",
   "execution_count": null,
   "metadata": {},
   "outputs": [],
   "source": [
    "f0017_2223_2 = f0017[(f0017[\"측정년도\"] == 2023) & (f0017[\"측정월\"] == 2)].reset_index().drop([\"index\"], axis=1)\n",
    "f0017_2223_2.head(3)"
   ]
  },
  {
   "cell_type": "code",
   "execution_count": null,
   "metadata": {},
   "outputs": [],
   "source": [
    "mask_id_2 = f0017_2223_2[\"mask_id\"].value_counts().index\n",
    "mask_id_2"
   ]
  },
  {
   "cell_type": "code",
   "execution_count": null,
   "metadata": {},
   "outputs": [],
   "source": [
    "for idx, mask in enumerate(mask_id_2):\n",
    "  same_mask = f0017_2223_2[f0017_2223_2[\"mask_id\"] == mask]\n",
    "  img_path_list = []\n",
    "  for i, row in same_mask.iterrows():\n",
    "    img_path_list.append(\"/home/ubuntu/drive/dataset/SAM_result/F0017/C101/\" + row[\"input_image_name\"] + \"/masks/\" + row[\"output_image_path\"])\n",
    "  visualize_images(img_path_list, output_dir, \"feb\", mask)"
   ]
  },
  {
   "cell_type": "markdown",
   "metadata": {},
   "source": [
    "##### 5) 22-23작기 3월"
   ]
  },
  {
   "cell_type": "code",
   "execution_count": null,
   "metadata": {},
   "outputs": [],
   "source": [
    "f0017_2223_3 = f0017[(f0017[\"측정년도\"] == 2023) & (f0017[\"측정월\"] == 3)].reset_index().drop([\"index\"], axis=1)\n",
    "f0017_2223_3.head(3)"
   ]
  },
  {
   "cell_type": "code",
   "execution_count": null,
   "metadata": {},
   "outputs": [],
   "source": [
    "mask_id_3 = f0017_2223_3[\"mask_id\"].value_counts().index\n",
    "mask_id_3"
   ]
  },
  {
   "cell_type": "code",
   "execution_count": null,
   "metadata": {},
   "outputs": [],
   "source": [
    "for idx, mask in enumerate(mask_id_3):\n",
    "  same_mask = f0017_2223_3[f0017_2223_3[\"mask_id\"] == mask]\n",
    "  img_path_list = []\n",
    "  for i, row in same_mask.iterrows():\n",
    "    img_path_list.append(\"/home/ubuntu/drive/dataset/SAM_result/F0017/C101/\" + row[\"input_image_name\"] + \"/masks/\" + row[\"output_image_path\"])\n",
    "  visualize_images(img_path_list, output_dir, \"mar\", mask)"
   ]
  },
  {
   "cell_type": "markdown",
   "metadata": {},
   "source": [
    "##### 6) 22-23작기 4월"
   ]
  },
  {
   "cell_type": "code",
   "execution_count": null,
   "metadata": {},
   "outputs": [],
   "source": [
    "f0017_2223_4 = f0017[(f0017[\"측정년도\"] == 2023) & (f0017[\"측정월\"] == 4)].reset_index().drop([\"index\"], axis=1)\n",
    "f0017_2223_4.head(3)"
   ]
  },
  {
   "cell_type": "code",
   "execution_count": null,
   "metadata": {},
   "outputs": [],
   "source": [
    "mask_id_4 = f0017_2223_4[\"mask_id\"].value_counts().index\n",
    "mask_id_4"
   ]
  },
  {
   "cell_type": "code",
   "execution_count": null,
   "metadata": {},
   "outputs": [],
   "source": [
    "for idx, mask in enumerate(mask_id_4):\n",
    "  same_mask = f0017_2223_4[f0017_2223_4[\"mask_id\"] == mask]\n",
    "  img_path_list = []\n",
    "  for i, row in same_mask.iterrows():\n",
    "    img_path_list.append(\"/home/ubuntu/drive/dataset/SAM_result/F0017/C101/\" + row[\"input_image_name\"] + \"/masks/\" + row[\"output_image_path\"])\n",
    "  visualize_images(img_path_list, output_dir, \"apr\", mask)"
   ]
  },
  {
   "cell_type": "markdown",
   "metadata": {},
   "source": [
    "----"
   ]
  },
  {
   "cell_type": "markdown",
   "metadata": {},
   "source": [
    "#### [ 23-24 ]"
   ]
  },
  {
   "cell_type": "code",
   "execution_count": null,
   "metadata": {},
   "outputs": [],
   "source": [
    "output_dir = \"/home/ubuntu/drive/EDA/f0017_mapping_result_2324/\""
   ]
  },
  {
   "cell_type": "markdown",
   "metadata": {},
   "source": [
    "##### 1) 23-24 작기 11월"
   ]
  },
  {
   "cell_type": "code",
   "execution_count": null,
   "metadata": {},
   "outputs": [],
   "source": [
    "f0017_2324_11 = f0017[(f0017[\"측정년도\"] == 2023) & (f0017[\"측정월\"] == 11)].reset_index().drop([\"index\"], axis=1)\n",
    "f0017_2324_11.head(3)"
   ]
  },
  {
   "cell_type": "code",
   "execution_count": null,
   "metadata": {},
   "outputs": [],
   "source": [
    "mask_id_11 = f0017_2324_11[\"mask_id\"].value_counts().index\n",
    "mask_id_11"
   ]
  },
  {
   "cell_type": "code",
   "execution_count": null,
   "metadata": {},
   "outputs": [],
   "source": [
    "for idx, mask in enumerate(mask_id_11):\n",
    "  same_mask = f0017_2324_11[f0017_2324_11[\"mask_id\"] == mask]\n",
    "  img_path_list = []\n",
    "  growth = []\n",
    "  for i, row in same_mask.iterrows():\n",
    "    img_path_list.append(\"/home/ubuntu/drive/dataset/SAM_result/F0017/C101/\" + row[\"input_image_name\"] + \"/masks/\" + row[\"output_image_path\"])\n",
    "    growth.append(row[\"pred_growth\"])\n",
    "  visualize_images(img_path_list, output_dir, \"nov\", mask, growth)"
   ]
  },
  {
   "cell_type": "markdown",
   "metadata": {},
   "source": [
    "##### 2) 23-24 작기 12월"
   ]
  },
  {
   "cell_type": "code",
   "execution_count": null,
   "metadata": {},
   "outputs": [],
   "source": [
    "f0017_2324_12 = f0017[(f0017[\"측정년도\"] == 2023) & (f0017[\"측정월\"] == 12)].reset_index().drop([\"index\"], axis=1)\n",
    "f0017_2324_12.head(3)"
   ]
  },
  {
   "cell_type": "code",
   "execution_count": null,
   "metadata": {},
   "outputs": [],
   "source": [
    "mask_id_12 = f0017_2324_12[\"mask_id\"].value_counts().index\n",
    "mask_id_12"
   ]
  },
  {
   "cell_type": "code",
   "execution_count": null,
   "metadata": {},
   "outputs": [],
   "source": [
    "for idx, mask in enumerate(mask_id_12):\n",
    "  same_mask = f0017_2324_12[f0017_2324_12[\"mask_id\"] == mask]\n",
    "  img_path_list = []\n",
    "  growth = []\n",
    "  for i, row in same_mask.iterrows():\n",
    "    img_path_list.append(\"/home/ubuntu/drive/dataset/SAM_result/F0017/C101/\" + row[\"input_image_name\"] + \"/masks/\" + row[\"output_image_path\"])\n",
    "    growth.append(row[\"pred_growth\"])\n",
    "  visualize_images(img_path_list, output_dir, \"dec\", mask, growth)"
   ]
  },
  {
   "cell_type": "markdown",
   "metadata": {},
   "source": [
    "##### 3) 23-24 작기 1월"
   ]
  },
  {
   "cell_type": "code",
   "execution_count": null,
   "metadata": {},
   "outputs": [],
   "source": [
    "f0017_2324_1 = f0017[(f0017[\"측정년도\"] == 2024) & (f0017[\"측정월\"] == 1)].reset_index().drop([\"index\"], axis=1)\n",
    "f0017_2324_1.head(3)"
   ]
  },
  {
   "cell_type": "code",
   "execution_count": null,
   "metadata": {},
   "outputs": [],
   "source": [
    "mask_id_1 = f0017_2324_1[\"mask_id\"].value_counts().index\n",
    "mask_id_1"
   ]
  },
  {
   "cell_type": "code",
   "execution_count": null,
   "metadata": {},
   "outputs": [],
   "source": [
    "for idx, mask in enumerate(mask_id_1):\n",
    "  same_mask = f0017_2324_1[f0017_2324_1[\"mask_id\"] == mask]\n",
    "  img_path_list = []\n",
    "  growth = []\n",
    "  for i, row in same_mask.iterrows():\n",
    "    img_path_list.append(\"/home/ubuntu/drive/dataset/SAM_result/F0017/C101/\" + row[\"input_image_name\"] + \"/masks/\" + row[\"output_image_path\"])\n",
    "    growth.append(row[\"pred_growth\"])\n",
    "  visualize_images(img_path_list, output_dir, \"jan\", mask, growth)"
   ]
  },
  {
   "cell_type": "markdown",
   "metadata": {},
   "source": [
    "##### 4) 23-24 작기 2월"
   ]
  },
  {
   "cell_type": "code",
   "execution_count": null,
   "metadata": {},
   "outputs": [],
   "source": [
    "f0017_2324_2 = f0017[(f0017[\"측정년도\"] == 2024) & (f0017[\"측정월\"] == 2)].reset_index().drop([\"index\"], axis=1)\n",
    "f0017_2324_2.head(3)"
   ]
  },
  {
   "cell_type": "code",
   "execution_count": null,
   "metadata": {},
   "outputs": [],
   "source": [
    "mask_id_2 = f0017_2324_2[\"mask_id\"].value_counts().index\n",
    "mask_id_2"
   ]
  },
  {
   "cell_type": "code",
   "execution_count": null,
   "metadata": {},
   "outputs": [],
   "source": [
    "for idx, mask in enumerate(mask_id_2):\n",
    "  same_mask = f0017_2324_2[f0017_2324_2[\"mask_id\"] == mask]\n",
    "  img_path_list = []\n",
    "  growth = []\n",
    "  for i, row in same_mask.iterrows():\n",
    "    img_path_list.append(\"/home/ubuntu/drive/dataset/SAM_result/F0017/C101/\" + row[\"input_image_name\"] + \"/masks/\" + row[\"output_image_path\"])\n",
    "    growth.append(row[\"pred_growth\"])\n",
    "  visualize_images(img_path_list, output_dir, \"fab\", mask, growth)"
   ]
  },
  {
   "cell_type": "markdown",
   "metadata": {},
   "source": [
    "##### 5) 23-24 작기 3월"
   ]
  },
  {
   "cell_type": "code",
   "execution_count": null,
   "metadata": {},
   "outputs": [],
   "source": [
    "f0017_2324_3 = f0017[(f0017[\"측정년도\"] == 2024) & (f0017[\"측정월\"] == 3)].reset_index().drop([\"index\"], axis=1)\n",
    "f0017_2324_3.head(3)"
   ]
  },
  {
   "cell_type": "code",
   "execution_count": null,
   "metadata": {},
   "outputs": [],
   "source": [
    "mask_id_3 = f0017_2324_3[\"mask_id\"].value_counts().index\n",
    "mask_id_3"
   ]
  },
  {
   "cell_type": "code",
   "execution_count": null,
   "metadata": {},
   "outputs": [],
   "source": [
    "for idx, mask in enumerate(mask_id_3):\n",
    "  same_mask = f0017_2324_3[f0017_2324_3[\"mask_id\"] == mask]\n",
    "  img_path_list = []\n",
    "  growth = []\n",
    "  for i, row in same_mask.iterrows():\n",
    "    img_path_list.append(\"/home/ubuntu/drive/dataset/SAM_result/F0017/C101/\" + row[\"input_image_name\"] + \"/masks/\" + row[\"output_image_path\"])\n",
    "    growth.append(row[\"pred_growth\"])\n",
    "  visualize_images(img_path_list, output_dir, \"mar\", mask, growth)"
   ]
  },
  {
   "cell_type": "markdown",
   "metadata": {},
   "source": [
    "##### 6) 23-24 작기 4월"
   ]
  },
  {
   "cell_type": "code",
   "execution_count": null,
   "metadata": {},
   "outputs": [],
   "source": [
    "f0017_2324_4 = f0017[(f0017[\"측정년도\"] == 2024) & (f0017[\"측정월\"] == 4)].reset_index().drop([\"index\"], axis=1)\n",
    "f0017_2324_4.head(3)"
   ]
  },
  {
   "cell_type": "code",
   "execution_count": null,
   "metadata": {},
   "outputs": [],
   "source": [
    "mask_id_4 = f0017_2324_4[\"mask_id\"].value_counts().index\n",
    "mask_id_4"
   ]
  },
  {
   "cell_type": "code",
   "execution_count": null,
   "metadata": {},
   "outputs": [],
   "source": [
    "for idx, mask in enumerate(mask_id_4):\n",
    "  same_mask = f0017_2324_4[f0017_2324_4[\"mask_id\"] == mask]\n",
    "  img_path_list = []\n",
    "  growth = []\n",
    "  for i, row in same_mask.iterrows():\n",
    "    img_path_list.append(\"/home/ubuntu/drive/dataset/SAM_result/F0017/C101/\" + row[\"input_image_name\"] + \"/masks/\" + row[\"output_image_path\"])\n",
    "    growth.append(row[\"pred_growth\"])\n",
    "  visualize_images(img_path_list, output_dir, \"apr\", mask, growth)"
   ]
  }
 ],
 "metadata": {
  "kernelspec": {
   "display_name": "base",
   "language": "python",
   "name": "python3"
  },
  "language_info": {
   "codemirror_mode": {
    "name": "ipython",
    "version": 3
   },
   "file_extension": ".py",
   "mimetype": "text/x-python",
   "name": "python",
   "nbconvert_exporter": "python",
   "pygments_lexer": "ipython3",
   "version": "3.10.9"
  }
 },
 "nbformat": 4,
 "nbformat_minor": 2
}
