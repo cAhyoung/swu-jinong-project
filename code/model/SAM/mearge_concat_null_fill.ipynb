{
 "cells": [
  {
   "cell_type": "code",
   "execution_count": 1,
   "metadata": {},
   "outputs": [],
   "source": [
    "import pandas as pd\n",
    "import numpy as np\n",
    "\n",
    "merged = pd.read_csv('merged_final.csv')"
   ]
  },
  {
   "cell_type": "code",
   "execution_count": 2,
   "metadata": {},
   "outputs": [
    {
     "name": "stdout",
     "output_type": "stream",
     "text": [
      "<class 'pandas.core.frame.DataFrame'>\n",
      "Index: 46801 entries, 0 to 46800\n",
      "Data columns (total 28 columns):\n",
      " #   Column             Non-Null Count  Dtype  \n",
      "---  ------             --------------  -----  \n",
      " 0   Unnamed: 0         46801 non-null  int64  \n",
      " 1   check_datetime     46067 non-null  object \n",
      " 2   측정일자               46067 non-null  object \n",
      " 3   구역명                46067 non-null  object \n",
      " 4   farm_code          46801 non-null  object \n",
      " 5   내부온도               46067 non-null  float64\n",
      " 6   내부습도               46067 non-null  float64\n",
      " 7   내부CO2              46067 non-null  float64\n",
      " 8   근권온도               46067 non-null  float64\n",
      " 9   내부순간일사량            46067 non-null  float64\n",
      " 10  측정년도               46067 non-null  float64\n",
      " 11  측정월                46067 non-null  float64\n",
      " 12  input_image_name   46801 non-null  object \n",
      " 13  input_image_path   46801 non-null  object \n",
      " 14  img_id             46801 non-null  object \n",
      " 15  area_code          46801 non-null  object \n",
      " 16  shot_datetime      46801 non-null  object \n",
      " 17  count_masks        46801 non-null  float64\n",
      " 18  bbox_image_path    46801 non-null  object \n",
      " 19  before_img_name    46801 non-null  object \n",
      " 20  before_img_id      46801 non-null  object \n",
      " 21  mask_num           46801 non-null  object \n",
      " 22  mask_id            46801 non-null  object \n",
      " 23  point_x            46801 non-null  float64\n",
      " 24  point_y            46801 non-null  float64\n",
      " 25  size               46801 non-null  int64  \n",
      " 26  color              46801 non-null  object \n",
      " 27  output_image_path  46801 non-null  object \n",
      "dtypes: float64(10), int64(2), object(16)\n",
      "memory usage: 10.4+ MB\n"
     ]
    }
   ],
   "source": [
    "merged[merged['farm_code'] == \"F0016\"].info()"
   ]
  },
  {
   "cell_type": "code",
   "execution_count": 3,
   "metadata": {},
   "outputs": [],
   "source": [
    "merged.drop(merged[merged['farm_code'] == \"F0017\"].index, inplace=True)"
   ]
  },
  {
   "cell_type": "code",
   "execution_count": 4,
   "metadata": {},
   "outputs": [
    {
     "data": {
      "text/plain": [
       "array(['F0016'], dtype=object)"
      ]
     },
     "execution_count": 4,
     "metadata": {},
     "output_type": "execute_result"
    }
   ],
   "source": [
    "merged['farm_code'].unique()"
   ]
  },
  {
   "cell_type": "code",
   "execution_count": 5,
   "metadata": {},
   "outputs": [
    {
     "name": "stderr",
     "output_type": "stream",
     "text": [
      "/tmp/ipykernel_70708/2023799313.py:1: DtypeWarning: Columns (11,12,13,14,15,17,18,19,20,21,25,26) have mixed types. Specify dtype option on import or set low_memory=False.\n",
      "  merged2 = pd.read_csv('merged_f0017.csv')\n"
     ]
    }
   ],
   "source": [
    "merged2 = pd.read_csv('merged_f0017.csv')"
   ]
  },
  {
   "cell_type": "code",
   "execution_count": 6,
   "metadata": {},
   "outputs": [
    {
     "name": "stderr",
     "output_type": "stream",
     "text": [
      "/tmp/ipykernel_70708/1927183740.py:1: DtypeWarning: Columns (11,12,13,14,15,17,18,19) have mixed types. Specify dtype option on import or set low_memory=False.\n",
      "  result = pd.read_csv('result_f0017.csv')\n"
     ]
    }
   ],
   "source": [
    "result = pd.read_csv('result_f0017.csv')"
   ]
  },
  {
   "cell_type": "code",
   "execution_count": 7,
   "metadata": {},
   "outputs": [
    {
     "data": {
      "text/plain": [
       "array(['F0016', 'F0017'], dtype=object)"
      ]
     },
     "execution_count": 7,
     "metadata": {},
     "output_type": "execute_result"
    }
   ],
   "source": [
    "merged2['farm_code'].unique()"
   ]
  },
  {
   "cell_type": "code",
   "execution_count": 8,
   "metadata": {},
   "outputs": [
    {
     "name": "stdout",
     "output_type": "stream",
     "text": [
      "<class 'pandas.core.frame.DataFrame'>\n",
      "Index: 192405 entries, 0 to 192404\n",
      "Data columns (total 27 columns):\n",
      " #   Column             Non-Null Count   Dtype  \n",
      "---  ------             --------------   -----  \n",
      " 0   check_datetime     192405 non-null  object \n",
      " 1   측정일자               192405 non-null  object \n",
      " 2   구역명                192405 non-null  object \n",
      " 3   farm_code          192405 non-null  object \n",
      " 4   내부온도               192405 non-null  float64\n",
      " 5   내부습도               192405 non-null  float64\n",
      " 6   내부CO2              192405 non-null  float64\n",
      " 7   근권온도               192405 non-null  float64\n",
      " 8   내부순간일사량            192405 non-null  float64\n",
      " 9   측정년도               192405 non-null  float64\n",
      " 10  측정월                192405 non-null  float64\n",
      " 11  input_image_name   0 non-null       object \n",
      " 12  input_image_path   0 non-null       object \n",
      " 13  img_id             0 non-null       object \n",
      " 14  area_code          0 non-null       object \n",
      " 15  shot_datetime      0 non-null       object \n",
      " 16  count_masks        0 non-null       float64\n",
      " 17  bbox_image_path    0 non-null       object \n",
      " 18  before_img_name    0 non-null       object \n",
      " 19  before_img_id      0 non-null       object \n",
      " 20  mask_num           0 non-null       object \n",
      " 21  mask_id            0 non-null       object \n",
      " 22  point_x            0 non-null       float64\n",
      " 23  point_y            0 non-null       float64\n",
      " 24  size               0 non-null       float64\n",
      " 25  color              0 non-null       object \n",
      " 26  output_image_path  0 non-null       object \n",
      "dtypes: float64(11), object(16)\n",
      "memory usage: 41.1+ MB\n"
     ]
    }
   ],
   "source": [
    "merged2[merged2['farm_code'] == \"F0016\"].info()"
   ]
  },
  {
   "cell_type": "code",
   "execution_count": 9,
   "metadata": {},
   "outputs": [],
   "source": [
    "merged2.drop(merged2[merged2['farm_code'] == \"F0016\"].index, inplace=True)"
   ]
  },
  {
   "cell_type": "code",
   "execution_count": 10,
   "metadata": {},
   "outputs": [
    {
     "data": {
      "text/plain": [
       "array(['F0017'], dtype=object)"
      ]
     },
     "execution_count": 10,
     "metadata": {},
     "output_type": "execute_result"
    }
   ],
   "source": [
    "merged2['farm_code'].unique()"
   ]
  },
  {
   "cell_type": "code",
   "execution_count": 11,
   "metadata": {},
   "outputs": [
    {
     "name": "stdout",
     "output_type": "stream",
     "text": [
      "<class 'pandas.core.frame.DataFrame'>\n",
      "RangeIndex: 314626 entries, 192405 to 507030\n",
      "Data columns (total 27 columns):\n",
      " #   Column             Non-Null Count   Dtype  \n",
      "---  ------             --------------   -----  \n",
      " 0   check_datetime     313614 non-null  object \n",
      " 1   측정일자               313614 non-null  object \n",
      " 2   구역명                313614 non-null  object \n",
      " 3   farm_code          314626 non-null  object \n",
      " 4   내부온도               313614 non-null  float64\n",
      " 5   내부습도               313614 non-null  float64\n",
      " 6   내부CO2              313614 non-null  float64\n",
      " 7   근권온도               313614 non-null  float64\n",
      " 8   내부순간일사량            313614 non-null  float64\n",
      " 9   측정년도               313614 non-null  float64\n",
      " 10  측정월                313614 non-null  float64\n",
      " 11  input_image_name   87832 non-null   object \n",
      " 12  input_image_path   87832 non-null   object \n",
      " 13  img_id             87832 non-null   object \n",
      " 14  area_code          87832 non-null   object \n",
      " 15  shot_datetime      87832 non-null   object \n",
      " 16  count_masks        87832 non-null   float64\n",
      " 17  bbox_image_path    87832 non-null   object \n",
      " 18  before_img_name    87832 non-null   object \n",
      " 19  before_img_id      87832 non-null   object \n",
      " 20  mask_num           87529 non-null   object \n",
      " 21  mask_id            87529 non-null   object \n",
      " 22  point_x            87529 non-null   float64\n",
      " 23  point_y            87529 non-null   float64\n",
      " 24  size               87529 non-null   float64\n",
      " 25  color              87527 non-null   object \n",
      " 26  output_image_path  87529 non-null   object \n",
      "dtypes: float64(11), object(16)\n",
      "memory usage: 64.8+ MB\n"
     ]
    }
   ],
   "source": [
    "merged2.info()"
   ]
  },
  {
   "cell_type": "code",
   "execution_count": 12,
   "metadata": {},
   "outputs": [],
   "source": [
    "merged2 = merged2.dropna(subset=['input_image_name'])"
   ]
  },
  {
   "cell_type": "code",
   "execution_count": 13,
   "metadata": {},
   "outputs": [
    {
     "name": "stdout",
     "output_type": "stream",
     "text": [
      "<class 'pandas.core.frame.DataFrame'>\n",
      "Index: 87832 entries, 419199 to 507030\n",
      "Data columns (total 27 columns):\n",
      " #   Column             Non-Null Count  Dtype  \n",
      "---  ------             --------------  -----  \n",
      " 0   check_datetime     86820 non-null  object \n",
      " 1   측정일자               86820 non-null  object \n",
      " 2   구역명                86820 non-null  object \n",
      " 3   farm_code          87832 non-null  object \n",
      " 4   내부온도               86820 non-null  float64\n",
      " 5   내부습도               86820 non-null  float64\n",
      " 6   내부CO2              86820 non-null  float64\n",
      " 7   근권온도               86820 non-null  float64\n",
      " 8   내부순간일사량            86820 non-null  float64\n",
      " 9   측정년도               86820 non-null  float64\n",
      " 10  측정월                86820 non-null  float64\n",
      " 11  input_image_name   87832 non-null  object \n",
      " 12  input_image_path   87832 non-null  object \n",
      " 13  img_id             87832 non-null  object \n",
      " 14  area_code          87832 non-null  object \n",
      " 15  shot_datetime      87832 non-null  object \n",
      " 16  count_masks        87832 non-null  float64\n",
      " 17  bbox_image_path    87832 non-null  object \n",
      " 18  before_img_name    87832 non-null  object \n",
      " 19  before_img_id      87832 non-null  object \n",
      " 20  mask_num           87529 non-null  object \n",
      " 21  mask_id            87529 non-null  object \n",
      " 22  point_x            87529 non-null  float64\n",
      " 23  point_y            87529 non-null  float64\n",
      " 24  size               87529 non-null  float64\n",
      " 25  color              87527 non-null  object \n",
      " 26  output_image_path  87529 non-null  object \n",
      "dtypes: float64(11), object(16)\n",
      "memory usage: 18.8+ MB\n"
     ]
    }
   ],
   "source": [
    "merged2.info()"
   ]
  },
  {
   "cell_type": "code",
   "execution_count": 14,
   "metadata": {},
   "outputs": [
    {
     "name": "stdout",
     "output_type": "stream",
     "text": [
      "<class 'pandas.core.frame.DataFrame'>\n",
      "RangeIndex: 46801 entries, 0 to 46800\n",
      "Data columns (total 27 columns):\n",
      " #   Column             Non-Null Count  Dtype  \n",
      "---  ------             --------------  -----  \n",
      " 0   check_datetime     46067 non-null  object \n",
      " 1   측정일자               46067 non-null  object \n",
      " 2   구역명                46067 non-null  object \n",
      " 3   farm_code          46801 non-null  object \n",
      " 4   내부온도               46067 non-null  float64\n",
      " 5   내부습도               46067 non-null  float64\n",
      " 6   내부CO2              46067 non-null  float64\n",
      " 7   근권온도               46067 non-null  float64\n",
      " 8   내부순간일사량            46067 non-null  float64\n",
      " 9   측정년도               46067 non-null  float64\n",
      " 10  측정월                46067 non-null  float64\n",
      " 11  input_image_name   46801 non-null  object \n",
      " 12  input_image_path   46801 non-null  object \n",
      " 13  img_id             46801 non-null  object \n",
      " 14  area_code          46801 non-null  object \n",
      " 15  shot_datetime      46801 non-null  object \n",
      " 16  count_masks        46801 non-null  float64\n",
      " 17  bbox_image_path    46801 non-null  object \n",
      " 18  before_img_name    46801 non-null  object \n",
      " 19  before_img_id      46801 non-null  object \n",
      " 20  mask_num           46801 non-null  object \n",
      " 21  mask_id            46801 non-null  object \n",
      " 22  point_x            46801 non-null  float64\n",
      " 23  point_y            46801 non-null  float64\n",
      " 24  size               46801 non-null  int64  \n",
      " 25  color              46801 non-null  object \n",
      " 26  output_image_path  46801 non-null  object \n",
      "dtypes: float64(10), int64(1), object(16)\n",
      "memory usage: 9.6+ MB\n"
     ]
    }
   ],
   "source": [
    "merged.drop(columns=['Unnamed: 0'], inplace=True)\n",
    "merged.info()"
   ]
  },
  {
   "cell_type": "code",
   "execution_count": 15,
   "metadata": {},
   "outputs": [],
   "source": [
    "df = pd.concat([merged, merged2])"
   ]
  },
  {
   "cell_type": "code",
   "execution_count": 16,
   "metadata": {},
   "outputs": [
    {
     "name": "stdout",
     "output_type": "stream",
     "text": [
      "<class 'pandas.core.frame.DataFrame'>\n",
      "Index: 134633 entries, 0 to 507030\n",
      "Data columns (total 27 columns):\n",
      " #   Column             Non-Null Count   Dtype  \n",
      "---  ------             --------------   -----  \n",
      " 0   check_datetime     132887 non-null  object \n",
      " 1   측정일자               132887 non-null  object \n",
      " 2   구역명                132887 non-null  object \n",
      " 3   farm_code          134633 non-null  object \n",
      " 4   내부온도               132887 non-null  float64\n",
      " 5   내부습도               132887 non-null  float64\n",
      " 6   내부CO2              132887 non-null  float64\n",
      " 7   근권온도               132887 non-null  float64\n",
      " 8   내부순간일사량            132887 non-null  float64\n",
      " 9   측정년도               132887 non-null  float64\n",
      " 10  측정월                132887 non-null  float64\n",
      " 11  input_image_name   134633 non-null  object \n",
      " 12  input_image_path   134633 non-null  object \n",
      " 13  img_id             134633 non-null  object \n",
      " 14  area_code          134633 non-null  object \n",
      " 15  shot_datetime      134633 non-null  object \n",
      " 16  count_masks        134633 non-null  float64\n",
      " 17  bbox_image_path    134633 non-null  object \n",
      " 18  before_img_name    134633 non-null  object \n",
      " 19  before_img_id      134633 non-null  object \n",
      " 20  mask_num           134330 non-null  object \n",
      " 21  mask_id            134330 non-null  object \n",
      " 22  point_x            134330 non-null  float64\n",
      " 23  point_y            134330 non-null  float64\n",
      " 24  size               134330 non-null  float64\n",
      " 25  color              134328 non-null  object \n",
      " 26  output_image_path  134330 non-null  object \n",
      "dtypes: float64(11), object(16)\n",
      "memory usage: 28.8+ MB\n"
     ]
    }
   ],
   "source": [
    "df.info()"
   ]
  },
  {
   "cell_type": "code",
   "execution_count": 17,
   "metadata": {},
   "outputs": [
    {
     "data": {
      "text/html": [
       "<div>\n",
       "<style scoped>\n",
       "    .dataframe tbody tr th:only-of-type {\n",
       "        vertical-align: middle;\n",
       "    }\n",
       "\n",
       "    .dataframe tbody tr th {\n",
       "        vertical-align: top;\n",
       "    }\n",
       "\n",
       "    .dataframe thead th {\n",
       "        text-align: right;\n",
       "    }\n",
       "</style>\n",
       "<table border=\"1\" class=\"dataframe\">\n",
       "  <thead>\n",
       "    <tr style=\"text-align: right;\">\n",
       "      <th></th>\n",
       "      <th>check_datetime</th>\n",
       "      <th>측정일자</th>\n",
       "      <th>구역명</th>\n",
       "      <th>farm_code</th>\n",
       "      <th>내부온도</th>\n",
       "      <th>내부습도</th>\n",
       "      <th>내부CO2</th>\n",
       "      <th>근권온도</th>\n",
       "      <th>내부순간일사량</th>\n",
       "      <th>측정년도</th>\n",
       "      <th>...</th>\n",
       "      <th>bbox_image_path</th>\n",
       "      <th>before_img_name</th>\n",
       "      <th>before_img_id</th>\n",
       "      <th>mask_num</th>\n",
       "      <th>mask_id</th>\n",
       "      <th>point_x</th>\n",
       "      <th>point_y</th>\n",
       "      <th>size</th>\n",
       "      <th>color</th>\n",
       "      <th>output_image_path</th>\n",
       "    </tr>\n",
       "  </thead>\n",
       "  <tbody>\n",
       "    <tr>\n",
       "      <th>0</th>\n",
       "      <td>2021-09-10 13:00:00</td>\n",
       "      <td>2021-09-10</td>\n",
       "      <td>1구역</td>\n",
       "      <td>F0016</td>\n",
       "      <td>27.52</td>\n",
       "      <td>72.22</td>\n",
       "      <td>467.9</td>\n",
       "      <td>22.51</td>\n",
       "      <td>223.17</td>\n",
       "      <td>2021.0</td>\n",
       "      <td>...</td>\n",
       "      <td>/opt/dlami/nvme/SAM_result/F0016/C101/F0016-C1...</td>\n",
       "      <td>F0016-C101-20210910-075908</td>\n",
       "      <td>283f919417b3c53b4089683ba1cf7ca2</td>\n",
       "      <td>F0016-C101-20210910-125907_0</td>\n",
       "      <td>065e7a9bdd5065fe01976ff3f4f49f03</td>\n",
       "      <td>1132.451172</td>\n",
       "      <td>554.744629</td>\n",
       "      <td>535.0</td>\n",
       "      <td>[[121, 123, 112], [123, 125, 114], [118, 120, ...</td>\n",
       "      <td>image_mask_0.png</td>\n",
       "    </tr>\n",
       "  </tbody>\n",
       "</table>\n",
       "<p>1 rows × 27 columns</p>\n",
       "</div>"
      ],
      "text/plain": [
       "        check_datetime        측정일자  구역명 farm_code   내부온도   내부습도  내부CO2   근권온도  \\\n",
       "0  2021-09-10 13:00:00  2021-09-10  1구역     F0016  27.52  72.22  467.9  22.51   \n",
       "\n",
       "   내부순간일사량    측정년도  ...                                    bbox_image_path  \\\n",
       "0   223.17  2021.0  ...  /opt/dlami/nvme/SAM_result/F0016/C101/F0016-C1...   \n",
       "\n",
       "              before_img_name                     before_img_id  \\\n",
       "0  F0016-C101-20210910-075908  283f919417b3c53b4089683ba1cf7ca2   \n",
       "\n",
       "                       mask_num                           mask_id  \\\n",
       "0  F0016-C101-20210910-125907_0  065e7a9bdd5065fe01976ff3f4f49f03   \n",
       "\n",
       "       point_x     point_y   size  \\\n",
       "0  1132.451172  554.744629  535.0   \n",
       "\n",
       "                                               color output_image_path  \n",
       "0  [[121, 123, 112], [123, 125, 114], [118, 120, ...  image_mask_0.png  \n",
       "\n",
       "[1 rows x 27 columns]"
      ]
     },
     "execution_count": 17,
     "metadata": {},
     "output_type": "execute_result"
    }
   ],
   "source": [
    "df.head(1)"
   ]
  },
  {
   "cell_type": "code",
   "execution_count": 18,
   "metadata": {},
   "outputs": [
    {
     "name": "stderr",
     "output_type": "stream",
     "text": [
      "/tmp/ipykernel_70708/3872303807.py:1: FutureWarning: A value is trying to be set on a copy of a DataFrame or Series through chained assignment using an inplace method.\n",
      "The behavior will change in pandas 3.0. This inplace method will never work because the intermediate object on which we are setting values always behaves as a copy.\n",
      "\n",
      "For example, when doing 'df[col].method(value, inplace=True)', try using 'df.method({col: value}, inplace=True)' or df[col] = df[col].method(value) instead, to perform the operation inplace on the original object.\n",
      "\n",
      "\n",
      "  df['구역명'].fillna('1구역', inplace=True)\n"
     ]
    }
   ],
   "source": [
    "df['구역명'].fillna('1구역', inplace=True)"
   ]
  },
  {
   "cell_type": "code",
   "execution_count": 19,
   "metadata": {},
   "outputs": [
    {
     "name": "stdout",
     "output_type": "stream",
     "text": [
      "<class 'pandas.core.frame.DataFrame'>\n",
      "Index: 134633 entries, 0 to 507030\n",
      "Data columns (total 27 columns):\n",
      " #   Column             Non-Null Count   Dtype  \n",
      "---  ------             --------------   -----  \n",
      " 0   check_datetime     132887 non-null  object \n",
      " 1   측정일자               132887 non-null  object \n",
      " 2   구역명                134633 non-null  object \n",
      " 3   farm_code          134633 non-null  object \n",
      " 4   내부온도               132887 non-null  float64\n",
      " 5   내부습도               132887 non-null  float64\n",
      " 6   내부CO2              132887 non-null  float64\n",
      " 7   근권온도               132887 non-null  float64\n",
      " 8   내부순간일사량            132887 non-null  float64\n",
      " 9   측정년도               132887 non-null  float64\n",
      " 10  측정월                132887 non-null  float64\n",
      " 11  input_image_name   134633 non-null  object \n",
      " 12  input_image_path   134633 non-null  object \n",
      " 13  img_id             134633 non-null  object \n",
      " 14  area_code          134633 non-null  object \n",
      " 15  shot_datetime      134633 non-null  object \n",
      " 16  count_masks        134633 non-null  float64\n",
      " 17  bbox_image_path    134633 non-null  object \n",
      " 18  before_img_name    134633 non-null  object \n",
      " 19  before_img_id      134633 non-null  object \n",
      " 20  mask_num           134330 non-null  object \n",
      " 21  mask_id            134330 non-null  object \n",
      " 22  point_x            134330 non-null  float64\n",
      " 23  point_y            134330 non-null  float64\n",
      " 24  size               134330 non-null  float64\n",
      " 25  color              134328 non-null  object \n",
      " 26  output_image_path  134330 non-null  object \n",
      "dtypes: float64(11), object(16)\n",
      "memory usage: 28.8+ MB\n"
     ]
    }
   ],
   "source": [
    "df.info()"
   ]
  },
  {
   "cell_type": "code",
   "execution_count": 20,
   "metadata": {},
   "outputs": [
    {
     "data": {
      "text/plain": [
       "0         F0016-C101-20210910-125907\n",
       "1         F0016-C101-20210910-125907\n",
       "2         F0016-C101-20210910-165907\n",
       "3         F0016-C101-20210910-165907\n",
       "4         F0016-C101-20210910-165907\n",
       "                     ...            \n",
       "507026    F0017-C101-20240403-084305\n",
       "507027    F0017-C101-20240403-084305\n",
       "507028    F0017-C101-20240403-084305\n",
       "507029    F0017-C101-20240403-084305\n",
       "507030    F0017-C101-20240403-084305\n",
       "Name: input_image_name, Length: 134633, dtype: object"
      ]
     },
     "execution_count": 20,
     "metadata": {},
     "output_type": "execute_result"
    }
   ],
   "source": [
    "df['input_image_name']"
   ]
  },
  {
   "cell_type": "code",
   "execution_count": 21,
   "metadata": {},
   "outputs": [
    {
     "data": {
      "text/plain": [
       "0         2021-09-10\n",
       "1         2021-09-10\n",
       "2         2021-09-10\n",
       "3         2021-09-10\n",
       "4         2021-09-10\n",
       "             ...    \n",
       "507026           NaN\n",
       "507027           NaN\n",
       "507028           NaN\n",
       "507029           NaN\n",
       "507030           NaN\n",
       "Name: 측정일자, Length: 134633, dtype: object"
      ]
     },
     "execution_count": 21,
     "metadata": {},
     "output_type": "execute_result"
    }
   ],
   "source": [
    "df['측정일자']"
   ]
  },
  {
   "cell_type": "code",
   "execution_count": 22,
   "metadata": {},
   "outputs": [],
   "source": [
    "# input_image_name에서 날짜 추출 및 변환 함수 정의\n",
    "def extract_date(image_name):\n",
    "    date_str = image_name.split('-')[2]  # '-'를 기준으로 나누고 세 번째 요소 추출\n",
    "    return f\"{date_str[:4]}-{date_str[4:6]}-{date_str[6:8]}\"\n",
    "\n",
    "# 측정일자가 NaN인 행에 대해 작업 수행\n",
    "nan_indices = df[df['측정일자'].isna()].index\n",
    "for idx in nan_indices:\n",
    "    image_name = df.at[idx, 'input_image_name']\n",
    "    date = extract_date(image_name)\n",
    "    df.at[idx, '측정일자'] = date  # 문자열 형태로 저장"
   ]
  },
  {
   "cell_type": "code",
   "execution_count": 23,
   "metadata": {},
   "outputs": [
    {
     "data": {
      "text/plain": [
       "0         2021-09-10\n",
       "1         2021-09-10\n",
       "2         2021-09-10\n",
       "3         2021-09-10\n",
       "4         2021-09-10\n",
       "             ...    \n",
       "507026    2024-04-03\n",
       "507027    2024-04-03\n",
       "507028    2024-04-03\n",
       "507029    2024-04-03\n",
       "507030    2024-04-03\n",
       "Name: 측정일자, Length: 134633, dtype: object"
      ]
     },
     "execution_count": 23,
     "metadata": {},
     "output_type": "execute_result"
    }
   ],
   "source": [
    "df['측정일자']"
   ]
  },
  {
   "cell_type": "code",
   "execution_count": 24,
   "metadata": {},
   "outputs": [
    {
     "data": {
      "text/plain": [
       "0         2021.0\n",
       "1         2021.0\n",
       "2         2021.0\n",
       "3         2021.0\n",
       "4         2021.0\n",
       "           ...  \n",
       "507026       NaN\n",
       "507027       NaN\n",
       "507028       NaN\n",
       "507029       NaN\n",
       "507030       NaN\n",
       "Name: 측정년도, Length: 134633, dtype: float64"
      ]
     },
     "execution_count": 24,
     "metadata": {},
     "output_type": "execute_result"
    }
   ],
   "source": [
    "df['측정년도']"
   ]
  },
  {
   "cell_type": "code",
   "execution_count": 25,
   "metadata": {},
   "outputs": [],
   "source": [
    "def extract_date(image_name):\n",
    "    date_str = image_name.split('-')[2]  # '-'를 기준으로 나누고 세 번째 요소 추출\n",
    "    return f\"{date_str[:4]}-{date_str[4:6]}-{date_str[6:8]}\"\n",
    "\n",
    "# 측정일자가 NaN인 행에 대해 작업 수행\n",
    "nan_indices = df[df['측정년도'].isna()].index\n",
    "for idx in nan_indices:\n",
    "    image_name = df.at[idx, 'input_image_name']\n",
    "    date = extract_date(image_name)\n",
    "    year = int(date.split('-')[0])  # 연도 추출 및 정수형으로 변환\n",
    "    df.at[idx, '측정년도'] = float(year)  # float 형태로 저장"
   ]
  },
  {
   "cell_type": "code",
   "execution_count": 26,
   "metadata": {},
   "outputs": [
    {
     "data": {
      "text/plain": [
       "0         2021.0\n",
       "1         2021.0\n",
       "2         2021.0\n",
       "3         2021.0\n",
       "4         2021.0\n",
       "           ...  \n",
       "507026    2024.0\n",
       "507027    2024.0\n",
       "507028    2024.0\n",
       "507029    2024.0\n",
       "507030    2024.0\n",
       "Name: 측정년도, Length: 134633, dtype: float64"
      ]
     },
     "execution_count": 26,
     "metadata": {},
     "output_type": "execute_result"
    }
   ],
   "source": [
    "df['측정년도']"
   ]
  },
  {
   "cell_type": "code",
   "execution_count": 27,
   "metadata": {},
   "outputs": [
    {
     "data": {
      "text/plain": [
       "0         9.0\n",
       "1         9.0\n",
       "2         9.0\n",
       "3         9.0\n",
       "4         9.0\n",
       "         ... \n",
       "507026    NaN\n",
       "507027    NaN\n",
       "507028    NaN\n",
       "507029    NaN\n",
       "507030    NaN\n",
       "Name: 측정월, Length: 134633, dtype: float64"
      ]
     },
     "execution_count": 27,
     "metadata": {},
     "output_type": "execute_result"
    }
   ],
   "source": [
    "df['측정월']"
   ]
  },
  {
   "cell_type": "code",
   "execution_count": 28,
   "metadata": {},
   "outputs": [],
   "source": [
    "# input_image_name에서 날짜 추출 함수 정의\n",
    "def extract_date(image_name):\n",
    "    date_str = image_name.split('-')[2]  # '-'를 기준으로 나누고 세 번째 요소 추출\n",
    "    return f\"{date_str[:4]}-{date_str[4:6]}-{date_str[6:8]}\"\n",
    "\n",
    "# 측정일자가 NaN인 행에 대해 작업 수행\n",
    "nan_indices = df[df['측정월'].isna()].index\n",
    "for idx in nan_indices:\n",
    "    image_name = df.at[idx, 'input_image_name']\n",
    "    date = extract_date(image_name)\n",
    "    year, month, _ = map(int, date.split('-'))  # 연도와 월 추출 및 정수형으로 변환\n",
    "    df.at[idx, '측정년도'] = float(year)  # float 형태로 저장\n",
    "    df.at[idx, '측정월'] = float(month)  # float 형태로 저장"
   ]
  },
  {
   "cell_type": "code",
   "execution_count": 29,
   "metadata": {},
   "outputs": [
    {
     "data": {
      "text/plain": [
       "0         9.0\n",
       "1         9.0\n",
       "2         9.0\n",
       "3         9.0\n",
       "4         9.0\n",
       "         ... \n",
       "507026    4.0\n",
       "507027    4.0\n",
       "507028    4.0\n",
       "507029    4.0\n",
       "507030    4.0\n",
       "Name: 측정월, Length: 134633, dtype: float64"
      ]
     },
     "execution_count": 29,
     "metadata": {},
     "output_type": "execute_result"
    }
   ],
   "source": [
    "df['측정월']"
   ]
  },
  {
   "cell_type": "code",
   "execution_count": 30,
   "metadata": {},
   "outputs": [
    {
     "name": "stdout",
     "output_type": "stream",
     "text": [
      "<class 'pandas.core.frame.DataFrame'>\n",
      "Index: 134633 entries, 0 to 507030\n",
      "Data columns (total 27 columns):\n",
      " #   Column             Non-Null Count   Dtype  \n",
      "---  ------             --------------   -----  \n",
      " 0   check_datetime     132887 non-null  object \n",
      " 1   측정일자               134633 non-null  object \n",
      " 2   구역명                134633 non-null  object \n",
      " 3   farm_code          134633 non-null  object \n",
      " 4   내부온도               132887 non-null  float64\n",
      " 5   내부습도               132887 non-null  float64\n",
      " 6   내부CO2              132887 non-null  float64\n",
      " 7   근권온도               132887 non-null  float64\n",
      " 8   내부순간일사량            132887 non-null  float64\n",
      " 9   측정년도               134633 non-null  float64\n",
      " 10  측정월                134633 non-null  float64\n",
      " 11  input_image_name   134633 non-null  object \n",
      " 12  input_image_path   134633 non-null  object \n",
      " 13  img_id             134633 non-null  object \n",
      " 14  area_code          134633 non-null  object \n",
      " 15  shot_datetime      134633 non-null  object \n",
      " 16  count_masks        134633 non-null  float64\n",
      " 17  bbox_image_path    134633 non-null  object \n",
      " 18  before_img_name    134633 non-null  object \n",
      " 19  before_img_id      134633 non-null  object \n",
      " 20  mask_num           134330 non-null  object \n",
      " 21  mask_id            134330 non-null  object \n",
      " 22  point_x            134330 non-null  float64\n",
      " 23  point_y            134330 non-null  float64\n",
      " 24  size               134330 non-null  float64\n",
      " 25  color              134328 non-null  object \n",
      " 26  output_image_path  134330 non-null  object \n",
      "dtypes: float64(11), object(16)\n",
      "memory usage: 32.8+ MB\n"
     ]
    }
   ],
   "source": [
    "df.info()"
   ]
  },
  {
   "cell_type": "code",
   "execution_count": 31,
   "metadata": {},
   "outputs": [
    {
     "data": {
      "text/plain": [
       "0         2021-09-10 13:00:00\n",
       "1         2021-09-10 13:00:00\n",
       "2         2021-09-10 17:00:00\n",
       "3         2021-09-10 17:00:00\n",
       "4         2021-09-10 17:00:00\n",
       "                 ...         \n",
       "507026                    NaN\n",
       "507027                    NaN\n",
       "507028                    NaN\n",
       "507029                    NaN\n",
       "507030                    NaN\n",
       "Name: check_datetime, Length: 134633, dtype: object"
      ]
     },
     "execution_count": 31,
     "metadata": {},
     "output_type": "execute_result"
    }
   ],
   "source": [
    "df['check_datetime']"
   ]
  },
  {
   "cell_type": "code",
   "execution_count": 32,
   "metadata": {},
   "outputs": [
    {
     "data": {
      "text/html": [
       "<div>\n",
       "<style scoped>\n",
       "    .dataframe tbody tr th:only-of-type {\n",
       "        vertical-align: middle;\n",
       "    }\n",
       "\n",
       "    .dataframe tbody tr th {\n",
       "        vertical-align: top;\n",
       "    }\n",
       "\n",
       "    .dataframe thead th {\n",
       "        text-align: right;\n",
       "    }\n",
       "</style>\n",
       "<table border=\"1\" class=\"dataframe\">\n",
       "  <thead>\n",
       "    <tr style=\"text-align: right;\">\n",
       "      <th></th>\n",
       "      <th>check_datetime</th>\n",
       "      <th>측정일자</th>\n",
       "      <th>구역명</th>\n",
       "      <th>farm_code</th>\n",
       "      <th>내부온도</th>\n",
       "      <th>내부습도</th>\n",
       "      <th>내부CO2</th>\n",
       "      <th>근권온도</th>\n",
       "      <th>내부순간일사량</th>\n",
       "      <th>측정년도</th>\n",
       "      <th>...</th>\n",
       "      <th>bbox_image_path</th>\n",
       "      <th>before_img_name</th>\n",
       "      <th>before_img_id</th>\n",
       "      <th>mask_num</th>\n",
       "      <th>mask_id</th>\n",
       "      <th>point_x</th>\n",
       "      <th>point_y</th>\n",
       "      <th>size</th>\n",
       "      <th>color</th>\n",
       "      <th>output_image_path</th>\n",
       "    </tr>\n",
       "  </thead>\n",
       "  <tbody>\n",
       "    <tr>\n",
       "      <th>0</th>\n",
       "      <td>2021-09-10 13:00:00</td>\n",
       "      <td>2021-09-10</td>\n",
       "      <td>1구역</td>\n",
       "      <td>F0016</td>\n",
       "      <td>27.52</td>\n",
       "      <td>72.22</td>\n",
       "      <td>467.9</td>\n",
       "      <td>22.51</td>\n",
       "      <td>223.17</td>\n",
       "      <td>2021.0</td>\n",
       "      <td>...</td>\n",
       "      <td>/opt/dlami/nvme/SAM_result/F0016/C101/F0016-C1...</td>\n",
       "      <td>F0016-C101-20210910-075908</td>\n",
       "      <td>283f919417b3c53b4089683ba1cf7ca2</td>\n",
       "      <td>F0016-C101-20210910-125907_0</td>\n",
       "      <td>065e7a9bdd5065fe01976ff3f4f49f03</td>\n",
       "      <td>1132.451172</td>\n",
       "      <td>554.744629</td>\n",
       "      <td>535.0</td>\n",
       "      <td>[[121, 123, 112], [123, 125, 114], [118, 120, ...</td>\n",
       "      <td>image_mask_0.png</td>\n",
       "    </tr>\n",
       "  </tbody>\n",
       "</table>\n",
       "<p>1 rows × 27 columns</p>\n",
       "</div>"
      ],
      "text/plain": [
       "        check_datetime        측정일자  구역명 farm_code   내부온도   내부습도  내부CO2   근권온도  \\\n",
       "0  2021-09-10 13:00:00  2021-09-10  1구역     F0016  27.52  72.22  467.9  22.51   \n",
       "\n",
       "   내부순간일사량    측정년도  ...                                    bbox_image_path  \\\n",
       "0   223.17  2021.0  ...  /opt/dlami/nvme/SAM_result/F0016/C101/F0016-C1...   \n",
       "\n",
       "              before_img_name                     before_img_id  \\\n",
       "0  F0016-C101-20210910-075908  283f919417b3c53b4089683ba1cf7ca2   \n",
       "\n",
       "                       mask_num                           mask_id  \\\n",
       "0  F0016-C101-20210910-125907_0  065e7a9bdd5065fe01976ff3f4f49f03   \n",
       "\n",
       "       point_x     point_y   size  \\\n",
       "0  1132.451172  554.744629  535.0   \n",
       "\n",
       "                                               color output_image_path  \n",
       "0  [[121, 123, 112], [123, 125, 114], [118, 120, ...  image_mask_0.png  \n",
       "\n",
       "[1 rows x 27 columns]"
      ]
     },
     "execution_count": 32,
     "metadata": {},
     "output_type": "execute_result"
    }
   ],
   "source": [
    "df.head(1)"
   ]
  },
  {
   "cell_type": "code",
   "execution_count": 36,
   "metadata": {},
   "outputs": [],
   "source": [
    "# input_image_name에서 날짜 추출 함수 정의\n",
    "def extract_date(image_name):\n",
    "    date_str = image_name.split('-')[2]  # '-'를 기준으로 나누고 세 번째 요소 추출\n",
    "    time_str = image_name.split('-')[3]  # '-'를 기준으로 나누고 세 번째 요소 추출\n",
    "    return f\"{date_str[:4]}-{date_str[4:6]}-{date_str[6:8]} {time_str[:2]}:{time_str[2:4]}:{time_str[4:6]}\"\n",
    "\n",
    "# 측정일자가 NaN인 행에 대해 작업 수행\n",
    "nan_indices = df[df['check_datetime'].isna()].index\n",
    "for idx in nan_indices:\n",
    "    image_name = df.at[idx, 'input_image_name']\n",
    "    date = extract_date(image_name)\n",
    "    df.at[idx, 'check_datetime'] = pd.to_datetime(f\"{date}\")  # 문자열 형태로 저장"
   ]
  },
  {
   "cell_type": "code",
   "execution_count": 38,
   "metadata": {},
   "outputs": [
    {
     "name": "stdout",
     "output_type": "stream",
     "text": [
      "             check_datetime        측정일자  구역명 farm_code   내부온도   내부습도  내부CO2  \\\n",
      "0       2021-09-10 13:00:00  2021-09-10  1구역     F0016  27.52  72.22  467.9   \n",
      "1       2021-09-10 13:00:00  2021-09-10  1구역     F0016  27.52  72.22  467.9   \n",
      "2       2021-09-10 17:00:00  2021-09-10  1구역     F0016  27.02  71.23  463.1   \n",
      "3       2021-09-10 17:00:00  2021-09-10  1구역     F0016  27.02  71.23  463.1   \n",
      "4       2021-09-10 17:00:00  2021-09-10  1구역     F0016  27.02  71.23  463.1   \n",
      "...                     ...         ...  ...       ...    ...    ...    ...   \n",
      "507026  2024-04-03 08:43:05  2024-04-03  1구역     F0017    NaN    NaN    NaN   \n",
      "507027  2024-04-03 08:43:05  2024-04-03  1구역     F0017    NaN    NaN    NaN   \n",
      "507028  2024-04-03 08:43:05  2024-04-03  1구역     F0017    NaN    NaN    NaN   \n",
      "507029  2024-04-03 08:43:05  2024-04-03  1구역     F0017    NaN    NaN    NaN   \n",
      "507030  2024-04-03 08:43:05  2024-04-03  1구역     F0017    NaN    NaN    NaN   \n",
      "\n",
      "         근권온도  내부순간일사량    측정년도  ...  \\\n",
      "0       22.51   223.17  2021.0  ...   \n",
      "1       22.51   223.17  2021.0  ...   \n",
      "2       23.77   102.75  2021.0  ...   \n",
      "3       23.77   102.75  2021.0  ...   \n",
      "4       23.77   102.75  2021.0  ...   \n",
      "...       ...      ...     ...  ...   \n",
      "507026    NaN      NaN  2024.0  ...   \n",
      "507027    NaN      NaN  2024.0  ...   \n",
      "507028    NaN      NaN  2024.0  ...   \n",
      "507029    NaN      NaN  2024.0  ...   \n",
      "507030    NaN      NaN  2024.0  ...   \n",
      "\n",
      "                                          bbox_image_path  \\\n",
      "0       /opt/dlami/nvme/SAM_result/F0016/C101/F0016-C1...   \n",
      "1       /opt/dlami/nvme/SAM_result/F0016/C101/F0016-C1...   \n",
      "2       /opt/dlami/nvme/SAM_result/F0016/C101/F0016-C1...   \n",
      "3       /opt/dlami/nvme/SAM_result/F0016/C101/F0016-C1...   \n",
      "4       /opt/dlami/nvme/SAM_result/F0016/C101/F0016-C1...   \n",
      "...                                                   ...   \n",
      "507026  /opt/dlami/nvme/SAM_result/F0017/C101/F0017-C1...   \n",
      "507027  /opt/dlami/nvme/SAM_result/F0017/C101/F0017-C1...   \n",
      "507028  /opt/dlami/nvme/SAM_result/F0017/C101/F0017-C1...   \n",
      "507029  /opt/dlami/nvme/SAM_result/F0017/C101/F0017-C1...   \n",
      "507030  /opt/dlami/nvme/SAM_result/F0017/C101/F0017-C1...   \n",
      "\n",
      "                   before_img_name                     before_img_id  \\\n",
      "0       F0016-C101-20210910-075908  283f919417b3c53b4089683ba1cf7ca2   \n",
      "1       F0016-C101-20210910-075908  283f919417b3c53b4089683ba1cf7ca2   \n",
      "2       F0016-C101-20210910-125907  d45f2f28bf7fb63dda831452e8442386   \n",
      "3       F0016-C101-20210910-125907  d45f2f28bf7fb63dda831452e8442386   \n",
      "4       F0016-C101-20210910-125907  d45f2f28bf7fb63dda831452e8442386   \n",
      "...                            ...                               ...   \n",
      "507026  F0017-C101-20240402-164303  ba95ddd91989d89d1364ae7c7b32d2e2   \n",
      "507027  F0017-C101-20240402-164303  ba95ddd91989d89d1364ae7c7b32d2e2   \n",
      "507028  F0017-C101-20240402-164303  ba95ddd91989d89d1364ae7c7b32d2e2   \n",
      "507029  F0017-C101-20240402-164303  ba95ddd91989d89d1364ae7c7b32d2e2   \n",
      "507030  F0017-C101-20240402-164303  ba95ddd91989d89d1364ae7c7b32d2e2   \n",
      "\n",
      "                             mask_num                           mask_id  \\\n",
      "0        F0016-C101-20210910-125907_0  065e7a9bdd5065fe01976ff3f4f49f03   \n",
      "1        F0016-C101-20210910-125907_1  c8f4ef001e5f686be96b1cb1bb68f68d   \n",
      "2        F0016-C101-20210910-165907_0  065e7a9bdd5065fe01976ff3f4f49f03   \n",
      "3        F0016-C101-20210910-165907_1  3cf79ada342fb0b16364c9ea6d703f9f   \n",
      "4        F0016-C101-20210910-165907_2  fd48e0393a4d25876b5fb82e9571361e   \n",
      "...                               ...                               ...   \n",
      "507026  F0017-C101-20240403-084305_32  d9f02da95f8e037bf0c7e8d7889b9b73   \n",
      "507027  F0017-C101-20240403-084305_33  82e6f24564dc5c31feb126d306889617   \n",
      "507028  F0017-C101-20240403-084305_34  82e6f24564dc5c31feb126d306889617   \n",
      "507029  F0017-C101-20240403-084305_35  55819b451a7bd041c7727d3e27b30608   \n",
      "507030  F0017-C101-20240403-084305_36  76366579ea8063fa5e450b20b01b7ccf   \n",
      "\n",
      "            point_x     point_y     size  \\\n",
      "0       1132.451172  554.744629    535.0   \n",
      "1        880.826233  100.000298  37040.0   \n",
      "2       1136.085205  556.137573    576.0   \n",
      "3        771.131104  102.249115  20098.0   \n",
      "4        902.543579  109.905945  22199.0   \n",
      "...             ...         ...      ...   \n",
      "507026   696.770691  919.146118    638.0   \n",
      "507027   805.770020  907.664185    712.0   \n",
      "507028   808.861450  912.967590   2256.0   \n",
      "507029  1346.452881  749.191772   3529.0   \n",
      "507030  1312.344727  908.888794    958.0   \n",
      "\n",
      "                                                    color  output_image_path  \n",
      "0       [[121, 123, 112], [123, 125, 114], [118, 120, ...   image_mask_0.png  \n",
      "1       [[54, 63, 44], [88, 97, 76], [82, 91, 70], [85...   image_mask_1.png  \n",
      "2       [[70, 71, 65], [68, 69, 63], [63, 64, 58], [49...   image_mask_0.png  \n",
      "3       [[22, 24, 10], [27, 30, 11], [42, 45, 24], [35...   image_mask_1.png  \n",
      "4       [[97, 93, 92], [80, 79, 77], [85, 84, 80], [83...   image_mask_2.png  \n",
      "...                                                   ...                ...  \n",
      "507026  [[130, 147, 137], [85, 102, 92], [57, 74, 64],...  image_mask_32.png  \n",
      "507027  [[126, 151, 121], [113, 138, 108], [83, 108, 7...  image_mask_33.png  \n",
      "507028  [[133, 154, 145], [120, 145, 115], [126, 151, ...  image_mask_34.png  \n",
      "507029  [[147, 162, 119], [138, 153, 110], [135, 150, ...  image_mask_35.png  \n",
      "507030  [[76, 78, 64], [76, 78, 64], [72, 74, 60], [67...  image_mask_36.png  \n",
      "\n",
      "[134633 rows x 27 columns]\n"
     ]
    }
   ],
   "source": [
    "df['check_datetime'] = df['check_datetime'].astype(str)\n",
    "\n",
    "print(df)"
   ]
  },
  {
   "cell_type": "code",
   "execution_count": 39,
   "metadata": {},
   "outputs": [],
   "source": [
    "df['측정년도'] = df['측정년도'].astype('Int64')\n",
    "df['측정월'] = df['측정월'].astype('Int64')"
   ]
  },
  {
   "cell_type": "code",
   "execution_count": 40,
   "metadata": {},
   "outputs": [
    {
     "name": "stdout",
     "output_type": "stream",
     "text": [
      "<class 'pandas.core.frame.DataFrame'>\n",
      "Index: 134633 entries, 0 to 507030\n",
      "Data columns (total 27 columns):\n",
      " #   Column             Non-Null Count   Dtype  \n",
      "---  ------             --------------   -----  \n",
      " 0   check_datetime     134633 non-null  object \n",
      " 1   측정일자               134633 non-null  object \n",
      " 2   구역명                134633 non-null  object \n",
      " 3   farm_code          134633 non-null  object \n",
      " 4   내부온도               132887 non-null  float64\n",
      " 5   내부습도               132887 non-null  float64\n",
      " 6   내부CO2              132887 non-null  float64\n",
      " 7   근권온도               132887 non-null  float64\n",
      " 8   내부순간일사량            132887 non-null  float64\n",
      " 9   측정년도               134633 non-null  Int64  \n",
      " 10  측정월                134633 non-null  Int64  \n",
      " 11  input_image_name   134633 non-null  object \n",
      " 12  input_image_path   134633 non-null  object \n",
      " 13  img_id             134633 non-null  object \n",
      " 14  area_code          134633 non-null  object \n",
      " 15  shot_datetime      134633 non-null  object \n",
      " 16  count_masks        134633 non-null  float64\n",
      " 17  bbox_image_path    134633 non-null  object \n",
      " 18  before_img_name    134633 non-null  object \n",
      " 19  before_img_id      134633 non-null  object \n",
      " 20  mask_num           134330 non-null  object \n",
      " 21  mask_id            134330 non-null  object \n",
      " 22  point_x            134330 non-null  float64\n",
      " 23  point_y            134330 non-null  float64\n",
      " 24  size               134330 non-null  float64\n",
      " 25  color              134328 non-null  object \n",
      " 26  output_image_path  134330 non-null  object \n",
      "dtypes: Int64(2), float64(9), object(16)\n",
      "memory usage: 33.0+ MB\n"
     ]
    }
   ],
   "source": [
    "df.info()"
   ]
  },
  {
   "cell_type": "code",
   "execution_count": 42,
   "metadata": {},
   "outputs": [],
   "source": [
    "# CSV 파일로 내보내기\n",
    "output_path = \"/home/ubuntu/drive/EDA/real_real_final.csv\"\n",
    "df.to_csv(output_path, encoding='utf-8', index=False)"
   ]
  },
  {
   "cell_type": "code",
   "execution_count": 43,
   "metadata": {},
   "outputs": [
    {
     "data": {
      "text/html": [
       "<div>\n",
       "<style scoped>\n",
       "    .dataframe tbody tr th:only-of-type {\n",
       "        vertical-align: middle;\n",
       "    }\n",
       "\n",
       "    .dataframe tbody tr th {\n",
       "        vertical-align: top;\n",
       "    }\n",
       "\n",
       "    .dataframe thead th {\n",
       "        text-align: right;\n",
       "    }\n",
       "</style>\n",
       "<table border=\"1\" class=\"dataframe\">\n",
       "  <thead>\n",
       "    <tr style=\"text-align: right;\">\n",
       "      <th></th>\n",
       "      <th>check_datetime</th>\n",
       "      <th>측정일자</th>\n",
       "      <th>구역명</th>\n",
       "      <th>farm_code</th>\n",
       "      <th>내부온도</th>\n",
       "      <th>내부습도</th>\n",
       "      <th>내부CO2</th>\n",
       "      <th>근권온도</th>\n",
       "      <th>내부순간일사량</th>\n",
       "      <th>측정년도</th>\n",
       "      <th>...</th>\n",
       "      <th>bbox_image_path</th>\n",
       "      <th>before_img_name</th>\n",
       "      <th>before_img_id</th>\n",
       "      <th>mask_num</th>\n",
       "      <th>mask_id</th>\n",
       "      <th>point_x</th>\n",
       "      <th>point_y</th>\n",
       "      <th>size</th>\n",
       "      <th>color</th>\n",
       "      <th>output_image_path</th>\n",
       "    </tr>\n",
       "  </thead>\n",
       "  <tbody>\n",
       "    <tr>\n",
       "      <th>0</th>\n",
       "      <td>2021-09-10 13:00:00</td>\n",
       "      <td>2021-09-10</td>\n",
       "      <td>1구역</td>\n",
       "      <td>F0016</td>\n",
       "      <td>27.52</td>\n",
       "      <td>72.22</td>\n",
       "      <td>467.9</td>\n",
       "      <td>22.51</td>\n",
       "      <td>223.17</td>\n",
       "      <td>2021</td>\n",
       "      <td>...</td>\n",
       "      <td>/opt/dlami/nvme/SAM_result/F0016/C101/F0016-C1...</td>\n",
       "      <td>F0016-C101-20210910-075908</td>\n",
       "      <td>283f919417b3c53b4089683ba1cf7ca2</td>\n",
       "      <td>F0016-C101-20210910-125907_0</td>\n",
       "      <td>065e7a9bdd5065fe01976ff3f4f49f03</td>\n",
       "      <td>1132.451172</td>\n",
       "      <td>554.744629</td>\n",
       "      <td>535.0</td>\n",
       "      <td>[[121, 123, 112], [123, 125, 114], [118, 120, ...</td>\n",
       "      <td>image_mask_0.png</td>\n",
       "    </tr>\n",
       "    <tr>\n",
       "      <th>1</th>\n",
       "      <td>2021-09-10 13:00:00</td>\n",
       "      <td>2021-09-10</td>\n",
       "      <td>1구역</td>\n",
       "      <td>F0016</td>\n",
       "      <td>27.52</td>\n",
       "      <td>72.22</td>\n",
       "      <td>467.9</td>\n",
       "      <td>22.51</td>\n",
       "      <td>223.17</td>\n",
       "      <td>2021</td>\n",
       "      <td>...</td>\n",
       "      <td>/opt/dlami/nvme/SAM_result/F0016/C101/F0016-C1...</td>\n",
       "      <td>F0016-C101-20210910-075908</td>\n",
       "      <td>283f919417b3c53b4089683ba1cf7ca2</td>\n",
       "      <td>F0016-C101-20210910-125907_1</td>\n",
       "      <td>c8f4ef001e5f686be96b1cb1bb68f68d</td>\n",
       "      <td>880.826233</td>\n",
       "      <td>100.000298</td>\n",
       "      <td>37040.0</td>\n",
       "      <td>[[54, 63, 44], [88, 97, 76], [82, 91, 70], [85...</td>\n",
       "      <td>image_mask_1.png</td>\n",
       "    </tr>\n",
       "    <tr>\n",
       "      <th>2</th>\n",
       "      <td>2021-09-10 17:00:00</td>\n",
       "      <td>2021-09-10</td>\n",
       "      <td>1구역</td>\n",
       "      <td>F0016</td>\n",
       "      <td>27.02</td>\n",
       "      <td>71.23</td>\n",
       "      <td>463.1</td>\n",
       "      <td>23.77</td>\n",
       "      <td>102.75</td>\n",
       "      <td>2021</td>\n",
       "      <td>...</td>\n",
       "      <td>/opt/dlami/nvme/SAM_result/F0016/C101/F0016-C1...</td>\n",
       "      <td>F0016-C101-20210910-125907</td>\n",
       "      <td>d45f2f28bf7fb63dda831452e8442386</td>\n",
       "      <td>F0016-C101-20210910-165907_0</td>\n",
       "      <td>065e7a9bdd5065fe01976ff3f4f49f03</td>\n",
       "      <td>1136.085205</td>\n",
       "      <td>556.137573</td>\n",
       "      <td>576.0</td>\n",
       "      <td>[[70, 71, 65], [68, 69, 63], [63, 64, 58], [49...</td>\n",
       "      <td>image_mask_0.png</td>\n",
       "    </tr>\n",
       "    <tr>\n",
       "      <th>3</th>\n",
       "      <td>2021-09-10 17:00:00</td>\n",
       "      <td>2021-09-10</td>\n",
       "      <td>1구역</td>\n",
       "      <td>F0016</td>\n",
       "      <td>27.02</td>\n",
       "      <td>71.23</td>\n",
       "      <td>463.1</td>\n",
       "      <td>23.77</td>\n",
       "      <td>102.75</td>\n",
       "      <td>2021</td>\n",
       "      <td>...</td>\n",
       "      <td>/opt/dlami/nvme/SAM_result/F0016/C101/F0016-C1...</td>\n",
       "      <td>F0016-C101-20210910-125907</td>\n",
       "      <td>d45f2f28bf7fb63dda831452e8442386</td>\n",
       "      <td>F0016-C101-20210910-165907_1</td>\n",
       "      <td>3cf79ada342fb0b16364c9ea6d703f9f</td>\n",
       "      <td>771.131104</td>\n",
       "      <td>102.249115</td>\n",
       "      <td>20098.0</td>\n",
       "      <td>[[22, 24, 10], [27, 30, 11], [42, 45, 24], [35...</td>\n",
       "      <td>image_mask_1.png</td>\n",
       "    </tr>\n",
       "    <tr>\n",
       "      <th>4</th>\n",
       "      <td>2021-09-10 17:00:00</td>\n",
       "      <td>2021-09-10</td>\n",
       "      <td>1구역</td>\n",
       "      <td>F0016</td>\n",
       "      <td>27.02</td>\n",
       "      <td>71.23</td>\n",
       "      <td>463.1</td>\n",
       "      <td>23.77</td>\n",
       "      <td>102.75</td>\n",
       "      <td>2021</td>\n",
       "      <td>...</td>\n",
       "      <td>/opt/dlami/nvme/SAM_result/F0016/C101/F0016-C1...</td>\n",
       "      <td>F0016-C101-20210910-125907</td>\n",
       "      <td>d45f2f28bf7fb63dda831452e8442386</td>\n",
       "      <td>F0016-C101-20210910-165907_2</td>\n",
       "      <td>fd48e0393a4d25876b5fb82e9571361e</td>\n",
       "      <td>902.543579</td>\n",
       "      <td>109.905945</td>\n",
       "      <td>22199.0</td>\n",
       "      <td>[[97, 93, 92], [80, 79, 77], [85, 84, 80], [83...</td>\n",
       "      <td>image_mask_2.png</td>\n",
       "    </tr>\n",
       "    <tr>\n",
       "      <th>...</th>\n",
       "      <td>...</td>\n",
       "      <td>...</td>\n",
       "      <td>...</td>\n",
       "      <td>...</td>\n",
       "      <td>...</td>\n",
       "      <td>...</td>\n",
       "      <td>...</td>\n",
       "      <td>...</td>\n",
       "      <td>...</td>\n",
       "      <td>...</td>\n",
       "      <td>...</td>\n",
       "      <td>...</td>\n",
       "      <td>...</td>\n",
       "      <td>...</td>\n",
       "      <td>...</td>\n",
       "      <td>...</td>\n",
       "      <td>...</td>\n",
       "      <td>...</td>\n",
       "      <td>...</td>\n",
       "      <td>...</td>\n",
       "      <td>...</td>\n",
       "    </tr>\n",
       "    <tr>\n",
       "      <th>507026</th>\n",
       "      <td>2024-04-03 08:43:05</td>\n",
       "      <td>2024-04-03</td>\n",
       "      <td>1구역</td>\n",
       "      <td>F0017</td>\n",
       "      <td>NaN</td>\n",
       "      <td>NaN</td>\n",
       "      <td>NaN</td>\n",
       "      <td>NaN</td>\n",
       "      <td>NaN</td>\n",
       "      <td>2024</td>\n",
       "      <td>...</td>\n",
       "      <td>/opt/dlami/nvme/SAM_result/F0017/C101/F0017-C1...</td>\n",
       "      <td>F0017-C101-20240402-164303</td>\n",
       "      <td>ba95ddd91989d89d1364ae7c7b32d2e2</td>\n",
       "      <td>F0017-C101-20240403-084305_32</td>\n",
       "      <td>d9f02da95f8e037bf0c7e8d7889b9b73</td>\n",
       "      <td>696.770691</td>\n",
       "      <td>919.146118</td>\n",
       "      <td>638.0</td>\n",
       "      <td>[[130, 147, 137], [85, 102, 92], [57, 74, 64],...</td>\n",
       "      <td>image_mask_32.png</td>\n",
       "    </tr>\n",
       "    <tr>\n",
       "      <th>507027</th>\n",
       "      <td>2024-04-03 08:43:05</td>\n",
       "      <td>2024-04-03</td>\n",
       "      <td>1구역</td>\n",
       "      <td>F0017</td>\n",
       "      <td>NaN</td>\n",
       "      <td>NaN</td>\n",
       "      <td>NaN</td>\n",
       "      <td>NaN</td>\n",
       "      <td>NaN</td>\n",
       "      <td>2024</td>\n",
       "      <td>...</td>\n",
       "      <td>/opt/dlami/nvme/SAM_result/F0017/C101/F0017-C1...</td>\n",
       "      <td>F0017-C101-20240402-164303</td>\n",
       "      <td>ba95ddd91989d89d1364ae7c7b32d2e2</td>\n",
       "      <td>F0017-C101-20240403-084305_33</td>\n",
       "      <td>82e6f24564dc5c31feb126d306889617</td>\n",
       "      <td>805.770020</td>\n",
       "      <td>907.664185</td>\n",
       "      <td>712.0</td>\n",
       "      <td>[[126, 151, 121], [113, 138, 108], [83, 108, 7...</td>\n",
       "      <td>image_mask_33.png</td>\n",
       "    </tr>\n",
       "    <tr>\n",
       "      <th>507028</th>\n",
       "      <td>2024-04-03 08:43:05</td>\n",
       "      <td>2024-04-03</td>\n",
       "      <td>1구역</td>\n",
       "      <td>F0017</td>\n",
       "      <td>NaN</td>\n",
       "      <td>NaN</td>\n",
       "      <td>NaN</td>\n",
       "      <td>NaN</td>\n",
       "      <td>NaN</td>\n",
       "      <td>2024</td>\n",
       "      <td>...</td>\n",
       "      <td>/opt/dlami/nvme/SAM_result/F0017/C101/F0017-C1...</td>\n",
       "      <td>F0017-C101-20240402-164303</td>\n",
       "      <td>ba95ddd91989d89d1364ae7c7b32d2e2</td>\n",
       "      <td>F0017-C101-20240403-084305_34</td>\n",
       "      <td>82e6f24564dc5c31feb126d306889617</td>\n",
       "      <td>808.861450</td>\n",
       "      <td>912.967590</td>\n",
       "      <td>2256.0</td>\n",
       "      <td>[[133, 154, 145], [120, 145, 115], [126, 151, ...</td>\n",
       "      <td>image_mask_34.png</td>\n",
       "    </tr>\n",
       "    <tr>\n",
       "      <th>507029</th>\n",
       "      <td>2024-04-03 08:43:05</td>\n",
       "      <td>2024-04-03</td>\n",
       "      <td>1구역</td>\n",
       "      <td>F0017</td>\n",
       "      <td>NaN</td>\n",
       "      <td>NaN</td>\n",
       "      <td>NaN</td>\n",
       "      <td>NaN</td>\n",
       "      <td>NaN</td>\n",
       "      <td>2024</td>\n",
       "      <td>...</td>\n",
       "      <td>/opt/dlami/nvme/SAM_result/F0017/C101/F0017-C1...</td>\n",
       "      <td>F0017-C101-20240402-164303</td>\n",
       "      <td>ba95ddd91989d89d1364ae7c7b32d2e2</td>\n",
       "      <td>F0017-C101-20240403-084305_35</td>\n",
       "      <td>55819b451a7bd041c7727d3e27b30608</td>\n",
       "      <td>1346.452881</td>\n",
       "      <td>749.191772</td>\n",
       "      <td>3529.0</td>\n",
       "      <td>[[147, 162, 119], [138, 153, 110], [135, 150, ...</td>\n",
       "      <td>image_mask_35.png</td>\n",
       "    </tr>\n",
       "    <tr>\n",
       "      <th>507030</th>\n",
       "      <td>2024-04-03 08:43:05</td>\n",
       "      <td>2024-04-03</td>\n",
       "      <td>1구역</td>\n",
       "      <td>F0017</td>\n",
       "      <td>NaN</td>\n",
       "      <td>NaN</td>\n",
       "      <td>NaN</td>\n",
       "      <td>NaN</td>\n",
       "      <td>NaN</td>\n",
       "      <td>2024</td>\n",
       "      <td>...</td>\n",
       "      <td>/opt/dlami/nvme/SAM_result/F0017/C101/F0017-C1...</td>\n",
       "      <td>F0017-C101-20240402-164303</td>\n",
       "      <td>ba95ddd91989d89d1364ae7c7b32d2e2</td>\n",
       "      <td>F0017-C101-20240403-084305_36</td>\n",
       "      <td>76366579ea8063fa5e450b20b01b7ccf</td>\n",
       "      <td>1312.344727</td>\n",
       "      <td>908.888794</td>\n",
       "      <td>958.0</td>\n",
       "      <td>[[76, 78, 64], [76, 78, 64], [72, 74, 60], [67...</td>\n",
       "      <td>image_mask_36.png</td>\n",
       "    </tr>\n",
       "  </tbody>\n",
       "</table>\n",
       "<p>134633 rows × 27 columns</p>\n",
       "</div>"
      ],
      "text/plain": [
       "             check_datetime        측정일자  구역명 farm_code   내부온도   내부습도  내부CO2  \\\n",
       "0       2021-09-10 13:00:00  2021-09-10  1구역     F0016  27.52  72.22  467.9   \n",
       "1       2021-09-10 13:00:00  2021-09-10  1구역     F0016  27.52  72.22  467.9   \n",
       "2       2021-09-10 17:00:00  2021-09-10  1구역     F0016  27.02  71.23  463.1   \n",
       "3       2021-09-10 17:00:00  2021-09-10  1구역     F0016  27.02  71.23  463.1   \n",
       "4       2021-09-10 17:00:00  2021-09-10  1구역     F0016  27.02  71.23  463.1   \n",
       "...                     ...         ...  ...       ...    ...    ...    ...   \n",
       "507026  2024-04-03 08:43:05  2024-04-03  1구역     F0017    NaN    NaN    NaN   \n",
       "507027  2024-04-03 08:43:05  2024-04-03  1구역     F0017    NaN    NaN    NaN   \n",
       "507028  2024-04-03 08:43:05  2024-04-03  1구역     F0017    NaN    NaN    NaN   \n",
       "507029  2024-04-03 08:43:05  2024-04-03  1구역     F0017    NaN    NaN    NaN   \n",
       "507030  2024-04-03 08:43:05  2024-04-03  1구역     F0017    NaN    NaN    NaN   \n",
       "\n",
       "         근권온도  내부순간일사량  측정년도  ...  \\\n",
       "0       22.51   223.17  2021  ...   \n",
       "1       22.51   223.17  2021  ...   \n",
       "2       23.77   102.75  2021  ...   \n",
       "3       23.77   102.75  2021  ...   \n",
       "4       23.77   102.75  2021  ...   \n",
       "...       ...      ...   ...  ...   \n",
       "507026    NaN      NaN  2024  ...   \n",
       "507027    NaN      NaN  2024  ...   \n",
       "507028    NaN      NaN  2024  ...   \n",
       "507029    NaN      NaN  2024  ...   \n",
       "507030    NaN      NaN  2024  ...   \n",
       "\n",
       "                                          bbox_image_path  \\\n",
       "0       /opt/dlami/nvme/SAM_result/F0016/C101/F0016-C1...   \n",
       "1       /opt/dlami/nvme/SAM_result/F0016/C101/F0016-C1...   \n",
       "2       /opt/dlami/nvme/SAM_result/F0016/C101/F0016-C1...   \n",
       "3       /opt/dlami/nvme/SAM_result/F0016/C101/F0016-C1...   \n",
       "4       /opt/dlami/nvme/SAM_result/F0016/C101/F0016-C1...   \n",
       "...                                                   ...   \n",
       "507026  /opt/dlami/nvme/SAM_result/F0017/C101/F0017-C1...   \n",
       "507027  /opt/dlami/nvme/SAM_result/F0017/C101/F0017-C1...   \n",
       "507028  /opt/dlami/nvme/SAM_result/F0017/C101/F0017-C1...   \n",
       "507029  /opt/dlami/nvme/SAM_result/F0017/C101/F0017-C1...   \n",
       "507030  /opt/dlami/nvme/SAM_result/F0017/C101/F0017-C1...   \n",
       "\n",
       "                   before_img_name                     before_img_id  \\\n",
       "0       F0016-C101-20210910-075908  283f919417b3c53b4089683ba1cf7ca2   \n",
       "1       F0016-C101-20210910-075908  283f919417b3c53b4089683ba1cf7ca2   \n",
       "2       F0016-C101-20210910-125907  d45f2f28bf7fb63dda831452e8442386   \n",
       "3       F0016-C101-20210910-125907  d45f2f28bf7fb63dda831452e8442386   \n",
       "4       F0016-C101-20210910-125907  d45f2f28bf7fb63dda831452e8442386   \n",
       "...                            ...                               ...   \n",
       "507026  F0017-C101-20240402-164303  ba95ddd91989d89d1364ae7c7b32d2e2   \n",
       "507027  F0017-C101-20240402-164303  ba95ddd91989d89d1364ae7c7b32d2e2   \n",
       "507028  F0017-C101-20240402-164303  ba95ddd91989d89d1364ae7c7b32d2e2   \n",
       "507029  F0017-C101-20240402-164303  ba95ddd91989d89d1364ae7c7b32d2e2   \n",
       "507030  F0017-C101-20240402-164303  ba95ddd91989d89d1364ae7c7b32d2e2   \n",
       "\n",
       "                             mask_num                           mask_id  \\\n",
       "0        F0016-C101-20210910-125907_0  065e7a9bdd5065fe01976ff3f4f49f03   \n",
       "1        F0016-C101-20210910-125907_1  c8f4ef001e5f686be96b1cb1bb68f68d   \n",
       "2        F0016-C101-20210910-165907_0  065e7a9bdd5065fe01976ff3f4f49f03   \n",
       "3        F0016-C101-20210910-165907_1  3cf79ada342fb0b16364c9ea6d703f9f   \n",
       "4        F0016-C101-20210910-165907_2  fd48e0393a4d25876b5fb82e9571361e   \n",
       "...                               ...                               ...   \n",
       "507026  F0017-C101-20240403-084305_32  d9f02da95f8e037bf0c7e8d7889b9b73   \n",
       "507027  F0017-C101-20240403-084305_33  82e6f24564dc5c31feb126d306889617   \n",
       "507028  F0017-C101-20240403-084305_34  82e6f24564dc5c31feb126d306889617   \n",
       "507029  F0017-C101-20240403-084305_35  55819b451a7bd041c7727d3e27b30608   \n",
       "507030  F0017-C101-20240403-084305_36  76366579ea8063fa5e450b20b01b7ccf   \n",
       "\n",
       "            point_x     point_y     size  \\\n",
       "0       1132.451172  554.744629    535.0   \n",
       "1        880.826233  100.000298  37040.0   \n",
       "2       1136.085205  556.137573    576.0   \n",
       "3        771.131104  102.249115  20098.0   \n",
       "4        902.543579  109.905945  22199.0   \n",
       "...             ...         ...      ...   \n",
       "507026   696.770691  919.146118    638.0   \n",
       "507027   805.770020  907.664185    712.0   \n",
       "507028   808.861450  912.967590   2256.0   \n",
       "507029  1346.452881  749.191772   3529.0   \n",
       "507030  1312.344727  908.888794    958.0   \n",
       "\n",
       "                                                    color  output_image_path  \n",
       "0       [[121, 123, 112], [123, 125, 114], [118, 120, ...   image_mask_0.png  \n",
       "1       [[54, 63, 44], [88, 97, 76], [82, 91, 70], [85...   image_mask_1.png  \n",
       "2       [[70, 71, 65], [68, 69, 63], [63, 64, 58], [49...   image_mask_0.png  \n",
       "3       [[22, 24, 10], [27, 30, 11], [42, 45, 24], [35...   image_mask_1.png  \n",
       "4       [[97, 93, 92], [80, 79, 77], [85, 84, 80], [83...   image_mask_2.png  \n",
       "...                                                   ...                ...  \n",
       "507026  [[130, 147, 137], [85, 102, 92], [57, 74, 64],...  image_mask_32.png  \n",
       "507027  [[126, 151, 121], [113, 138, 108], [83, 108, 7...  image_mask_33.png  \n",
       "507028  [[133, 154, 145], [120, 145, 115], [126, 151, ...  image_mask_34.png  \n",
       "507029  [[147, 162, 119], [138, 153, 110], [135, 150, ...  image_mask_35.png  \n",
       "507030  [[76, 78, 64], [76, 78, 64], [72, 74, 60], [67...  image_mask_36.png  \n",
       "\n",
       "[134633 rows x 27 columns]"
      ]
     },
     "execution_count": 43,
     "metadata": {},
     "output_type": "execute_result"
    }
   ],
   "source": [
    "df"
   ]
  },
  {
   "cell_type": "code",
   "execution_count": 49,
   "metadata": {},
   "outputs": [
    {
     "name": "stdout",
     "output_type": "stream",
     "text": [
      "<class 'pandas.core.frame.DataFrame'>\n",
      "RangeIndex: 134633 entries, 0 to 134632\n",
      "Data columns (total 27 columns):\n",
      " #   Column             Non-Null Count   Dtype  \n",
      "---  ------             --------------   -----  \n",
      " 0   check_datetime     134633 non-null  object \n",
      " 1   측정일자               134633 non-null  object \n",
      " 2   구역명                134633 non-null  object \n",
      " 3   farm_code          134633 non-null  object \n",
      " 4   내부온도               132887 non-null  float64\n",
      " 5   내부습도               132887 non-null  float64\n",
      " 6   내부CO2              132887 non-null  float64\n",
      " 7   근권온도               132887 non-null  float64\n",
      " 8   내부순간일사량            132887 non-null  float64\n",
      " 9   측정년도               134633 non-null  int64  \n",
      " 10  측정월                134633 non-null  int64  \n",
      " 11  input_image_name   134633 non-null  object \n",
      " 12  input_image_path   134633 non-null  object \n",
      " 13  img_id             134633 non-null  object \n",
      " 14  area_code          134633 non-null  object \n",
      " 15  shot_datetime      134633 non-null  object \n",
      " 16  count_masks        134633 non-null  float64\n",
      " 17  bbox_image_path    134633 non-null  object \n",
      " 18  before_img_name    134633 non-null  object \n",
      " 19  before_img_id      134633 non-null  object \n",
      " 20  mask_num           134330 non-null  object \n",
      " 21  mask_id            134330 non-null  object \n",
      " 22  point_x            134330 non-null  float64\n",
      " 23  point_y            134330 non-null  float64\n",
      " 24  size               134330 non-null  float64\n",
      " 25  color              134328 non-null  object \n",
      " 26  output_image_path  134330 non-null  object \n",
      "dtypes: float64(9), int64(2), object(16)\n",
      "memory usage: 27.7+ MB\n"
     ]
    }
   ],
   "source": [
    "df.info()"
   ]
  }
 ],
 "metadata": {
  "kernelspec": {
   "display_name": "pytorch",
   "language": "python",
   "name": "python3"
  },
  "language_info": {
   "codemirror_mode": {
    "name": "ipython",
    "version": 3
   },
   "file_extension": ".py",
   "mimetype": "text/x-python",
   "name": "python",
   "nbconvert_exporter": "python",
   "pygments_lexer": "ipython3",
   "version": "3.10.14"
  }
 },
 "nbformat": 4,
 "nbformat_minor": 2
}
