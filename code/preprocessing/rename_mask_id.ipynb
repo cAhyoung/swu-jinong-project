{
 "cells": [
  {
   "cell_type": "code",
   "execution_count": 73,
   "metadata": {},
   "outputs": [],
   "source": [
    "import pandas as pd\n",
    "import numpy as np\n",
    "import seaborn as sns\n",
    "import matplotlib.pyplot as plt\n",
    "import os\n",
    "import cv2"
   ]
  },
  {
   "cell_type": "markdown",
   "metadata": {},
   "source": [
    "### 데이터 copy"
   ]
  },
  {
   "cell_type": "code",
   "execution_count": 74,
   "metadata": {},
   "outputs": [],
   "source": [
    "data = pd.read_csv(\"/home/ubuntu/drive/EDA/real_real_real_final.csv\", encoding=\"UTF-8\")\n",
    "cdata = data.copy()"
   ]
  },
  {
   "cell_type": "code",
   "execution_count": 76,
   "metadata": {},
   "outputs": [
    {
     "data": {
      "text/html": [
       "<div>\n",
       "<style scoped>\n",
       "    .dataframe tbody tr th:only-of-type {\n",
       "        vertical-align: middle;\n",
       "    }\n",
       "\n",
       "    .dataframe tbody tr th {\n",
       "        vertical-align: top;\n",
       "    }\n",
       "\n",
       "    .dataframe thead th {\n",
       "        text-align: right;\n",
       "    }\n",
       "</style>\n",
       "<table border=\"1\" class=\"dataframe\">\n",
       "  <thead>\n",
       "    <tr style=\"text-align: right;\">\n",
       "      <th></th>\n",
       "      <th>check_datetime</th>\n",
       "      <th>측정일자</th>\n",
       "      <th>구역명</th>\n",
       "      <th>farm_code</th>\n",
       "      <th>내부온도</th>\n",
       "      <th>내부습도</th>\n",
       "      <th>내부CO2</th>\n",
       "      <th>근권온도</th>\n",
       "      <th>내부순간일사량</th>\n",
       "      <th>측정년도</th>\n",
       "      <th>...</th>\n",
       "      <th>bbox_image_path</th>\n",
       "      <th>before_img_name</th>\n",
       "      <th>before_img_id</th>\n",
       "      <th>mask_num</th>\n",
       "      <th>mask_id</th>\n",
       "      <th>point_x</th>\n",
       "      <th>point_y</th>\n",
       "      <th>size</th>\n",
       "      <th>color</th>\n",
       "      <th>output_image_path</th>\n",
       "    </tr>\n",
       "  </thead>\n",
       "  <tbody>\n",
       "    <tr>\n",
       "      <th>0</th>\n",
       "      <td>2021-09-10 13:00:00</td>\n",
       "      <td>2021-09-10</td>\n",
       "      <td>1구역</td>\n",
       "      <td>F0016</td>\n",
       "      <td>27.52</td>\n",
       "      <td>72.22</td>\n",
       "      <td>467.9</td>\n",
       "      <td>22.51</td>\n",
       "      <td>223.17</td>\n",
       "      <td>2021</td>\n",
       "      <td>...</td>\n",
       "      <td>/opt/dlami/nvme/SAM_result/F0016/C101/F0016-C1...</td>\n",
       "      <td>F0016-C101-20210910-075908</td>\n",
       "      <td>283f919417b3c53b4089683ba1cf7ca2</td>\n",
       "      <td>F0016-C101-20210910-125907_1</td>\n",
       "      <td>065e7a9bdd5065fe01976ff3f4f49f03</td>\n",
       "      <td>1132.451172</td>\n",
       "      <td>554.744629</td>\n",
       "      <td>535.0</td>\n",
       "      <td>[[121, 123, 112], [123, 125, 114], [118, 120, ...</td>\n",
       "      <td>image_mask_1.png</td>\n",
       "    </tr>\n",
       "    <tr>\n",
       "      <th>1</th>\n",
       "      <td>2021-09-10 13:00:00</td>\n",
       "      <td>2021-09-10</td>\n",
       "      <td>1구역</td>\n",
       "      <td>F0016</td>\n",
       "      <td>27.52</td>\n",
       "      <td>72.22</td>\n",
       "      <td>467.9</td>\n",
       "      <td>22.51</td>\n",
       "      <td>223.17</td>\n",
       "      <td>2021</td>\n",
       "      <td>...</td>\n",
       "      <td>/opt/dlami/nvme/SAM_result/F0016/C101/F0016-C1...</td>\n",
       "      <td>F0016-C101-20210910-075908</td>\n",
       "      <td>283f919417b3c53b4089683ba1cf7ca2</td>\n",
       "      <td>F0016-C101-20210910-125907_2</td>\n",
       "      <td>c8f4ef001e5f686be96b1cb1bb68f68d</td>\n",
       "      <td>880.826233</td>\n",
       "      <td>100.000298</td>\n",
       "      <td>37040.0</td>\n",
       "      <td>[[54, 63, 44], [88, 97, 76], [82, 91, 70], [85...</td>\n",
       "      <td>image_mask_2.png</td>\n",
       "    </tr>\n",
       "  </tbody>\n",
       "</table>\n",
       "<p>2 rows × 27 columns</p>\n",
       "</div>"
      ],
      "text/plain": [
       "        check_datetime        측정일자  구역명 farm_code   내부온도   내부습도  내부CO2   근권온도  \\\n",
       "0  2021-09-10 13:00:00  2021-09-10  1구역     F0016  27.52  72.22  467.9  22.51   \n",
       "1  2021-09-10 13:00:00  2021-09-10  1구역     F0016  27.52  72.22  467.9  22.51   \n",
       "\n",
       "   내부순간일사량  측정년도  ...                                    bbox_image_path  \\\n",
       "0   223.17  2021  ...  /opt/dlami/nvme/SAM_result/F0016/C101/F0016-C1...   \n",
       "1   223.17  2021  ...  /opt/dlami/nvme/SAM_result/F0016/C101/F0016-C1...   \n",
       "\n",
       "              before_img_name                     before_img_id  \\\n",
       "0  F0016-C101-20210910-075908  283f919417b3c53b4089683ba1cf7ca2   \n",
       "1  F0016-C101-20210910-075908  283f919417b3c53b4089683ba1cf7ca2   \n",
       "\n",
       "                       mask_num                           mask_id  \\\n",
       "0  F0016-C101-20210910-125907_1  065e7a9bdd5065fe01976ff3f4f49f03   \n",
       "1  F0016-C101-20210910-125907_2  c8f4ef001e5f686be96b1cb1bb68f68d   \n",
       "\n",
       "       point_x     point_y     size  \\\n",
       "0  1132.451172  554.744629    535.0   \n",
       "1   880.826233  100.000298  37040.0   \n",
       "\n",
       "                                               color output_image_path  \n",
       "0  [[121, 123, 112], [123, 125, 114], [118, 120, ...  image_mask_1.png  \n",
       "1  [[54, 63, 44], [88, 97, 76], [82, 91, 70], [85...  image_mask_2.png  \n",
       "\n",
       "[2 rows x 27 columns]"
      ]
     },
     "execution_count": 76,
     "metadata": {},
     "output_type": "execute_result"
    }
   ],
   "source": [
    "cdata.head(2)"
   ]
  },
  {
   "cell_type": "code",
   "execution_count": 77,
   "metadata": {},
   "outputs": [
    {
     "data": {
      "text/plain": [
       "Index(['check_datetime', '측정일자', '구역명', 'farm_code', '내부온도', '내부습도', '내부CO2',\n",
       "       '근권온도', '내부순간일사량', '측정년도', '측정월', 'input_image_name',\n",
       "       'input_image_path', 'img_id', 'area_code', 'shot_datetime',\n",
       "       'count_masks', 'bbox_image_path', 'before_img_name', 'before_img_id',\n",
       "       'mask_num', 'mask_id', 'point_x', 'point_y', 'size', 'color',\n",
       "       'output_image_path'],\n",
       "      dtype='object')"
      ]
     },
     "execution_count": 77,
     "metadata": {},
     "output_type": "execute_result"
    }
   ],
   "source": [
    "cdata.columns"
   ]
  },
  {
   "cell_type": "code",
   "execution_count": 78,
   "metadata": {},
   "outputs": [
    {
     "data": {
      "text/plain": [
       "array(['065e7a9bdd5065fe01976ff3f4f49f03',\n",
       "       'c8f4ef001e5f686be96b1cb1bb68f68d',\n",
       "       '3cf79ada342fb0b16364c9ea6d703f9f', ...,\n",
       "       '92f2333ec891b9630831727d6e34e55d',\n",
       "       '4b4906113dcf0ea8f5a31467dbb90ae7',\n",
       "       '05f8cdc2ea6b2690060cb7cd715c096f'], dtype=object)"
      ]
     },
     "execution_count": 78,
     "metadata": {},
     "output_type": "execute_result"
    }
   ],
   "source": [
    "cdata['mask_id'].unique()"
   ]
  },
  {
   "cell_type": "code",
   "execution_count": 82,
   "metadata": {},
   "outputs": [
    {
     "name": "stdout",
     "output_type": "stream",
     "text": [
      "Randomly selected mask_id: 411b1b657c9f36393fb009e71858cce9\n",
      "Check_datetime associated with the selected mask_id (sorted in ascending order):\n",
      "                                 mask_id       check_datetime\n",
      "132956  411b1b657c9f36393fb009e71858cce9  2024-03-23 08:40:00\n",
      "133045  411b1b657c9f36393fb009e71858cce9  2024-03-23 12:40:00\n",
      "133147  411b1b657c9f36393fb009e71858cce9  2024-03-23 16:40:00\n",
      "133233  411b1b657c9f36393fb009e71858cce9  2024-03-24 08:40:00\n",
      "133317  411b1b657c9f36393fb009e71858cce9  2024-03-24 12:40:00\n",
      "133431  411b1b657c9f36393fb009e71858cce9  2024-03-25 08:40:00\n",
      "133516  411b1b657c9f36393fb009e71858cce9  2024-03-25 12:40:00\n"
     ]
    }
   ],
   "source": [
    "import random\n",
    "\n",
    "# 랜덤하게 mask_id 선택\n",
    "random_mask_id = random.choice(cdata['mask_id'].unique())\n",
    "\n",
    "# 선택된 mask_id에 해당하는 데이터 추출\n",
    "mask_data = cdata[cdata['mask_id'] == random_mask_id]\n",
    "\n",
    "# mask_id와 check_datetime을 오름차순으로 정렬하여 출력\n",
    "print(\"Randomly selected mask_id:\", random_mask_id)\n",
    "print(\"Check_datetime associated with the selected mask_id (sorted in ascending order):\")\n",
    "print(mask_data[['mask_id', 'check_datetime']].sort_values(by='check_datetime'))"
   ]
  },
  {
   "cell_type": "code",
   "execution_count": 83,
   "metadata": {},
   "outputs": [
    {
     "data": {
      "text/plain": [
       "check_datetime          0\n",
       "측정일자                    0\n",
       "구역명                     0\n",
       "farm_code               0\n",
       "내부온도                 1746\n",
       "내부습도                 1746\n",
       "내부CO2                1746\n",
       "근권온도                 1746\n",
       "내부순간일사량              1746\n",
       "측정년도                    0\n",
       "측정월                     0\n",
       "input_image_name        0\n",
       "input_image_path        0\n",
       "img_id                  0\n",
       "area_code               0\n",
       "shot_datetime           0\n",
       "count_masks             0\n",
       "bbox_image_path         0\n",
       "before_img_name         0\n",
       "before_img_id           0\n",
       "mask_num              303\n",
       "mask_id               303\n",
       "point_x               303\n",
       "point_y               303\n",
       "size                  303\n",
       "color                 305\n",
       "output_image_path     303\n",
       "dtype: int64"
      ]
     },
     "execution_count": 83,
     "metadata": {},
     "output_type": "execute_result"
    }
   ],
   "source": [
    "cdata.isnull().sum()"
   ]
  },
  {
   "cell_type": "markdown",
   "metadata": {},
   "source": [
    "### test1"
   ]
  },
  {
   "cell_type": "code",
   "execution_count": 84,
   "metadata": {},
   "outputs": [
    {
     "data": {
      "text/plain": [
       "check_datetime          0\n",
       "측정일자                    0\n",
       "구역명                     0\n",
       "farm_code               0\n",
       "내부온도                 1745\n",
       "내부습도                 1745\n",
       "내부CO2                1745\n",
       "근권온도                 1745\n",
       "내부순간일사량              1745\n",
       "측정년도                    0\n",
       "측정월                     0\n",
       "input_image_name        0\n",
       "input_image_path        0\n",
       "img_id                  0\n",
       "area_code               0\n",
       "shot_datetime           0\n",
       "count_masks             0\n",
       "bbox_image_path         0\n",
       "before_img_name         0\n",
       "before_img_id           0\n",
       "mask_num                0\n",
       "mask_id                 0\n",
       "point_x                 0\n",
       "point_y                 0\n",
       "size                    0\n",
       "color                   0\n",
       "output_image_path       0\n",
       "dtype: int64"
      ]
     },
     "execution_count": 84,
     "metadata": {},
     "output_type": "execute_result"
    }
   ],
   "source": [
    "columns_to_check = ['mask_num', 'mask_id', 'point_x', 'point_y', 'size', 'color', 'output_image_path']\n",
    "cdata1 = cdata.dropna(subset=columns_to_check)\n",
    "\n",
    "cdata1.isnull().sum()"
   ]
  },
  {
   "cell_type": "code",
   "execution_count": 61,
   "metadata": {},
   "outputs": [
    {
     "name": "stdout",
     "output_type": "stream",
     "text": [
      "Randomly selected mask_id: 29c022f7d24fa28921a44b9b91af861b\n",
      "Check_datetime associated with the selected mask_id (sorted in ascending order):\n",
      "                                 mask_id       check_datetime\n",
      "13649   29c022f7d24fa28921a44b9b91af861b  2022-03-04 12:40:00\n",
      "13720   29c022f7d24fa28921a44b9b91af861b  2022-03-04 16:30:00\n",
      "13792   29c022f7d24fa28921a44b9b91af861b  2022-03-05 08:50:00\n",
      "13888   29c022f7d24fa28921a44b9b91af861b  2022-03-05 12:30:00\n",
      "13970   29c022f7d24fa28921a44b9b91af861b  2022-03-05 16:40:00\n",
      "14028   29c022f7d24fa28921a44b9b91af861b  2022-03-06 08:30:00\n",
      "14121   29c022f7d24fa28921a44b9b91af861b  2022-03-06 12:30:00\n",
      "14211   29c022f7d24fa28921a44b9b91af861b  2022-03-06 16:50:00\n",
      "14302   29c022f7d24fa28921a44b9b91af861b  2022-03-07 08:30:00\n",
      "14395   29c022f7d24fa28921a44b9b91af861b  2022-03-07 12:30:00\n",
      "14467   29c022f7d24fa28921a44b9b91af861b  2022-03-07 16:30:00\n",
      "24073   29c022f7d24fa28921a44b9b91af861b  2022-05-28 08:30:00\n",
      "24106   29c022f7d24fa28921a44b9b91af861b  2022-05-28 12:30:00\n",
      "24132   29c022f7d24fa28921a44b9b91af861b  2022-05-28 16:30:00\n",
      "24163   29c022f7d24fa28921a44b9b91af861b  2022-05-29 08:30:00\n",
      "98417   29c022f7d24fa28921a44b9b91af861b  2023-02-16 08:30:00\n",
      "99089   29c022f7d24fa28921a44b9b91af861b  2023-02-19 12:30:00\n",
      "99141   29c022f7d24fa28921a44b9b91af861b  2023-02-19 16:30:00\n",
      "99161   29c022f7d24fa28921a44b9b91af861b  2023-02-19 16:30:00\n",
      "99635   29c022f7d24fa28921a44b9b91af861b  2023-02-22 08:30:00\n",
      "99700   29c022f7d24fa28921a44b9b91af861b  2023-02-22 12:30:00\n",
      "99767   29c022f7d24fa28921a44b9b91af861b  2023-02-22 16:30:00\n",
      "99822   29c022f7d24fa28921a44b9b91af861b  2023-02-23 08:30:00\n",
      "101127  29c022f7d24fa28921a44b9b91af861b  2023-03-02 12:30:00\n",
      "101191  29c022f7d24fa28921a44b9b91af861b  2023-03-02 16:30:00\n",
      "101267  29c022f7d24fa28921a44b9b91af861b  2023-03-03 08:30:00\n",
      "101345  29c022f7d24fa28921a44b9b91af861b  2023-03-03 12:30:00\n",
      "101420  29c022f7d24fa28921a44b9b91af861b  2023-03-03 16:30:00\n",
      "101629  29c022f7d24fa28921a44b9b91af861b  2023-03-04 16:30:00\n",
      "101701  29c022f7d24fa28921a44b9b91af861b  2023-03-05 08:30:00\n",
      "101831  29c022f7d24fa28921a44b9b91af861b  2023-03-05 16:30:00\n",
      "102043  29c022f7d24fa28921a44b9b91af861b  2023-03-06 16:30:00\n",
      "105773  29c022f7d24fa28921a44b9b91af861b  2023-03-26 16:40:00\n",
      "105877  29c022f7d24fa28921a44b9b91af861b  2023-03-27 16:40:00\n",
      "106029  29c022f7d24fa28921a44b9b91af861b  2023-03-28 16:40:00\n",
      "111629  29c022f7d24fa28921a44b9b91af861b  2023-04-25 08:40:00\n",
      "111700  29c022f7d24fa28921a44b9b91af861b  2023-04-25 12:40:00\n",
      "111752  29c022f7d24fa28921a44b9b91af861b  2023-04-25 16:40:00\n",
      "111816  29c022f7d24fa28921a44b9b91af861b  2023-04-26 08:40:00\n",
      "111870  29c022f7d24fa28921a44b9b91af861b  2023-04-26 12:40:00\n",
      "111928  29c022f7d24fa28921a44b9b91af861b  2023-04-26 16:40:00\n",
      "111975  29c022f7d24fa28921a44b9b91af861b  2023-04-27 08:40:00\n",
      "112043  29c022f7d24fa28921a44b9b91af861b  2023-04-27 12:40:00\n",
      "112219  29c022f7d24fa28921a44b9b91af861b  2023-05-02 08:40:00\n",
      "112265  29c022f7d24fa28921a44b9b91af861b  2023-05-02 12:40:00\n",
      "112321  29c022f7d24fa28921a44b9b91af861b  2023-05-02 16:40:00\n",
      "124943  29c022f7d24fa28921a44b9b91af861b  2024-02-04 12:50:00\n"
     ]
    }
   ],
   "source": [
    "import random\n",
    "\n",
    "# 랜덤하게 mask_id 선택\n",
    "random_mask_id = random.choice(cdata1['mask_id'].unique())\n",
    "\n",
    "# 선택된 mask_id에 해당하는 데이터 추출\n",
    "mask_data = cdata1[cdata1['mask_id'] == random_mask_id]\n",
    "\n",
    "# mask_id와 check_datetime을 오름차순으로 정렬하여 출력\n",
    "print(\"Randomly selected mask_id:\", random_mask_id)\n",
    "print(\"Check_datetime associated with the selected mask_id (sorted in ascending order):\")\n",
    "print(mask_data[['mask_id', 'check_datetime']].sort_values(by='check_datetime'))"
   ]
  },
  {
   "cell_type": "code",
   "execution_count": 65,
   "metadata": {},
   "outputs": [
    {
     "name": "stdout",
     "output_type": "stream",
     "text": [
      "Randomly selected mask_id: 16d4dc41cd4d5acf770d5cab1c44a6e0\n",
      "Check_datetime associated with the selected mask_id (with new mask_id assigned):\n",
      "                               new_mask_id      check_datetime\n",
      "121153  16d4dc41cd4d5acf770d5cab1c44a6e0_0 2024-01-10 16:40:00\n",
      "121262  16d4dc41cd4d5acf770d5cab1c44a6e0_0 2024-01-11 12:40:00\n",
      "126185  16d4dc41cd4d5acf770d5cab1c44a6e0_1 2024-02-12 16:40:00\n",
      "127336  16d4dc41cd4d5acf770d5cab1c44a6e0_2 2024-02-21 12:50:00\n",
      "127740  16d4dc41cd4d5acf770d5cab1c44a6e0_2 2024-02-23 08:40:00\n",
      "127896  16d4dc41cd4d5acf770d5cab1c44a6e0_2 2024-02-23 16:40:00\n",
      "127970  16d4dc41cd4d5acf770d5cab1c44a6e0_2 2024-02-24 08:40:00\n",
      "128028  16d4dc41cd4d5acf770d5cab1c44a6e0_2 2024-02-24 12:40:00\n",
      "128122  16d4dc41cd4d5acf770d5cab1c44a6e0_2 2024-02-24 16:40:00\n"
     ]
    }
   ],
   "source": [
    "import pandas as pd\n",
    "\n",
    "# NaN값이 있는 행을 삭제하고 새로운 mask_id 할당\n",
    "def assign_new_mask_id(data, max_days_gap=2):\n",
    "    # 데이터프레임을 'check_datetime'으로 정렬\n",
    "    data = data.sort_values(by='check_datetime')\n",
    "    \n",
    "    # 'check_datetime' 열을 datetime 유형으로 변환\n",
    "    data['check_datetime'] = pd.to_datetime(data['check_datetime'])\n",
    "    \n",
    "    # 'check_datetime' 간의 날짜 차이 계산\n",
    "    data['date_diff'] = data['check_datetime'].diff().dt.days\n",
    "    \n",
    "    # NaN 값을 0으로 대체\n",
    "    data['date_diff'] = data['date_diff'].fillna(0)\n",
    "    \n",
    "    # 연속된 날짜를 기준으로 그룹을 형성하여 각 그룹별로 동일한 새로운 mask_id 할당\n",
    "    data['group'] = (data['date_diff'] > max_days_gap).cumsum()\n",
    "    data['new_mask_id'] = data['mask_id'] + '_' + data['group'].astype(str)\n",
    "    \n",
    "    # 결과에 필요 없는 열 삭제\n",
    "    data.drop(['date_diff', 'group'], axis=1, inplace=True)\n",
    "    \n",
    "    return data\n",
    "\n",
    "# 랜덤하게 mask_id 선택\n",
    "random_mask_id = '16d4dc41cd4d5acf770d5cab1c44a6e0'\n",
    "\n",
    "# 선택된 mask_id에 해당하는 데이터 추출\n",
    "mask_data = cdata1[cdata1['mask_id'] == random_mask_id]\n",
    "\n",
    "# mask_id와 check_datetime을 오름차순으로 정렬하고 새로운 mask_id 할당\n",
    "sorted_mask_data = assign_new_mask_id(mask_data)\n",
    "\n",
    "# 결과 출력\n",
    "print(\"Randomly selected mask_id:\", random_mask_id)\n",
    "print(\"Check_datetime associated with the selected mask_id (with new mask_id assigned):\")\n",
    "print(sorted_mask_data[['new_mask_id', 'check_datetime']])"
   ]
  },
  {
   "cell_type": "code",
   "execution_count": 67,
   "metadata": {},
   "outputs": [],
   "source": [
    "# 모든 출력 결과를 풀로 출력하는 옵션 설정\n",
    "from IPython.core.interactiveshell import InteractiveShell\n",
    "InteractiveShell.ast_node_interactivity = \"all\""
   ]
  },
  {
   "cell_type": "code",
   "execution_count": 68,
   "metadata": {},
   "outputs": [
    {
     "name": "stdout",
     "output_type": "stream",
     "text": [
      "Randomly selected mask_id: 29c022f7d24fa28921a44b9b91af861b\n",
      "Check_datetime associated with the selected mask_id (with new mask_id assigned):\n",
      "                               new_mask_id      check_datetime\n",
      "13649   29c022f7d24fa28921a44b9b91af861b_0 2022-03-04 12:40:00\n",
      "13720   29c022f7d24fa28921a44b9b91af861b_0 2022-03-04 16:30:00\n",
      "13792   29c022f7d24fa28921a44b9b91af861b_0 2022-03-05 08:50:00\n",
      "13888   29c022f7d24fa28921a44b9b91af861b_0 2022-03-05 12:30:00\n",
      "13970   29c022f7d24fa28921a44b9b91af861b_0 2022-03-05 16:40:00\n",
      "14028   29c022f7d24fa28921a44b9b91af861b_0 2022-03-06 08:30:00\n",
      "14121   29c022f7d24fa28921a44b9b91af861b_0 2022-03-06 12:30:00\n",
      "14211   29c022f7d24fa28921a44b9b91af861b_0 2022-03-06 16:50:00\n",
      "14302   29c022f7d24fa28921a44b9b91af861b_0 2022-03-07 08:30:00\n",
      "14395   29c022f7d24fa28921a44b9b91af861b_0 2022-03-07 12:30:00\n",
      "14467   29c022f7d24fa28921a44b9b91af861b_0 2022-03-07 16:30:00\n",
      "24073   29c022f7d24fa28921a44b9b91af861b_1 2022-05-28 08:30:00\n",
      "24106   29c022f7d24fa28921a44b9b91af861b_1 2022-05-28 12:30:00\n",
      "24132   29c022f7d24fa28921a44b9b91af861b_1 2022-05-28 16:30:00\n",
      "24163   29c022f7d24fa28921a44b9b91af861b_1 2022-05-29 08:30:00\n",
      "98417   29c022f7d24fa28921a44b9b91af861b_2 2023-02-16 08:30:00\n",
      "99089   29c022f7d24fa28921a44b9b91af861b_3 2023-02-19 12:30:00\n",
      "99141   29c022f7d24fa28921a44b9b91af861b_3 2023-02-19 16:30:00\n",
      "99161   29c022f7d24fa28921a44b9b91af861b_3 2023-02-19 16:30:00\n",
      "99635   29c022f7d24fa28921a44b9b91af861b_3 2023-02-22 08:30:00\n",
      "99700   29c022f7d24fa28921a44b9b91af861b_3 2023-02-22 12:30:00\n",
      "99767   29c022f7d24fa28921a44b9b91af861b_3 2023-02-22 16:30:00\n",
      "99822   29c022f7d24fa28921a44b9b91af861b_3 2023-02-23 08:30:00\n",
      "101127  29c022f7d24fa28921a44b9b91af861b_4 2023-03-02 12:30:00\n",
      "101191  29c022f7d24fa28921a44b9b91af861b_4 2023-03-02 16:30:00\n",
      "101267  29c022f7d24fa28921a44b9b91af861b_4 2023-03-03 08:30:00\n",
      "101345  29c022f7d24fa28921a44b9b91af861b_4 2023-03-03 12:30:00\n",
      "101420  29c022f7d24fa28921a44b9b91af861b_4 2023-03-03 16:30:00\n",
      "101629  29c022f7d24fa28921a44b9b91af861b_4 2023-03-04 16:30:00\n",
      "101701  29c022f7d24fa28921a44b9b91af861b_4 2023-03-05 08:30:00\n",
      "101831  29c022f7d24fa28921a44b9b91af861b_4 2023-03-05 16:30:00\n",
      "102043  29c022f7d24fa28921a44b9b91af861b_4 2023-03-06 16:30:00\n",
      "105773  29c022f7d24fa28921a44b9b91af861b_5 2023-03-26 16:40:00\n",
      "105877  29c022f7d24fa28921a44b9b91af861b_5 2023-03-27 16:40:00\n",
      "106029  29c022f7d24fa28921a44b9b91af861b_5 2023-03-28 16:40:00\n",
      "111629  29c022f7d24fa28921a44b9b91af861b_6 2023-04-25 08:40:00\n",
      "111700  29c022f7d24fa28921a44b9b91af861b_6 2023-04-25 12:40:00\n",
      "111752  29c022f7d24fa28921a44b9b91af861b_6 2023-04-25 16:40:00\n",
      "111816  29c022f7d24fa28921a44b9b91af861b_6 2023-04-26 08:40:00\n",
      "111870  29c022f7d24fa28921a44b9b91af861b_6 2023-04-26 12:40:00\n",
      "111928  29c022f7d24fa28921a44b9b91af861b_6 2023-04-26 16:40:00\n",
      "111975  29c022f7d24fa28921a44b9b91af861b_6 2023-04-27 08:40:00\n",
      "112043  29c022f7d24fa28921a44b9b91af861b_6 2023-04-27 12:40:00\n",
      "112219  29c022f7d24fa28921a44b9b91af861b_7 2023-05-02 08:40:00\n",
      "112265  29c022f7d24fa28921a44b9b91af861b_7 2023-05-02 12:40:00\n",
      "112321  29c022f7d24fa28921a44b9b91af861b_7 2023-05-02 16:40:00\n",
      "124943  29c022f7d24fa28921a44b9b91af861b_8 2024-02-04 12:50:00\n"
     ]
    }
   ],
   "source": [
    "import pandas as pd\n",
    "\n",
    "# NaN값이 있는 행을 삭제하고 새로운 mask_id 할당\n",
    "def assign_new_mask_id(data, max_days_gap=2):\n",
    "    # 데이터프레임을 'check_datetime'으로 정렬\n",
    "    data = data.sort_values(by='check_datetime')\n",
    "    \n",
    "    # 'check_datetime' 열을 datetime 유형으로 변환\n",
    "    data['check_datetime'] = pd.to_datetime(data['check_datetime'])\n",
    "    \n",
    "    # 'check_datetime' 간의 날짜 차이 계산\n",
    "    data['date_diff'] = data['check_datetime'].diff().dt.days\n",
    "    \n",
    "    # NaN 값을 0으로 대체\n",
    "    data['date_diff'] = data['date_diff'].fillna(0)\n",
    "    \n",
    "    # 연속된 날짜를 기준으로 그룹을 형성하여 각 그룹별로 동일한 새로운 mask_id 할당\n",
    "    data['group'] = (data['date_diff'] > max_days_gap).cumsum()\n",
    "    data['new_mask_id'] = data['mask_id'] + '_' + data['group'].astype(str)\n",
    "    \n",
    "    # 결과에 필요 없는 열 삭제\n",
    "    data.drop(['date_diff', 'group'], axis=1, inplace=True)\n",
    "    \n",
    "    return data\n",
    "\n",
    "# 랜덤하게 mask_id 선택\n",
    "random_mask_id = '29c022f7d24fa28921a44b9b91af861b'\n",
    "\n",
    "# 선택된 mask_id에 해당하는 데이터 추출\n",
    "mask_data = cdata1[cdata1['mask_id'] == random_mask_id]\n",
    "\n",
    "# mask_id와 check_datetime을 오름차순으로 정렬하고 새로운 mask_id 할당\n",
    "sorted_mask_data = assign_new_mask_id(mask_data)\n",
    "\n",
    "# 결과 출력\n",
    "print(\"Randomly selected mask_id:\", random_mask_id)\n",
    "print(\"Check_datetime associated with the selected mask_id (with new mask_id assigned):\")\n",
    "print(sorted_mask_data[['new_mask_id', 'check_datetime']])"
   ]
  },
  {
   "cell_type": "code",
   "execution_count": 85,
   "metadata": {},
   "outputs": [
    {
     "name": "stdout",
     "output_type": "stream",
     "text": [
      "Check_datetime associated with each mask_id (with new mask_id assigned):\n",
      "                                   new_mask_id      check_datetime\n",
      "46801       da575cd4a0e4c9670fb45fa1f7a36431_0 2021-09-06 16:50:00\n",
      "46803       891f58ff697094813c91bd994c3701a4_0 2021-09-06 16:50:00\n",
      "46802       8bd8516161a651f71faa6fe79e7ad838_0 2021-09-06 16:50:00\n",
      "46805       0ce4123c288d2e5205d8b6cc69f5d201_0 2021-09-07 13:00:00\n",
      "46808       944f6eebb413e5d51435c08633211ad5_0 2021-09-08 13:00:00\n",
      "...                                        ...                 ...\n",
      "134597  4a95a63965a20284b7ce53c5cf0c2a95_23381 2024-04-03 17:00:00\n",
      "134598  d8972dae3b3661fdca80544741512b82_23382 2024-04-03 17:00:00\n",
      "134599  52e1e7cad5e6890db5350f9e5bceab1e_23383 2024-04-03 17:00:00\n",
      "134601  a778f0bf971bd81561020a9b5cab4043_23383 2024-04-03 17:00:00\n",
      "134632  76366579ea8063fa5e450b20b01b7ccf_23384 2024-04-03 17:00:00\n",
      "\n",
      "[134328 rows x 2 columns]\n"
     ]
    }
   ],
   "source": [
    "import pandas as pd\n",
    "\n",
    "# NaN값이 있는 행을 삭제하고 새로운 mask_id 할당\n",
    "def assign_new_mask_id(data, max_days_gap=2):\n",
    "    # 데이터프레임을 'check_datetime'으로 정렬\n",
    "    data = data.sort_values(by='check_datetime')\n",
    "    \n",
    "    # 'check_datetime' 열을 datetime 유형으로 변환\n",
    "    data['check_datetime'] = pd.to_datetime(data['check_datetime'])\n",
    "    \n",
    "    # 'check_datetime' 간의 날짜 차이 계산\n",
    "    data['date_diff'] = data.groupby('mask_id')['check_datetime'].diff().dt.days\n",
    "    \n",
    "    # NaN 값을 0으로 대체\n",
    "    data['date_diff'] = data['date_diff'].fillna(0)\n",
    "    \n",
    "    # 연속된 날짜를 기준으로 그룹을 형성하여 각 그룹별로 동일한 새로운 mask_id 할당\n",
    "    data['group'] = (data['date_diff'] > max_days_gap).cumsum()\n",
    "    data['new_mask_id'] = data['mask_id'] + '_' + data['group'].astype(str)\n",
    "    \n",
    "    # 결과에 필요 없는 열 삭제\n",
    "    data.drop(['date_diff', 'group'], axis=1, inplace=True)\n",
    "    \n",
    "    return data\n",
    "\n",
    "# mask_id에 해당하는 데이터 추출 및 새로운 mask_id 할당\n",
    "sorted_mask_data = assign_new_mask_id(cdata1)\n",
    "\n",
    "# 결과 출력\n",
    "print(\"Check_datetime associated with each mask_id (with new mask_id assigned):\")\n",
    "print(sorted_mask_data[['new_mask_id', 'check_datetime']])"
   ]
  },
  {
   "cell_type": "code",
   "execution_count": 86,
   "metadata": {},
   "outputs": [
    {
     "data": {
      "text/plain": [
       "134330"
      ]
     },
     "execution_count": 86,
     "metadata": {},
     "output_type": "execute_result"
    }
   ],
   "source": [
    "cdata['mask_id'].count()"
   ]
  },
  {
   "cell_type": "markdown",
   "metadata": {},
   "source": [
    "### test2"
   ]
  },
  {
   "cell_type": "code",
   "execution_count": 87,
   "metadata": {},
   "outputs": [
    {
     "data": {
      "text/plain": [
       "check_datetime          0\n",
       "측정일자                    0\n",
       "구역명                     0\n",
       "farm_code               0\n",
       "내부온도                 1745\n",
       "내부습도                 1745\n",
       "내부CO2                1745\n",
       "근권온도                 1745\n",
       "내부순간일사량              1745\n",
       "측정년도                    0\n",
       "측정월                     0\n",
       "input_image_name        0\n",
       "input_image_path        0\n",
       "img_id                  0\n",
       "area_code               0\n",
       "shot_datetime           0\n",
       "count_masks             0\n",
       "bbox_image_path         0\n",
       "before_img_name         0\n",
       "before_img_id           0\n",
       "mask_num                0\n",
       "mask_id                 0\n",
       "point_x                 0\n",
       "point_y                 0\n",
       "size                    0\n",
       "color                   0\n",
       "output_image_path       0\n",
       "dtype: int64"
      ]
     },
     "execution_count": 87,
     "metadata": {},
     "output_type": "execute_result"
    }
   ],
   "source": [
    "columns_to_check = ['mask_num', 'mask_id', 'point_x', 'point_y', 'size', 'color', 'output_image_path']\n",
    "cdata2 = cdata.dropna(subset=columns_to_check)\n",
    "\n",
    "cdata2.isnull().sum()"
   ]
  },
  {
   "cell_type": "code",
   "execution_count": 88,
   "metadata": {},
   "outputs": [
    {
     "name": "stdout",
     "output_type": "stream",
     "text": [
      "Check_datetime associated with each mask_id (with new mask_id assigned):\n",
      "                                 mask_id      check_datetime\n",
      "46801   da575cd4a0e4c9670fb45fa1f7a36431 2021-09-06 16:50:00\n",
      "46803   891f58ff697094813c91bd994c3701a4 2021-09-06 16:50:00\n",
      "46802   8bd8516161a651f71faa6fe79e7ad838 2021-09-06 16:50:00\n",
      "46805   0ce4123c288d2e5205d8b6cc69f5d201 2021-09-07 13:00:00\n",
      "46808   944f6eebb413e5d51435c08633211ad5 2021-09-08 13:00:00\n",
      "...                                  ...                 ...\n",
      "134597  4a95a63965a20284b7ce53c5cf0c2a95 2024-04-03 17:00:00\n",
      "134598  d8972dae3b3661fdca80544741512b82 2024-04-03 17:00:00\n",
      "134599  52e1e7cad5e6890db5350f9e5bceab1e 2024-04-03 17:00:00\n",
      "134601  a778f0bf971bd81561020a9b5cab4043 2024-04-03 17:00:00\n",
      "134632  76366579ea8063fa5e450b20b01b7ccf 2024-04-03 17:00:00\n",
      "\n",
      "[134328 rows x 2 columns]\n"
     ]
    }
   ],
   "source": [
    "import pandas as pd\n",
    "\n",
    "# NaN값이 있는 행을 삭제하고 새로운 mask_id 할당\n",
    "def assign_new_mask_id(data, max_days_gap=2):\n",
    "    # 데이터프레임을 'check_datetime'으로 정렬\n",
    "    data = data.sort_values(by='check_datetime')\n",
    "    \n",
    "    # 'check_datetime' 열을 datetime 유형으로 변환\n",
    "    data['check_datetime'] = pd.to_datetime(data['check_datetime'])\n",
    "    \n",
    "    # 'check_datetime' 간의 날짜 차이 계산\n",
    "    data['date_diff'] = data.groupby('mask_id')['check_datetime'].diff().dt.days\n",
    "    \n",
    "    # NaN 값을 0으로 대체\n",
    "    data['date_diff'] = data['date_diff'].fillna(0)\n",
    "    \n",
    "    # 연속된 날짜를 기준으로 그룹을 형성하여 각 그룹별로 동일한 새로운 mask_id 할당\n",
    "    data['group'] = (data['date_diff'] > max_days_gap).cumsum()\n",
    "    data['new_mask_id'] = data['mask_id'] + '_' + data['group'].astype(str)\n",
    "    \n",
    "    # 결과에 필요 없는 열 삭제\n",
    "    data.drop(['date_diff', 'group'], axis=1, inplace=True)\n",
    "    \n",
    "    return data\n",
    "\n",
    "# mask_id에 해당하는 데이터 추출 및 새로운 mask_id 할당\n",
    "sorted_mask_data = assign_new_mask_id(cdata2)\n",
    "\n",
    "# 결과 출력\n",
    "print(\"Check_datetime associated with each mask_id (with new mask_id assigned):\")\n",
    "print(sorted_mask_data[['mask_id', 'check_datetime']])\n",
    "\n",
    "# CSV 파일로 저장\n",
    "sorted_mask_data.to_csv('sorted_mask_data.csv', index=False)"
   ]
  },
  {
   "cell_type": "code",
   "execution_count": 89,
   "metadata": {},
   "outputs": [
    {
     "name": "stdout",
     "output_type": "stream",
     "text": [
      "Check_datetime associated with mask_id ending with '_1':\n",
      "                              new_mask_id      check_datetime\n",
      "71     00715d5ec46b3d94a8ee5e41cf21613e_1 2021-09-15 17:00:00\n",
      "74     0eaf6f4bc08289e57ccc07018262256d_1 2021-09-15 17:00:00\n",
      "72     065e7a9bdd5065fe01976ff3f4f49f03_1 2021-09-15 17:00:00\n",
      "73     00b3079ef5d5439393cad740b4492a8c_1 2021-09-15 17:00:00\n",
      "77     da88b18524a1eb6645dd63ce61f89174_1 2021-09-15 17:00:00\n",
      "80     bda65622b2cbed211462fdba430fb03e_1 2021-09-16 08:00:00\n",
      "78     134c98f578d41ee48031e7a91d420fcd_1 2021-09-16 08:00:00\n",
      "82     7d78902ab2ef05dfe489937a97aa69c5_1 2021-09-16 08:00:00\n",
      "79     9e3b28875bb33fb933df5a384d32db05_1 2021-09-16 08:00:00\n",
      "46836  bf63dbfab81bc6d91780b5630fa3a5fc_1 2021-09-16 08:00:00\n",
      "81     3eff761e4aef7098d7838dce2a29711e_1 2021-09-16 08:00:00\n",
      "83     6ed9b8bf4e9ad1816595a00db368d752_1 2021-09-16 13:00:00\n",
      "85     00715d5ec46b3d94a8ee5e41cf21613e_1 2021-09-16 13:00:00\n",
      "86     576d75b0b5f0a8759c94b0e9faf2f6c4_1 2021-09-16 13:00:00\n",
      "84     c266931fb5984e935ca50001181700a0_1 2021-09-16 13:00:00\n",
      "88     16bf7c8d6fa620cfe821a49ec385d168_1 2021-09-16 13:00:00\n",
      "90     ff36840c27c71e0d1b0297f4ced0f001_1 2021-09-16 13:00:00\n"
     ]
    }
   ],
   "source": [
    "# new_mask_id가 '_1'로 끝나는 행 필터링\n",
    "mask_id_ending_with_1 = sorted_mask_data[sorted_mask_data['new_mask_id'].str.endswith('_1')]\n",
    "\n",
    "# 결과 출력\n",
    "print(\"Check_datetime associated with mask_id ending with '_1':\")\n",
    "print(mask_id_ending_with_1[['new_mask_id', 'check_datetime']])"
   ]
  },
  {
   "cell_type": "code",
   "execution_count": 103,
   "metadata": {},
   "outputs": [
    {
     "name": "stdout",
     "output_type": "stream",
     "text": [
      "Check_datetime associated with mask_id ending with '_2':\n",
      "                               new_mask_id      check_datetime\n",
      "507    134c98f578d41ee48031e7a91d420fcd_30 2021-10-03 08:00:00\n",
      "46901  ed28e24cae9e75f33db42e97af0a007d_30 2021-10-03 08:00:00\n",
      "46902  59edad633a282199543570d152713868_30 2021-10-03 08:00:00\n",
      "511    f477efcc4b1ad12196cbc60d46b48b47_30 2021-10-03 13:00:00\n",
      "512    d7eed29d66c2b46705876b8d9f87b20a_30 2021-10-03 13:00:00\n",
      "513    8f112f3ae51df263c6ee15aa41d86dc6_30 2021-10-03 13:00:00\n",
      "46904  9c406e25604a28b9a012ef73b75257a5_30 2021-10-03 16:50:00\n",
      "514    c695c3b060f9f1430d4041a5f3ee9111_30 2021-10-03 17:00:00\n",
      "515    e5b17570110d5d8514a1438b57fa4f76_30 2021-10-03 17:00:00\n",
      "516    4199f4b772092bd60971273f81d5cd5b_30 2021-10-03 17:00:00\n",
      "523    208f8a56fbe10f78554895b785c47d6e_30 2021-10-04 08:00:00\n",
      "46905  2ddd2601607e6b7baff71c8239fa7c4e_30 2021-10-04 08:00:00\n"
     ]
    }
   ],
   "source": [
    "# new_mask_id가 '_1'로 끝나는 행 필터링\n",
    "mask_id_ending_with_1 = sorted_mask_data[sorted_mask_data['new_mask_id'].str.endswith('_30')]\n",
    "\n",
    "# 결과 출력\n",
    "print(\"Check_datetime associated with mask_id ending with '_2':\")\n",
    "print(mask_id_ending_with_1[['new_mask_id', 'check_datetime']])"
   ]
  },
  {
   "cell_type": "code",
   "execution_count": 104,
   "metadata": {},
   "outputs": [
    {
     "name": "stdout",
     "output_type": "stream",
     "text": [
      "Check_datetime associated with new_mask_id '134c98f578d41ee48031e7a91d420fcd_30':\n",
      "                             new_mask_id      check_datetime\n",
      "507  134c98f578d41ee48031e7a91d420fcd_30 2021-10-03 08:00:00\n"
     ]
    }
   ],
   "source": [
    "# new_mask_id가 '00715d5ec46b3d94a8ee5e41cf21613e_1'인 행 필터링\n",
    "mask_id_00715d5ec46b3d94a8ee5e41cf21613e_1 = sorted_mask_data[sorted_mask_data['new_mask_id'] == '134c98f578d41ee48031e7a91d420fcd_30']\n",
    "\n",
    "# 결과 출력\n",
    "print(\"Check_datetime associated with new_mask_id '134c98f578d41ee48031e7a91d420fcd_30':\")\n",
    "print(mask_id_00715d5ec46b3d94a8ee5e41cf21613e_1[['new_mask_id', 'check_datetime']])\n"
   ]
  },
  {
   "cell_type": "code",
   "execution_count": 173,
   "metadata": {},
   "outputs": [
    {
     "name": "stdout",
     "output_type": "stream",
     "text": [
      "Randomly selected mask_id: 6d998a2f15883e997efbf36da67e30d8\n",
      "Check_datetime associated with the selected mask_id (sorted in ascending order):\n",
      "                                 mask_id      check_datetime\n",
      "47440   6d998a2f15883e997efbf36da67e30d8 2021-11-24 08:00:00\n",
      "49059   6d998a2f15883e997efbf36da67e30d8 2021-12-12 12:30:00\n",
      "49100   6d998a2f15883e997efbf36da67e30d8 2021-12-12 16:30:00\n",
      "49183   6d998a2f15883e997efbf36da67e30d8 2021-12-13 12:30:00\n",
      "49217   6d998a2f15883e997efbf36da67e30d8 2021-12-13 16:50:00\n",
      "49370   6d998a2f15883e997efbf36da67e30d8 2021-12-14 16:30:00\n",
      "53318   6d998a2f15883e997efbf36da67e30d8 2022-01-03 08:40:00\n",
      "53433   6d998a2f15883e997efbf36da67e30d8 2022-01-03 12:30:00\n",
      "53525   6d998a2f15883e997efbf36da67e30d8 2022-01-03 16:30:00\n",
      "53613   6d998a2f15883e997efbf36da67e30d8 2022-01-04 08:50:00\n",
      "53727   6d998a2f15883e997efbf36da67e30d8 2022-01-04 12:30:00\n",
      "53913   6d998a2f15883e997efbf36da67e30d8 2022-01-05 08:50:00\n",
      "54018   6d998a2f15883e997efbf36da67e30d8 2022-01-05 12:50:00\n",
      "54122   6d998a2f15883e997efbf36da67e30d8 2022-01-06 08:40:00\n",
      "54225   6d998a2f15883e997efbf36da67e30d8 2022-01-06 12:30:00\n",
      "54325   6d998a2f15883e997efbf36da67e30d8 2022-01-06 16:50:00\n",
      "54421   6d998a2f15883e997efbf36da67e30d8 2022-01-07 08:30:00\n",
      "54716   6d998a2f15883e997efbf36da67e30d8 2022-01-08 08:30:00\n",
      "55015   6d998a2f15883e997efbf36da67e30d8 2022-01-09 08:30:00\n",
      "64625   6d998a2f15883e997efbf36da67e30d8 2022-02-17 12:40:00\n",
      "64701   6d998a2f15883e997efbf36da67e30d8 2022-02-17 16:40:00\n",
      "64782   6d998a2f15883e997efbf36da67e30d8 2022-02-18 08:30:00\n",
      "98401   6d998a2f15883e997efbf36da67e30d8 2023-02-16 08:30:00\n",
      "98567   6d998a2f15883e997efbf36da67e30d8 2023-02-16 16:30:00\n",
      "98883   6d998a2f15883e997efbf36da67e30d8 2023-02-18 12:30:00\n",
      "98954   6d998a2f15883e997efbf36da67e30d8 2023-02-18 16:30:00\n",
      "99265   6d998a2f15883e997efbf36da67e30d8 2023-02-20 12:30:00\n",
      "99341   6d998a2f15883e997efbf36da67e30d8 2023-02-20 16:30:00\n",
      "99413   6d998a2f15883e997efbf36da67e30d8 2023-02-21 08:30:00\n",
      "99986   6d998a2f15883e997efbf36da67e30d8 2023-02-24 08:30:00\n",
      "100046  6d998a2f15883e997efbf36da67e30d8 2023-02-24 12:30:00\n",
      "100087  6d998a2f15883e997efbf36da67e30d8 2023-02-24 16:30:00\n",
      "100147  6d998a2f15883e997efbf36da67e30d8 2023-02-25 08:30:00\n",
      "100882  6d998a2f15883e997efbf36da67e30d8 2023-03-01 12:30:00\n",
      "100971  6d998a2f15883e997efbf36da67e30d8 2023-03-01 16:30:00\n"
     ]
    }
   ],
   "source": [
    "import random\n",
    "\n",
    "# 랜덤하게 mask_id 선택\n",
    "random_mask_id = random.choice(sorted_mask_data['mask_id'].unique())\n",
    "\n",
    "# 선택된 mask_id에 해당하는 데이터 추출\n",
    "mask_data = sorted_mask_data[sorted_mask_data['mask_id'] == random_mask_id]\n",
    "\n",
    "# mask_id와 check_datetime을 오름차순으로 정렬하여 출력\n",
    "print(\"Randomly selected mask_id:\", random_mask_id)\n",
    "print(\"Check_datetime associated with the selected mask_id (sorted in ascending order):\")\n",
    "print(mask_data[['mask_id', 'check_datetime']].sort_values(by='check_datetime'))"
   ]
  },
  {
   "cell_type": "code",
   "execution_count": 152,
   "metadata": {},
   "outputs": [
    {
     "data": {
      "text/plain": [
       "<bound method Series.unique of 46801     da575cd4a0e4c9670fb45fa1f7a36431\n",
       "46803     891f58ff697094813c91bd994c3701a4\n",
       "46802     8bd8516161a651f71faa6fe79e7ad838\n",
       "46805     0ce4123c288d2e5205d8b6cc69f5d201\n",
       "46808     944f6eebb413e5d51435c08633211ad5\n",
       "                        ...               \n",
       "134597    4a95a63965a20284b7ce53c5cf0c2a95\n",
       "134598    d8972dae3b3661fdca80544741512b82\n",
       "134599    52e1e7cad5e6890db5350f9e5bceab1e\n",
       "134601    a778f0bf971bd81561020a9b5cab4043\n",
       "134632    76366579ea8063fa5e450b20b01b7ccf\n",
       "Name: mask_id, Length: 134328, dtype: object>"
      ]
     },
     "execution_count": 152,
     "metadata": {},
     "output_type": "execute_result"
    }
   ],
   "source": [
    "sorted_mask_data['mask_id'].unique"
   ]
  },
  {
   "cell_type": "markdown",
   "metadata": {},
   "source": [
    "### test3"
   ]
  },
  {
   "cell_type": "code",
   "execution_count": 174,
   "metadata": {},
   "outputs": [
    {
     "data": {
      "text/plain": [
       "check_datetime          0\n",
       "측정일자                    0\n",
       "구역명                     0\n",
       "farm_code               0\n",
       "내부온도                 1745\n",
       "내부습도                 1745\n",
       "내부CO2                1745\n",
       "근권온도                 1745\n",
       "내부순간일사량              1745\n",
       "측정년도                    0\n",
       "측정월                     0\n",
       "input_image_name        0\n",
       "input_image_path        0\n",
       "img_id                  0\n",
       "area_code               0\n",
       "shot_datetime           0\n",
       "count_masks             0\n",
       "bbox_image_path         0\n",
       "before_img_name         0\n",
       "before_img_id           0\n",
       "mask_num                0\n",
       "mask_id                 0\n",
       "point_x                 0\n",
       "point_y                 0\n",
       "size                    0\n",
       "color                   0\n",
       "output_image_path       0\n",
       "dtype: int64"
      ]
     },
     "execution_count": 174,
     "metadata": {},
     "output_type": "execute_result"
    }
   ],
   "source": [
    "columns_to_check = ['mask_num', 'mask_id', 'point_x', 'point_y', 'size', 'color', 'output_image_path']\n",
    "cdata3 = cdata.dropna(subset=columns_to_check)\n",
    "\n",
    "cdata3.isnull().sum()"
   ]
  },
  {
   "cell_type": "code",
   "execution_count": 175,
   "metadata": {},
   "outputs": [
    {
     "name": "stdout",
     "output_type": "stream",
     "text": [
      "Check_datetime associated with each mask_id (with new mask_id assigned):\n",
      "                                 mask_id      check_datetime\n",
      "46801   da575cd4a0e4c9670fb45fa1f7a36431 2021-09-06 16:50:00\n",
      "46803   891f58ff697094813c91bd994c3701a4 2021-09-06 16:50:00\n",
      "46802   8bd8516161a651f71faa6fe79e7ad838 2021-09-06 16:50:00\n",
      "46805   0ce4123c288d2e5205d8b6cc69f5d201 2021-09-07 13:00:00\n",
      "46808   944f6eebb413e5d51435c08633211ad5 2021-09-08 13:00:00\n",
      "...                                  ...                 ...\n",
      "134597  4a95a63965a20284b7ce53c5cf0c2a95 2024-04-03 17:00:00\n",
      "134598  d8972dae3b3661fdca80544741512b82 2024-04-03 17:00:00\n",
      "134599  52e1e7cad5e6890db5350f9e5bceab1e 2024-04-03 17:00:00\n",
      "134601  a778f0bf971bd81561020a9b5cab4043 2024-04-03 17:00:00\n",
      "134632  76366579ea8063fa5e450b20b01b7ccf 2024-04-03 17:00:00\n",
      "\n",
      "[134328 rows x 2 columns]\n"
     ]
    }
   ],
   "source": [
    "import pandas as pd\n",
    "\n",
    "# NaN값이 있는 행을 삭제하고 새로운 mask_id 할당\n",
    "def assign_new_mask_id(data, max_days_gap=2):\n",
    "    # 데이터프레임을 'check_datetime'으로 정렬\n",
    "    data = data.sort_values(by='check_datetime')\n",
    "    \n",
    "    # 'check_datetime' 열을 datetime 유형으로 변환\n",
    "    data['check_datetime'] = pd.to_datetime(data['check_datetime'])\n",
    "    \n",
    "    # 'check_datetime' 간의 날짜 차이 계산\n",
    "    data['date_diff'] = data.groupby('mask_id')['check_datetime'].diff().dt.days\n",
    "    \n",
    "    # NaN 값을 0으로 대체\n",
    "    data['date_diff'] = data['date_diff'].fillna(0)\n",
    "    \n",
    "    # 'date_diff'가 max_days_gap보다 큰 경우 새로운 그룹 지정\n",
    "    data['group'] = (data['date_diff'] > max_days_gap).cumsum()\n",
    "    \n",
    "    # mask_id에 그룹 번호 추가하여 새로운 mask_id로 지정\n",
    "    data['new_mask_id'] = data['mask_id'] + '_' + data['group'].astype(str)\n",
    "    \n",
    "    # 결과에 필요 없는 열 삭제\n",
    "    data.drop(['date_diff', 'group'], axis=1, inplace=True)\n",
    "    \n",
    "    return data\n",
    "\n",
    "# mask_id에 해당하는 데이터 추출 및 새로운 mask_id 할당\n",
    "sorted_mask_data = assign_new_mask_id(cdata3)\n",
    "\n",
    "# 결과 출력\n",
    "print(\"Check_datetime associated with each mask_id (with new mask_id assigned):\")\n",
    "print(sorted_mask_data[['mask_id', 'check_datetime']])\n",
    "\n",
    "# CSV 파일로 저장\n",
    "sorted_mask_data.to_csv('sorted_mask_data.csv', index=False)"
   ]
  },
  {
   "cell_type": "code",
   "execution_count": 179,
   "metadata": {},
   "outputs": [
    {
     "name": "stdout",
     "output_type": "stream",
     "text": [
      "Randomly selected mask_id: 42c9dee448d158574aafe4581f23aa70\n",
      "Check_datetime associated with the selected mask_id (sorted in ascending order):\n",
      "                                 mask_id      check_datetime\n",
      "47468   42c9dee448d158574aafe4581f23aa70 2021-11-24 16:50:00\n",
      "103680  42c9dee448d158574aafe4581f23aa70 2023-03-15 08:30:00\n",
      "103731  42c9dee448d158574aafe4581f23aa70 2023-03-15 12:30:00\n",
      "103784  42c9dee448d158574aafe4581f23aa70 2023-03-15 16:30:00\n",
      "103837  42c9dee448d158574aafe4581f23aa70 2023-03-16 08:30:00\n",
      "103901  42c9dee448d158574aafe4581f23aa70 2023-03-16 16:40:00\n",
      "103957  42c9dee448d158574aafe4581f23aa70 2023-03-17 08:40:00\n",
      "104013  42c9dee448d158574aafe4581f23aa70 2023-03-17 12:40:00\n",
      "104077  42c9dee448d158574aafe4581f23aa70 2023-03-17 16:40:00\n",
      "105809  42c9dee448d158574aafe4581f23aa70 2023-03-27 08:40:00\n",
      "106504  42c9dee448d158574aafe4581f23aa70 2023-04-01 08:40:00\n",
      "106665  42c9dee448d158574aafe4581f23aa70 2023-04-02 08:40:00\n",
      "106787  42c9dee448d158574aafe4581f23aa70 2023-04-02 16:30:00\n",
      "106932  42c9dee448d158574aafe4581f23aa70 2023-04-03 12:40:00\n",
      "107060  42c9dee448d158574aafe4581f23aa70 2023-04-04 08:40:00\n",
      "107128  42c9dee448d158574aafe4581f23aa70 2023-04-04 12:40:00\n",
      "107199  42c9dee448d158574aafe4581f23aa70 2023-04-04 16:40:00\n",
      "107258  42c9dee448d158574aafe4581f23aa70 2023-04-05 08:40:00\n",
      "107326  42c9dee448d158574aafe4581f23aa70 2023-04-05 12:40:00\n",
      "107400  42c9dee448d158574aafe4581f23aa70 2023-04-05 16:40:00\n",
      "113080  42c9dee448d158574aafe4581f23aa70 2023-05-09 08:30:00\n",
      "113111  42c9dee448d158574aafe4581f23aa70 2023-05-09 12:30:00\n",
      "113118  42c9dee448d158574aafe4581f23aa70 2023-05-09 12:30:00\n",
      "113140  42c9dee448d158574aafe4581f23aa70 2023-05-09 16:40:00\n",
      "113146  42c9dee448d158574aafe4581f23aa70 2023-05-09 16:40:00\n",
      "113165  42c9dee448d158574aafe4581f23aa70 2023-05-10 08:40:00\n",
      "113256  42c9dee448d158574aafe4581f23aa70 2023-05-10 16:30:00\n",
      "115041  42c9dee448d158574aafe4581f23aa70 2023-06-09 12:40:00\n",
      "115058  42c9dee448d158574aafe4581f23aa70 2023-06-09 16:40:00\n",
      "115079  42c9dee448d158574aafe4581f23aa70 2023-06-10 08:40:00\n",
      "115110  42c9dee448d158574aafe4581f23aa70 2023-06-10 12:40:00\n"
     ]
    }
   ],
   "source": [
    "import random\n",
    "\n",
    "# 랜덤하게 mask_id 선택\n",
    "random_mask_id = random.choice(sorted_mask_data['mask_id'].unique())\n",
    "\n",
    "# 선택된 mask_id에 해당하는 데이터 추출\n",
    "mask_data = sorted_mask_data[sorted_mask_data['mask_id'] == random_mask_id]\n",
    "\n",
    "# mask_id와 check_datetime을 오름차순으로 정렬하여 출력\n",
    "print(\"Randomly selected mask_id:\", random_mask_id)\n",
    "print(\"Check_datetime associated with the selected mask_id (sorted in ascending order):\")\n",
    "print(mask_data[['mask_id', 'check_datetime']].sort_values(by='check_datetime'))"
   ]
  },
  {
   "cell_type": "markdown",
   "metadata": {},
   "source": [
    "### test4"
   ]
  },
  {
   "cell_type": "code",
   "execution_count": 180,
   "metadata": {},
   "outputs": [
    {
     "data": {
      "text/plain": [
       "check_datetime          0\n",
       "측정일자                    0\n",
       "구역명                     0\n",
       "farm_code               0\n",
       "내부온도                 1745\n",
       "내부습도                 1745\n",
       "내부CO2                1745\n",
       "근권온도                 1745\n",
       "내부순간일사량              1745\n",
       "측정년도                    0\n",
       "측정월                     0\n",
       "input_image_name        0\n",
       "input_image_path        0\n",
       "img_id                  0\n",
       "area_code               0\n",
       "shot_datetime           0\n",
       "count_masks             0\n",
       "bbox_image_path         0\n",
       "before_img_name         0\n",
       "before_img_id           0\n",
       "mask_num                0\n",
       "mask_id                 0\n",
       "point_x                 0\n",
       "point_y                 0\n",
       "size                    0\n",
       "color                   0\n",
       "output_image_path       0\n",
       "dtype: int64"
      ]
     },
     "execution_count": 180,
     "metadata": {},
     "output_type": "execute_result"
    }
   ],
   "source": [
    "columns_to_check = ['mask_num', 'mask_id', 'point_x', 'point_y', 'size', 'color', 'output_image_path']\n",
    "cdata4 = cdata.dropna(subset=columns_to_check)\n",
    "\n",
    "cdata4.isnull().sum()"
   ]
  },
  {
   "cell_type": "code",
   "execution_count": 181,
   "metadata": {},
   "outputs": [
    {
     "name": "stdout",
     "output_type": "stream",
     "text": [
      "Check_datetime associated with each mask_id (with new mask_id assigned):\n",
      "                                 mask_id      check_datetime\n",
      "46801   da575cd4a0e4c9670fb45fa1f7a36431 2021-09-06 16:50:00\n",
      "46803   891f58ff697094813c91bd994c3701a4 2021-09-06 16:50:00\n",
      "46802   8bd8516161a651f71faa6fe79e7ad838 2021-09-06 16:50:00\n",
      "46805   0ce4123c288d2e5205d8b6cc69f5d201 2021-09-07 13:00:00\n",
      "46808   944f6eebb413e5d51435c08633211ad5 2021-09-08 13:00:00\n",
      "...                                  ...                 ...\n",
      "134597  4a95a63965a20284b7ce53c5cf0c2a95 2024-04-03 17:00:00\n",
      "134598  d8972dae3b3661fdca80544741512b82 2024-04-03 17:00:00\n",
      "134599  52e1e7cad5e6890db5350f9e5bceab1e 2024-04-03 17:00:00\n",
      "134601  a778f0bf971bd81561020a9b5cab4043 2024-04-03 17:00:00\n",
      "134632  76366579ea8063fa5e450b20b01b7ccf 2024-04-03 17:00:00\n",
      "\n",
      "[134328 rows x 2 columns]\n"
     ]
    }
   ],
   "source": [
    "import pandas as pd\n",
    "\n",
    "# NaN값이 있는 행을 삭제하고 새로운 mask_id 할당\n",
    "def assign_new_mask_id(data, max_days_gap=2):\n",
    "    # 데이터프레임을 'check_datetime'으로 정렬\n",
    "    data = data.sort_values(by='check_datetime')\n",
    "    \n",
    "    # 'check_datetime' 열을 datetime 유형으로 변환\n",
    "    data['check_datetime'] = pd.to_datetime(data['check_datetime'])\n",
    "    \n",
    "    # 'mask_id'와 'check_datetime'으로 그룹화하여 각 그룹의 날짜 간격 계산\n",
    "    data['date_diff'] = data.groupby('mask_id')['check_datetime'].diff().dt.days\n",
    "    \n",
    "    # NaN 값을 0으로 대체\n",
    "    data['date_diff'] = data['date_diff'].fillna(0)\n",
    "    \n",
    "    # 날짜 간격이 2일 이상인 경우에만 새로운 그룹을 형성하여 새로운 mask_id 할당\n",
    "    data['group'] = (data['date_diff'] > max_days_gap).cumsum()\n",
    "    data['new_mask_id'] = data['mask_id'] + '_' + data['group'].astype(str)\n",
    "    \n",
    "    # 결과에 필요 없는 열 삭제\n",
    "    data.drop(['date_diff', 'group'], axis=1, inplace=True)\n",
    "    \n",
    "    return data\n",
    "\n",
    "# mask_id에 해당하는 데이터 추출 및 새로운 mask_id 할당\n",
    "sorted_mask_data = assign_new_mask_id(cdata4)\n",
    "\n",
    "# 결과 출력\n",
    "print(\"Check_datetime associated with each mask_id (with new mask_id assigned):\")\n",
    "print(sorted_mask_data[['mask_id', 'check_datetime']])\n",
    "\n",
    "# CSV 파일로 저장\n",
    "sorted_mask_data.to_csv('sorted_mask_data.csv', index=False)"
   ]
  },
  {
   "cell_type": "code",
   "execution_count": 232,
   "metadata": {},
   "outputs": [
    {
     "name": "stdout",
     "output_type": "stream",
     "text": [
      "Randomly selected mask_id: ee5dea72534ec7afe9e933ce5004a5b5_3\n",
      "Check_datetime associated with the selected mask_id (sorted in ascending order):\n",
      "                             new_mask_id      check_datetime\n",
      "8331  ee5dea72534ec7afe9e933ce5004a5b5_3 2022-02-10 12:30:00\n"
     ]
    }
   ],
   "source": [
    "import random\n",
    "\n",
    "# 랜덤하게 mask_id 선택\n",
    "random_mask_id = random.choice(sorted_mask_data['new_mask_id'].unique())\n",
    "\n",
    "# 선택된 mask_id에 해당하는 데이터 추출\n",
    "mask_data = sorted_mask_data[sorted_mask_data['new_mask_id'] == random_mask_id]\n",
    "\n",
    "# mask_id와 check_datetime을 오름차순으로 정렬하여 출력\n",
    "print(\"Randomly selected mask_id:\", random_mask_id)\n",
    "print(\"Check_datetime associated with the selected mask_id (sorted in ascending order):\")\n",
    "print(mask_data[['new_mask_id', 'check_datetime']].sort_values(by='check_datetime'))"
   ]
  },
  {
   "cell_type": "markdown",
   "metadata": {},
   "source": [
    "### test5"
   ]
  },
  {
   "cell_type": "code",
   "execution_count": 183,
   "metadata": {},
   "outputs": [],
   "source": [
    "columns_to_check = ['mask_num', 'mask_id', 'point_x', 'point_y', 'size', 'color', 'output_image_path']\n",
    "cdata5 = cdata.dropna(subset=columns_to_check)"
   ]
  },
  {
   "cell_type": "code",
   "execution_count": 202,
   "metadata": {},
   "outputs": [
    {
     "ename": "ValueError",
     "evalue": "Columns must be same length as key",
     "output_type": "error",
     "traceback": [
      "\u001b[0;31m---------------------------------------------------------------------------\u001b[0m",
      "\u001b[0;31mValueError\u001b[0m                                Traceback (most recent call last)",
      "\u001b[0;32m/tmp/ipykernel_3100/4080088500.py\u001b[0m in \u001b[0;36m?\u001b[0;34m()\u001b[0m\n\u001b[1;32m     23\u001b[0m \u001b[0;34m\u001b[0m\u001b[0m\n\u001b[1;32m     24\u001b[0m     \u001b[0;32mreturn\u001b[0m \u001b[0mdata\u001b[0m\u001b[0;34m\u001b[0m\u001b[0;34m\u001b[0m\u001b[0m\n\u001b[1;32m     25\u001b[0m \u001b[0;34m\u001b[0m\u001b[0m\n\u001b[1;32m     26\u001b[0m \u001b[0;31m# mask_id에 해당하는 데이터 추출 및 새로운 mask_id 할당\u001b[0m\u001b[0;34m\u001b[0m\u001b[0;34m\u001b[0m\u001b[0m\n\u001b[0;32m---> 27\u001b[0;31m \u001b[0msorted_mask_data\u001b[0m \u001b[0;34m=\u001b[0m \u001b[0massign_new_mask_id\u001b[0m\u001b[0;34m(\u001b[0m\u001b[0mcdata5\u001b[0m\u001b[0;34m)\u001b[0m\u001b[0;34m\u001b[0m\u001b[0;34m\u001b[0m\u001b[0m\n\u001b[0m\u001b[1;32m     28\u001b[0m \u001b[0;34m\u001b[0m\u001b[0m\n\u001b[1;32m     29\u001b[0m \u001b[0;31m# 결과 출력\u001b[0m\u001b[0;34m\u001b[0m\u001b[0;34m\u001b[0m\u001b[0m\n\u001b[1;32m     30\u001b[0m \u001b[0mprint\u001b[0m\u001b[0;34m(\u001b[0m\u001b[0;34m\"Check_datetime associated with each mask_id (with new mask_id assigned):\"\u001b[0m\u001b[0;34m)\u001b[0m\u001b[0;34m\u001b[0m\u001b[0;34m\u001b[0m\u001b[0m\n",
      "\u001b[0;32m/tmp/ipykernel_3100/4080088500.py\u001b[0m in \u001b[0;36m?\u001b[0;34m(data, max_days_gap)\u001b[0m\n\u001b[1;32m     14\u001b[0m     \u001b[0;31m# NaN 값을 0으로 대체\u001b[0m\u001b[0;34m\u001b[0m\u001b[0;34m\u001b[0m\u001b[0m\n\u001b[1;32m     15\u001b[0m     \u001b[0mdata\u001b[0m\u001b[0;34m[\u001b[0m\u001b[0;34m'date_diff'\u001b[0m\u001b[0;34m]\u001b[0m \u001b[0;34m=\u001b[0m \u001b[0mdata\u001b[0m\u001b[0;34m[\u001b[0m\u001b[0;34m'date_diff'\u001b[0m\u001b[0;34m]\u001b[0m\u001b[0;34m.\u001b[0m\u001b[0mfillna\u001b[0m\u001b[0;34m(\u001b[0m\u001b[0;36m0\u001b[0m\u001b[0;34m)\u001b[0m\u001b[0;34m\u001b[0m\u001b[0;34m\u001b[0m\u001b[0m\n\u001b[1;32m     16\u001b[0m \u001b[0;34m\u001b[0m\u001b[0m\n\u001b[1;32m     17\u001b[0m     \u001b[0;31m# 날짜 간격이 2일 이상인 경우에만 새로운 그룹을 형성하여 새로운 mask_id 할당\u001b[0m\u001b[0;34m\u001b[0m\u001b[0;34m\u001b[0m\u001b[0m\n\u001b[0;32m---> 18\u001b[0;31m     \u001b[0mdata\u001b[0m\u001b[0;34m[\u001b[0m\u001b[0;34m[\u001b[0m\u001b[0;34m'group'\u001b[0m\u001b[0;34m]\u001b[0m\u001b[0;34m]\u001b[0m \u001b[0;34m=\u001b[0m \u001b[0;34m(\u001b[0m\u001b[0mdata\u001b[0m\u001b[0;34m[\u001b[0m\u001b[0;34m'date_diff'\u001b[0m\u001b[0;34m]\u001b[0m \u001b[0;34m>\u001b[0m \u001b[0mmax_days_gap\u001b[0m\u001b[0;34m)\u001b[0m\u001b[0;34m.\u001b[0m\u001b[0mgroupby\u001b[0m\u001b[0;34m(\u001b[0m\u001b[0mdata\u001b[0m\u001b[0;34m[\u001b[0m\u001b[0;34m'mask_id'\u001b[0m\u001b[0;34m]\u001b[0m\u001b[0;34m)\u001b[0m\u001b[0;34m.\u001b[0m\u001b[0mcumsum\u001b[0m\u001b[0;34m(\u001b[0m\u001b[0;34m)\u001b[0m\u001b[0;34m\u001b[0m\u001b[0;34m\u001b[0m\u001b[0m\n\u001b[0m\u001b[1;32m     19\u001b[0m     \u001b[0mdata\u001b[0m\u001b[0;34m[\u001b[0m\u001b[0;34m'new_mask_id'\u001b[0m\u001b[0;34m]\u001b[0m \u001b[0;34m=\u001b[0m \u001b[0mdata\u001b[0m\u001b[0;34m[\u001b[0m\u001b[0;34m'mask_id'\u001b[0m\u001b[0;34m]\u001b[0m \u001b[0;34m+\u001b[0m \u001b[0;34m'_'\u001b[0m \u001b[0;34m+\u001b[0m \u001b[0mdata\u001b[0m\u001b[0;34m[\u001b[0m\u001b[0;34m'group'\u001b[0m\u001b[0;34m]\u001b[0m\u001b[0;34m.\u001b[0m\u001b[0mastype\u001b[0m\u001b[0;34m(\u001b[0m\u001b[0mstr\u001b[0m\u001b[0;34m)\u001b[0m\u001b[0;34m\u001b[0m\u001b[0;34m\u001b[0m\u001b[0m\n\u001b[1;32m     20\u001b[0m \u001b[0;34m\u001b[0m\u001b[0m\n\u001b[1;32m     21\u001b[0m     \u001b[0;31m# 결과에 필요 없는 열 삭제\u001b[0m\u001b[0;34m\u001b[0m\u001b[0;34m\u001b[0m\u001b[0m\n",
      "\u001b[0;32m/opt/conda/lib/python3.10/site-packages/pandas/core/frame.py\u001b[0m in \u001b[0;36m?\u001b[0;34m(self, key, value)\u001b[0m\n\u001b[1;32m   4295\u001b[0m \u001b[0;34m\u001b[0m\u001b[0m\n\u001b[1;32m   4296\u001b[0m         \u001b[0;32mif\u001b[0m \u001b[0misinstance\u001b[0m\u001b[0;34m(\u001b[0m\u001b[0mkey\u001b[0m\u001b[0;34m,\u001b[0m \u001b[0mDataFrame\u001b[0m\u001b[0;34m)\u001b[0m \u001b[0;32mor\u001b[0m \u001b[0mgetattr\u001b[0m\u001b[0;34m(\u001b[0m\u001b[0mkey\u001b[0m\u001b[0;34m,\u001b[0m \u001b[0;34m\"ndim\"\u001b[0m\u001b[0;34m,\u001b[0m \u001b[0;32mNone\u001b[0m\u001b[0;34m)\u001b[0m \u001b[0;34m==\u001b[0m \u001b[0;36m2\u001b[0m\u001b[0;34m:\u001b[0m\u001b[0;34m\u001b[0m\u001b[0;34m\u001b[0m\u001b[0m\n\u001b[1;32m   4297\u001b[0m             \u001b[0mself\u001b[0m\u001b[0;34m.\u001b[0m\u001b[0m_setitem_frame\u001b[0m\u001b[0;34m(\u001b[0m\u001b[0mkey\u001b[0m\u001b[0;34m,\u001b[0m \u001b[0mvalue\u001b[0m\u001b[0;34m)\u001b[0m\u001b[0;34m\u001b[0m\u001b[0;34m\u001b[0m\u001b[0m\n\u001b[1;32m   4298\u001b[0m         \u001b[0;32melif\u001b[0m \u001b[0misinstance\u001b[0m\u001b[0;34m(\u001b[0m\u001b[0mkey\u001b[0m\u001b[0;34m,\u001b[0m \u001b[0;34m(\u001b[0m\u001b[0mSeries\u001b[0m\u001b[0;34m,\u001b[0m \u001b[0mnp\u001b[0m\u001b[0;34m.\u001b[0m\u001b[0mndarray\u001b[0m\u001b[0;34m,\u001b[0m \u001b[0mlist\u001b[0m\u001b[0;34m,\u001b[0m \u001b[0mIndex\u001b[0m\u001b[0;34m)\u001b[0m\u001b[0;34m)\u001b[0m\u001b[0;34m:\u001b[0m\u001b[0;34m\u001b[0m\u001b[0;34m\u001b[0m\u001b[0m\n\u001b[0;32m-> 4299\u001b[0;31m             \u001b[0mself\u001b[0m\u001b[0;34m.\u001b[0m\u001b[0m_setitem_array\u001b[0m\u001b[0;34m(\u001b[0m\u001b[0mkey\u001b[0m\u001b[0;34m,\u001b[0m \u001b[0mvalue\u001b[0m\u001b[0;34m)\u001b[0m\u001b[0;34m\u001b[0m\u001b[0;34m\u001b[0m\u001b[0m\n\u001b[0m\u001b[1;32m   4300\u001b[0m         \u001b[0;32melif\u001b[0m \u001b[0misinstance\u001b[0m\u001b[0;34m(\u001b[0m\u001b[0mvalue\u001b[0m\u001b[0;34m,\u001b[0m \u001b[0mDataFrame\u001b[0m\u001b[0;34m)\u001b[0m\u001b[0;34m:\u001b[0m\u001b[0;34m\u001b[0m\u001b[0;34m\u001b[0m\u001b[0m\n\u001b[1;32m   4301\u001b[0m             \u001b[0mself\u001b[0m\u001b[0;34m.\u001b[0m\u001b[0m_set_item_frame_value\u001b[0m\u001b[0;34m(\u001b[0m\u001b[0mkey\u001b[0m\u001b[0;34m,\u001b[0m \u001b[0mvalue\u001b[0m\u001b[0;34m)\u001b[0m\u001b[0;34m\u001b[0m\u001b[0;34m\u001b[0m\u001b[0m\n\u001b[1;32m   4302\u001b[0m         elif (\n",
      "\u001b[0;32m/opt/conda/lib/python3.10/site-packages/pandas/core/frame.py\u001b[0m in \u001b[0;36m?\u001b[0;34m(self, key, value)\u001b[0m\n\u001b[1;32m   4354\u001b[0m                 \u001b[0mvalue\u001b[0m \u001b[0;34m=\u001b[0m \u001b[0mDataFrame\u001b[0m\u001b[0;34m(\u001b[0m\u001b[0mvalue\u001b[0m\u001b[0;34m)\u001b[0m\u001b[0;34m.\u001b[0m\u001b[0mvalues\u001b[0m\u001b[0;34m\u001b[0m\u001b[0;34m\u001b[0m\u001b[0m\n\u001b[1;32m   4355\u001b[0m                 \u001b[0;32mreturn\u001b[0m \u001b[0mself\u001b[0m\u001b[0;34m.\u001b[0m\u001b[0m_setitem_array\u001b[0m\u001b[0;34m(\u001b[0m\u001b[0mkey\u001b[0m\u001b[0;34m,\u001b[0m \u001b[0mvalue\u001b[0m\u001b[0;34m)\u001b[0m\u001b[0;34m\u001b[0m\u001b[0;34m\u001b[0m\u001b[0m\n\u001b[1;32m   4356\u001b[0m \u001b[0;34m\u001b[0m\u001b[0m\n\u001b[1;32m   4357\u001b[0m             \u001b[0;32melse\u001b[0m\u001b[0;34m:\u001b[0m\u001b[0;34m\u001b[0m\u001b[0;34m\u001b[0m\u001b[0m\n\u001b[0;32m-> 4358\u001b[0;31m                 \u001b[0mself\u001b[0m\u001b[0;34m.\u001b[0m\u001b[0m_iset_not_inplace\u001b[0m\u001b[0;34m(\u001b[0m\u001b[0mkey\u001b[0m\u001b[0;34m,\u001b[0m \u001b[0mvalue\u001b[0m\u001b[0;34m)\u001b[0m\u001b[0;34m\u001b[0m\u001b[0;34m\u001b[0m\u001b[0m\n\u001b[0m",
      "\u001b[0;32m/opt/conda/lib/python3.10/site-packages/pandas/core/frame.py\u001b[0m in \u001b[0;36m?\u001b[0;34m(self, key, value)\u001b[0m\n\u001b[1;32m   4373\u001b[0m                 \u001b[0;32mreturn\u001b[0m \u001b[0mobj\u001b[0m\u001b[0;34m[\u001b[0m\u001b[0mi\u001b[0m\u001b[0;34m]\u001b[0m\u001b[0;34m\u001b[0m\u001b[0;34m\u001b[0m\u001b[0m\n\u001b[1;32m   4374\u001b[0m \u001b[0;34m\u001b[0m\u001b[0m\n\u001b[1;32m   4375\u001b[0m         \u001b[0;32mif\u001b[0m \u001b[0mself\u001b[0m\u001b[0;34m.\u001b[0m\u001b[0mcolumns\u001b[0m\u001b[0;34m.\u001b[0m\u001b[0mis_unique\u001b[0m\u001b[0;34m:\u001b[0m\u001b[0;34m\u001b[0m\u001b[0;34m\u001b[0m\u001b[0m\n\u001b[1;32m   4376\u001b[0m             \u001b[0;32mif\u001b[0m \u001b[0mnp\u001b[0m\u001b[0;34m.\u001b[0m\u001b[0mshape\u001b[0m\u001b[0;34m(\u001b[0m\u001b[0mvalue\u001b[0m\u001b[0;34m)\u001b[0m\u001b[0;34m[\u001b[0m\u001b[0;34m-\u001b[0m\u001b[0;36m1\u001b[0m\u001b[0;34m]\u001b[0m \u001b[0;34m!=\u001b[0m \u001b[0mlen\u001b[0m\u001b[0;34m(\u001b[0m\u001b[0mkey\u001b[0m\u001b[0;34m)\u001b[0m\u001b[0;34m:\u001b[0m\u001b[0;34m\u001b[0m\u001b[0;34m\u001b[0m\u001b[0m\n\u001b[0;32m-> 4377\u001b[0;31m                 \u001b[0;32mraise\u001b[0m \u001b[0mValueError\u001b[0m\u001b[0;34m(\u001b[0m\u001b[0;34m\"Columns must be same length as key\"\u001b[0m\u001b[0;34m)\u001b[0m\u001b[0;34m\u001b[0m\u001b[0;34m\u001b[0m\u001b[0m\n\u001b[0m\u001b[1;32m   4378\u001b[0m \u001b[0;34m\u001b[0m\u001b[0m\n\u001b[1;32m   4379\u001b[0m             \u001b[0;32mfor\u001b[0m \u001b[0mi\u001b[0m\u001b[0;34m,\u001b[0m \u001b[0mcol\u001b[0m \u001b[0;32min\u001b[0m \u001b[0menumerate\u001b[0m\u001b[0;34m(\u001b[0m\u001b[0mkey\u001b[0m\u001b[0;34m)\u001b[0m\u001b[0;34m:\u001b[0m\u001b[0;34m\u001b[0m\u001b[0;34m\u001b[0m\u001b[0m\n\u001b[1;32m   4380\u001b[0m                 \u001b[0mself\u001b[0m\u001b[0;34m[\u001b[0m\u001b[0mcol\u001b[0m\u001b[0;34m]\u001b[0m \u001b[0;34m=\u001b[0m \u001b[0migetitem\u001b[0m\u001b[0;34m(\u001b[0m\u001b[0mvalue\u001b[0m\u001b[0;34m,\u001b[0m \u001b[0mi\u001b[0m\u001b[0;34m)\u001b[0m\u001b[0;34m\u001b[0m\u001b[0;34m\u001b[0m\u001b[0m\n",
      "\u001b[0;31mValueError\u001b[0m: Columns must be same length as key"
     ]
    }
   ],
   "source": [
    "import pandas as pd\n",
    "\n",
    "# NaN값이 있는 행을 삭제하고 새로운 mask_id 할당\n",
    "def assign_new_mask_id(data, max_days_gap=2):\n",
    "    # 데이터프레임을 'check_datetime'으로 정렬\n",
    "    data = data.sort_values(by='check_datetime')\n",
    "    \n",
    "    # 'check_datetime' 열을 datetime 유형으로 변환\n",
    "    data['check_datetime'] = pd.to_datetime(data['check_datetime'])\n",
    "    \n",
    "    # 'mask_id'로 그룹화하여 각 그룹 내에서 날짜 간격 계산\n",
    "    data['date_diff'] = data.groupby('mask_id')['check_datetime'].diff().dt.days\n",
    "    \n",
    "    # NaN 값을 0으로 대체\n",
    "    data['date_diff'] = data['date_diff'].fillna(0)\n",
    "    \n",
    "    # 날짜 간격이 2일 이상인 경우에만 새로운 그룹을 형성하여 새로운 mask_id 할당\n",
    "    data[['group']] = (data['date_diff'] > max_days_gap).groupby(data['mask_id']).cumsum()\n",
    "    data['new_mask_id'] = data['mask_id'] + '_' + data['group'].astype(str)\n",
    "    \n",
    "    # 결과에 필요 없는 열 삭제\n",
    "    data.drop(['date_diff', 'group'], axis=1, inplace=True)\n",
    "    \n",
    "    return data\n",
    "\n",
    "# mask_id에 해당하는 데이터 추출 및 새로운 mask_id 할당\n",
    "sorted_mask_data = assign_new_mask_id(cdata5)\n",
    "\n",
    "# 결과 출력\n",
    "print(\"Check_datetime associated with each mask_id (with new mask_id assigned):\")\n",
    "print(sorted_mask_data[['mask_id', 'check_datetime']])\n",
    "\n",
    "# CSV 파일로 저장\n",
    "sorted_mask_data.to_csv('sorted_mask_data.csv', index=False)"
   ]
  },
  {
   "cell_type": "code",
   "execution_count": 201,
   "metadata": {},
   "outputs": [
    {
     "name": "stdout",
     "output_type": "stream",
     "text": [
      "Randomly selected mask_id: 422951d318194674459ee7e7db0c7e02\n",
      "Check_datetime associated with the selected mask_id (sorted in ascending order):\n",
      "                                 mask_id      check_datetime\n",
      "59563   422951d318194674459ee7e7db0c7e02 2022-01-27 16:30:00\n",
      "61765   422951d318194674459ee7e7db0c7e02 2022-02-06 08:30:00\n",
      "62864   422951d318194674459ee7e7db0c7e02 2022-02-10 12:30:00\n",
      "128236  422951d318194674459ee7e7db0c7e02 2024-02-25 12:40:00\n",
      "128242  422951d318194674459ee7e7db0c7e02 2024-02-25 16:50:00\n",
      "130080  422951d318194674459ee7e7db0c7e02 2024-03-09 16:40:00\n",
      "131221  422951d318194674459ee7e7db0c7e02 2024-03-17 12:40:00\n"
     ]
    }
   ],
   "source": [
    "import random\n",
    "\n",
    "# 랜덤하게 mask_id 선택\n",
    "random_mask_id = random.choice(sorted_mask_data['mask_id'].unique())\n",
    "\n",
    "# 선택된 mask_id에 해당하는 데이터 추출\n",
    "mask_data = sorted_mask_data[sorted_mask_data['mask_id'] == random_mask_id]\n",
    "\n",
    "# mask_id와 check_datetime을 오름차순으로 정렬하여 출력\n",
    "print(\"Randomly selected mask_id:\", random_mask_id)\n",
    "print(\"Check_datetime associated with the selected mask_id (sorted in ascending order):\")\n",
    "print(mask_data[['mask_id', 'check_datetime']].sort_values(by='check_datetime'))"
   ]
  },
  {
   "cell_type": "markdown",
   "metadata": {},
   "source": [
    "### test6"
   ]
  },
  {
   "cell_type": "code",
   "execution_count": 203,
   "metadata": {},
   "outputs": [],
   "source": [
    "columns_to_check = ['mask_num', 'mask_id', 'point_x', 'point_y', 'size', 'color', 'output_image_path']\n",
    "cdata6 = cdata.dropna(subset=columns_to_check)"
   ]
  },
  {
   "cell_type": "code",
   "execution_count": 204,
   "metadata": {},
   "outputs": [
    {
     "name": "stderr",
     "output_type": "stream",
     "text": [
      "/tmp/ipykernel_3100/1964216998.py:1: SettingWithCopyWarning: \n",
      "A value is trying to be set on a copy of a slice from a DataFrame.\n",
      "Try using .loc[row_indexer,col_indexer] = value instead\n",
      "\n",
      "See the caveats in the documentation: https://pandas.pydata.org/pandas-docs/stable/user_guide/indexing.html#returning-a-view-versus-a-copy\n",
      "  cdata6['check_datetime'] = pd.to_datetime(cdata6['check_datetime'])\n"
     ]
    }
   ],
   "source": [
    "cdata6['check_datetime'] = pd.to_datetime(cdata6['check_datetime'])"
   ]
  },
  {
   "cell_type": "code",
   "execution_count": 205,
   "metadata": {},
   "outputs": [],
   "source": [
    "cdata6 = cdata6.sort_values(by=['mask_id', 'check_datetime'])"
   ]
  },
  {
   "cell_type": "code",
   "execution_count": 206,
   "metadata": {},
   "outputs": [
    {
     "data": {
      "text/html": [
       "<div>\n",
       "<style scoped>\n",
       "    .dataframe tbody tr th:only-of-type {\n",
       "        vertical-align: middle;\n",
       "    }\n",
       "\n",
       "    .dataframe tbody tr th {\n",
       "        vertical-align: top;\n",
       "    }\n",
       "\n",
       "    .dataframe thead th {\n",
       "        text-align: right;\n",
       "    }\n",
       "</style>\n",
       "<table border=\"1\" class=\"dataframe\">\n",
       "  <thead>\n",
       "    <tr style=\"text-align: right;\">\n",
       "      <th></th>\n",
       "      <th>check_datetime</th>\n",
       "      <th>측정일자</th>\n",
       "      <th>구역명</th>\n",
       "      <th>farm_code</th>\n",
       "      <th>내부온도</th>\n",
       "      <th>내부습도</th>\n",
       "      <th>내부CO2</th>\n",
       "      <th>근권온도</th>\n",
       "      <th>내부순간일사량</th>\n",
       "      <th>측정년도</th>\n",
       "      <th>...</th>\n",
       "      <th>bbox_image_path</th>\n",
       "      <th>before_img_name</th>\n",
       "      <th>before_img_id</th>\n",
       "      <th>mask_num</th>\n",
       "      <th>mask_id</th>\n",
       "      <th>point_x</th>\n",
       "      <th>point_y</th>\n",
       "      <th>size</th>\n",
       "      <th>color</th>\n",
       "      <th>output_image_path</th>\n",
       "    </tr>\n",
       "  </thead>\n",
       "  <tbody>\n",
       "    <tr>\n",
       "      <th>48930</th>\n",
       "      <td>2021-12-11 12:30:00</td>\n",
       "      <td>2021-12-11</td>\n",
       "      <td>1구역</td>\n",
       "      <td>F0017</td>\n",
       "      <td>21.10</td>\n",
       "      <td>84.80</td>\n",
       "      <td>407.3</td>\n",
       "      <td>14.90</td>\n",
       "      <td>112.85</td>\n",
       "      <td>2021</td>\n",
       "      <td>...</td>\n",
       "      <td>/opt/dlami/nvme/SAM_result/F0017/C101/F0017-C1...</td>\n",
       "      <td>F0017-C101-20211211-083000</td>\n",
       "      <td>c425e659787e9e014b2ba0496f041d35</td>\n",
       "      <td>F0017-C101-20211211-123000_16</td>\n",
       "      <td>000e746a20045adde95ecafc59ac8162</td>\n",
       "      <td>266.290955</td>\n",
       "      <td>352.751709</td>\n",
       "      <td>1509.0</td>\n",
       "      <td>[[62, 75, 45], [95, 108, 78], [87, 100, 70], [...</td>\n",
       "      <td>image_mask_16.png</td>\n",
       "    </tr>\n",
       "    <tr>\n",
       "      <th>55856</th>\n",
       "      <td>2022-01-12 08:30:00</td>\n",
       "      <td>2022-01-12</td>\n",
       "      <td>1구역</td>\n",
       "      <td>F0017</td>\n",
       "      <td>10.41</td>\n",
       "      <td>91.72</td>\n",
       "      <td>2812.2</td>\n",
       "      <td>12.76</td>\n",
       "      <td>14.66</td>\n",
       "      <td>2022</td>\n",
       "      <td>...</td>\n",
       "      <td>/opt/dlami/nvme/SAM_result/F0017/C101/F0017-C1...</td>\n",
       "      <td>F0017-C101-20220111-163000</td>\n",
       "      <td>2980be2ae0db2be80789f937039bf8e0</td>\n",
       "      <td>F0017-C101-20220112-083000_12</td>\n",
       "      <td>000e746a20045adde95ecafc59ac8162</td>\n",
       "      <td>269.233490</td>\n",
       "      <td>346.553436</td>\n",
       "      <td>1446.0</td>\n",
       "      <td>[[38, 54, 15], [63, 78, 39], [55, 70, 29], [47...</td>\n",
       "      <td>image_mask_12.png</td>\n",
       "    </tr>\n",
       "    <tr>\n",
       "      <th>56026</th>\n",
       "      <td>2022-01-12 16:50:00</td>\n",
       "      <td>2022-01-12</td>\n",
       "      <td>1구역</td>\n",
       "      <td>F0017</td>\n",
       "      <td>15.14</td>\n",
       "      <td>85.69</td>\n",
       "      <td>281.7</td>\n",
       "      <td>14.05</td>\n",
       "      <td>21.42</td>\n",
       "      <td>2022</td>\n",
       "      <td>...</td>\n",
       "      <td>/opt/dlami/nvme/SAM_result/F0017/C101/F0017-C1...</td>\n",
       "      <td>F0017-C101-20220112-131700</td>\n",
       "      <td>4f3f65ca0f34a8ae8c4a9558c20ea9c0</td>\n",
       "      <td>F0017-C101-20220112-164700_12</td>\n",
       "      <td>000e746a20045adde95ecafc59ac8162</td>\n",
       "      <td>264.121307</td>\n",
       "      <td>349.344482</td>\n",
       "      <td>1183.0</td>\n",
       "      <td>[[57, 68, 36], [57, 66, 35], [40, 49, 18], [29...</td>\n",
       "      <td>image_mask_12.png</td>\n",
       "    </tr>\n",
       "    <tr>\n",
       "      <th>56115</th>\n",
       "      <td>2022-01-13 08:30:00</td>\n",
       "      <td>2022-01-13</td>\n",
       "      <td>1구역</td>\n",
       "      <td>F0017</td>\n",
       "      <td>10.85</td>\n",
       "      <td>92.62</td>\n",
       "      <td>2102.2</td>\n",
       "      <td>12.69</td>\n",
       "      <td>15.23</td>\n",
       "      <td>2022</td>\n",
       "      <td>...</td>\n",
       "      <td>/opt/dlami/nvme/SAM_result/F0017/C101/F0017-C1...</td>\n",
       "      <td>F0017-C101-20220112-164700</td>\n",
       "      <td>8e84ea0c3de1901a72652c41169ee34a</td>\n",
       "      <td>F0017-C101-20220113-083000_14</td>\n",
       "      <td>000e746a20045adde95ecafc59ac8162</td>\n",
       "      <td>261.293915</td>\n",
       "      <td>349.513611</td>\n",
       "      <td>1077.0</td>\n",
       "      <td>[[39, 51, 13], [64, 74, 37], [51, 61, 24], [55...</td>\n",
       "      <td>image_mask_14.png</td>\n",
       "    </tr>\n",
       "    <tr>\n",
       "      <th>72098</th>\n",
       "      <td>2022-03-16 12:30:00</td>\n",
       "      <td>2022-03-16</td>\n",
       "      <td>1구역</td>\n",
       "      <td>F0017</td>\n",
       "      <td>28.13</td>\n",
       "      <td>45.38</td>\n",
       "      <td>420.7</td>\n",
       "      <td>15.76</td>\n",
       "      <td>295.86</td>\n",
       "      <td>2022</td>\n",
       "      <td>...</td>\n",
       "      <td>/opt/dlami/nvme/SAM_result/F0017/C101/F0017-C1...</td>\n",
       "      <td>F0017-C101-20220316-083000</td>\n",
       "      <td>f88c6a60c83bbd6e543e01d131c0bb24</td>\n",
       "      <td>F0017-C101-20220316-123000_8</td>\n",
       "      <td>000e746a20045adde95ecafc59ac8162</td>\n",
       "      <td>262.844757</td>\n",
       "      <td>349.892456</td>\n",
       "      <td>3446.0</td>\n",
       "      <td>[[77, 53, 29], [102, 78, 54], [123, 99, 75], [...</td>\n",
       "      <td>image_mask_8.png</td>\n",
       "    </tr>\n",
       "  </tbody>\n",
       "</table>\n",
       "<p>5 rows × 27 columns</p>\n",
       "</div>"
      ],
      "text/plain": [
       "           check_datetime        측정일자  구역명 farm_code   내부온도   내부습도   내부CO2  \\\n",
       "48930 2021-12-11 12:30:00  2021-12-11  1구역     F0017  21.10  84.80   407.3   \n",
       "55856 2022-01-12 08:30:00  2022-01-12  1구역     F0017  10.41  91.72  2812.2   \n",
       "56026 2022-01-12 16:50:00  2022-01-12  1구역     F0017  15.14  85.69   281.7   \n",
       "56115 2022-01-13 08:30:00  2022-01-13  1구역     F0017  10.85  92.62  2102.2   \n",
       "72098 2022-03-16 12:30:00  2022-03-16  1구역     F0017  28.13  45.38   420.7   \n",
       "\n",
       "        근권온도  내부순간일사량  측정년도  ...  \\\n",
       "48930  14.90   112.85  2021  ...   \n",
       "55856  12.76    14.66  2022  ...   \n",
       "56026  14.05    21.42  2022  ...   \n",
       "56115  12.69    15.23  2022  ...   \n",
       "72098  15.76   295.86  2022  ...   \n",
       "\n",
       "                                         bbox_image_path  \\\n",
       "48930  /opt/dlami/nvme/SAM_result/F0017/C101/F0017-C1...   \n",
       "55856  /opt/dlami/nvme/SAM_result/F0017/C101/F0017-C1...   \n",
       "56026  /opt/dlami/nvme/SAM_result/F0017/C101/F0017-C1...   \n",
       "56115  /opt/dlami/nvme/SAM_result/F0017/C101/F0017-C1...   \n",
       "72098  /opt/dlami/nvme/SAM_result/F0017/C101/F0017-C1...   \n",
       "\n",
       "                  before_img_name                     before_img_id  \\\n",
       "48930  F0017-C101-20211211-083000  c425e659787e9e014b2ba0496f041d35   \n",
       "55856  F0017-C101-20220111-163000  2980be2ae0db2be80789f937039bf8e0   \n",
       "56026  F0017-C101-20220112-131700  4f3f65ca0f34a8ae8c4a9558c20ea9c0   \n",
       "56115  F0017-C101-20220112-164700  8e84ea0c3de1901a72652c41169ee34a   \n",
       "72098  F0017-C101-20220316-083000  f88c6a60c83bbd6e543e01d131c0bb24   \n",
       "\n",
       "                            mask_num                           mask_id  \\\n",
       "48930  F0017-C101-20211211-123000_16  000e746a20045adde95ecafc59ac8162   \n",
       "55856  F0017-C101-20220112-083000_12  000e746a20045adde95ecafc59ac8162   \n",
       "56026  F0017-C101-20220112-164700_12  000e746a20045adde95ecafc59ac8162   \n",
       "56115  F0017-C101-20220113-083000_14  000e746a20045adde95ecafc59ac8162   \n",
       "72098   F0017-C101-20220316-123000_8  000e746a20045adde95ecafc59ac8162   \n",
       "\n",
       "          point_x     point_y    size  \\\n",
       "48930  266.290955  352.751709  1509.0   \n",
       "55856  269.233490  346.553436  1446.0   \n",
       "56026  264.121307  349.344482  1183.0   \n",
       "56115  261.293915  349.513611  1077.0   \n",
       "72098  262.844757  349.892456  3446.0   \n",
       "\n",
       "                                                   color  output_image_path  \n",
       "48930  [[62, 75, 45], [95, 108, 78], [87, 100, 70], [...  image_mask_16.png  \n",
       "55856  [[38, 54, 15], [63, 78, 39], [55, 70, 29], [47...  image_mask_12.png  \n",
       "56026  [[57, 68, 36], [57, 66, 35], [40, 49, 18], [29...  image_mask_12.png  \n",
       "56115  [[39, 51, 13], [64, 74, 37], [51, 61, 24], [55...  image_mask_14.png  \n",
       "72098  [[77, 53, 29], [102, 78, 54], [123, 99, 75], [...   image_mask_8.png  \n",
       "\n",
       "[5 rows x 27 columns]"
      ]
     },
     "execution_count": 206,
     "metadata": {},
     "output_type": "execute_result"
    }
   ],
   "source": [
    "cdata6.head()"
   ]
  },
  {
   "cell_type": "code",
   "execution_count": 209,
   "metadata": {},
   "outputs": [
    {
     "data": {
      "text/plain": [
       "48930     NaN\n",
       "55856    31.0\n",
       "56026     0.0\n",
       "56115     0.0\n",
       "72098    62.0\n",
       "Name: date_diff, dtype: float64"
      ]
     },
     "execution_count": 209,
     "metadata": {},
     "output_type": "execute_result"
    }
   ],
   "source": [
    "cdata6['date_diff'] = cdata6.groupby('mask_id')['check_datetime'].diff().dt.days\n",
    "cdata6['date_diff'].head()"
   ]
  },
  {
   "cell_type": "code",
   "execution_count": 210,
   "metadata": {},
   "outputs": [],
   "source": [
    "cdata6['date_diff'] = cdata6['date_diff'].fillna(0)"
   ]
  },
  {
   "cell_type": "code",
   "execution_count": 239,
   "metadata": {},
   "outputs": [
    {
     "ename": "KeyError",
     "evalue": "\"['new_mask_id'] not found in axis\"",
     "output_type": "error",
     "traceback": [
      "\u001b[0;31m---------------------------------------------------------------------------\u001b[0m",
      "\u001b[0;31mKeyError\u001b[0m                                  Traceback (most recent call last)",
      "Cell \u001b[0;32mIn[239], line 3\u001b[0m\n\u001b[1;32m      1\u001b[0m cdata6[\u001b[38;5;124m'\u001b[39m\u001b[38;5;124mgroup\u001b[39m\u001b[38;5;124m'\u001b[39m] \u001b[38;5;241m=\u001b[39m (cdata6[\u001b[38;5;124m'\u001b[39m\u001b[38;5;124mdate_diff\u001b[39m\u001b[38;5;124m'\u001b[39m] \u001b[38;5;241m>\u001b[39m \u001b[38;5;241m2\u001b[39m)\u001b[38;5;241m.\u001b[39mgroupby(cdata6[\u001b[38;5;124m'\u001b[39m\u001b[38;5;124mmask_id\u001b[39m\u001b[38;5;124m'\u001b[39m])\u001b[38;5;241m.\u001b[39mcumsum()\n\u001b[1;32m      2\u001b[0m cdata6[\u001b[38;5;124m'\u001b[39m\u001b[38;5;124mmask_id\u001b[39m\u001b[38;5;124m'\u001b[39m] \u001b[38;5;241m=\u001b[39m cdata6[\u001b[38;5;124m'\u001b[39m\u001b[38;5;124mmask_id\u001b[39m\u001b[38;5;124m'\u001b[39m] \u001b[38;5;241m+\u001b[39m \u001b[38;5;124m'\u001b[39m\u001b[38;5;124m_\u001b[39m\u001b[38;5;124m'\u001b[39m \u001b[38;5;241m+\u001b[39m cdata6[\u001b[38;5;124m'\u001b[39m\u001b[38;5;124mgroup\u001b[39m\u001b[38;5;124m'\u001b[39m]\u001b[38;5;241m.\u001b[39mastype(\u001b[38;5;28mstr\u001b[39m)\n\u001b[0;32m----> 3\u001b[0m \u001b[43mcdata6\u001b[49m\u001b[38;5;241;43m.\u001b[39;49m\u001b[43mdrop\u001b[49m\u001b[43m(\u001b[49m\u001b[38;5;124;43m'\u001b[39;49m\u001b[38;5;124;43mnew_mask_id\u001b[39;49m\u001b[38;5;124;43m'\u001b[39;49m\u001b[43m,\u001b[49m\u001b[43m \u001b[49m\u001b[43maxis\u001b[49m\u001b[38;5;241;43m=\u001b[39;49m\u001b[38;5;241;43m1\u001b[39;49m\u001b[43m,\u001b[49m\u001b[43m \u001b[49m\u001b[43minplace\u001b[49m\u001b[38;5;241;43m=\u001b[39;49m\u001b[38;5;28;43;01mTrue\u001b[39;49;00m\u001b[43m)\u001b[49m\n\u001b[1;32m      4\u001b[0m cdata6\u001b[38;5;241m.\u001b[39mdrop(\u001b[38;5;124m'\u001b[39m\u001b[38;5;124mgroup\u001b[39m\u001b[38;5;124m'\u001b[39m, axis\u001b[38;5;241m=\u001b[39m\u001b[38;5;241m1\u001b[39m, inplace\u001b[38;5;241m=\u001b[39m\u001b[38;5;28;01mTrue\u001b[39;00m)\n",
      "File \u001b[0;32m/opt/conda/lib/python3.10/site-packages/pandas/core/frame.py:5581\u001b[0m, in \u001b[0;36mDataFrame.drop\u001b[0;34m(self, labels, axis, index, columns, level, inplace, errors)\u001b[0m\n\u001b[1;32m   5433\u001b[0m \u001b[38;5;28;01mdef\u001b[39;00m \u001b[38;5;21mdrop\u001b[39m(\n\u001b[1;32m   5434\u001b[0m     \u001b[38;5;28mself\u001b[39m,\n\u001b[1;32m   5435\u001b[0m     labels: IndexLabel \u001b[38;5;241m|\u001b[39m \u001b[38;5;28;01mNone\u001b[39;00m \u001b[38;5;241m=\u001b[39m \u001b[38;5;28;01mNone\u001b[39;00m,\n\u001b[0;32m   (...)\u001b[0m\n\u001b[1;32m   5442\u001b[0m     errors: IgnoreRaise \u001b[38;5;241m=\u001b[39m \u001b[38;5;124m\"\u001b[39m\u001b[38;5;124mraise\u001b[39m\u001b[38;5;124m\"\u001b[39m,\n\u001b[1;32m   5443\u001b[0m ) \u001b[38;5;241m-\u001b[39m\u001b[38;5;241m>\u001b[39m DataFrame \u001b[38;5;241m|\u001b[39m \u001b[38;5;28;01mNone\u001b[39;00m:\n\u001b[1;32m   5444\u001b[0m \u001b[38;5;250m    \u001b[39m\u001b[38;5;124;03m\"\"\"\u001b[39;00m\n\u001b[1;32m   5445\u001b[0m \u001b[38;5;124;03m    Drop specified labels from rows or columns.\u001b[39;00m\n\u001b[1;32m   5446\u001b[0m \n\u001b[0;32m   (...)\u001b[0m\n\u001b[1;32m   5579\u001b[0m \u001b[38;5;124;03m            weight  1.0     0.8\u001b[39;00m\n\u001b[1;32m   5580\u001b[0m \u001b[38;5;124;03m    \"\"\"\u001b[39;00m\n\u001b[0;32m-> 5581\u001b[0m     \u001b[38;5;28;01mreturn\u001b[39;00m \u001b[38;5;28;43msuper\u001b[39;49m\u001b[43m(\u001b[49m\u001b[43m)\u001b[49m\u001b[38;5;241;43m.\u001b[39;49m\u001b[43mdrop\u001b[49m\u001b[43m(\u001b[49m\n\u001b[1;32m   5582\u001b[0m \u001b[43m        \u001b[49m\u001b[43mlabels\u001b[49m\u001b[38;5;241;43m=\u001b[39;49m\u001b[43mlabels\u001b[49m\u001b[43m,\u001b[49m\n\u001b[1;32m   5583\u001b[0m \u001b[43m        \u001b[49m\u001b[43maxis\u001b[49m\u001b[38;5;241;43m=\u001b[39;49m\u001b[43maxis\u001b[49m\u001b[43m,\u001b[49m\n\u001b[1;32m   5584\u001b[0m \u001b[43m        \u001b[49m\u001b[43mindex\u001b[49m\u001b[38;5;241;43m=\u001b[39;49m\u001b[43mindex\u001b[49m\u001b[43m,\u001b[49m\n\u001b[1;32m   5585\u001b[0m \u001b[43m        \u001b[49m\u001b[43mcolumns\u001b[49m\u001b[38;5;241;43m=\u001b[39;49m\u001b[43mcolumns\u001b[49m\u001b[43m,\u001b[49m\n\u001b[1;32m   5586\u001b[0m \u001b[43m        \u001b[49m\u001b[43mlevel\u001b[49m\u001b[38;5;241;43m=\u001b[39;49m\u001b[43mlevel\u001b[49m\u001b[43m,\u001b[49m\n\u001b[1;32m   5587\u001b[0m \u001b[43m        \u001b[49m\u001b[43minplace\u001b[49m\u001b[38;5;241;43m=\u001b[39;49m\u001b[43minplace\u001b[49m\u001b[43m,\u001b[49m\n\u001b[1;32m   5588\u001b[0m \u001b[43m        \u001b[49m\u001b[43merrors\u001b[49m\u001b[38;5;241;43m=\u001b[39;49m\u001b[43merrors\u001b[49m\u001b[43m,\u001b[49m\n\u001b[1;32m   5589\u001b[0m \u001b[43m    \u001b[49m\u001b[43m)\u001b[49m\n",
      "File \u001b[0;32m/opt/conda/lib/python3.10/site-packages/pandas/core/generic.py:4788\u001b[0m, in \u001b[0;36mNDFrame.drop\u001b[0;34m(self, labels, axis, index, columns, level, inplace, errors)\u001b[0m\n\u001b[1;32m   4786\u001b[0m \u001b[38;5;28;01mfor\u001b[39;00m axis, labels \u001b[38;5;129;01min\u001b[39;00m axes\u001b[38;5;241m.\u001b[39mitems():\n\u001b[1;32m   4787\u001b[0m     \u001b[38;5;28;01mif\u001b[39;00m labels \u001b[38;5;129;01mis\u001b[39;00m \u001b[38;5;129;01mnot\u001b[39;00m \u001b[38;5;28;01mNone\u001b[39;00m:\n\u001b[0;32m-> 4788\u001b[0m         obj \u001b[38;5;241m=\u001b[39m \u001b[43mobj\u001b[49m\u001b[38;5;241;43m.\u001b[39;49m\u001b[43m_drop_axis\u001b[49m\u001b[43m(\u001b[49m\u001b[43mlabels\u001b[49m\u001b[43m,\u001b[49m\u001b[43m \u001b[49m\u001b[43maxis\u001b[49m\u001b[43m,\u001b[49m\u001b[43m \u001b[49m\u001b[43mlevel\u001b[49m\u001b[38;5;241;43m=\u001b[39;49m\u001b[43mlevel\u001b[49m\u001b[43m,\u001b[49m\u001b[43m \u001b[49m\u001b[43merrors\u001b[49m\u001b[38;5;241;43m=\u001b[39;49m\u001b[43merrors\u001b[49m\u001b[43m)\u001b[49m\n\u001b[1;32m   4790\u001b[0m \u001b[38;5;28;01mif\u001b[39;00m inplace:\n\u001b[1;32m   4791\u001b[0m     \u001b[38;5;28mself\u001b[39m\u001b[38;5;241m.\u001b[39m_update_inplace(obj)\n",
      "File \u001b[0;32m/opt/conda/lib/python3.10/site-packages/pandas/core/generic.py:4830\u001b[0m, in \u001b[0;36mNDFrame._drop_axis\u001b[0;34m(self, labels, axis, level, errors, only_slice)\u001b[0m\n\u001b[1;32m   4828\u001b[0m         new_axis \u001b[38;5;241m=\u001b[39m axis\u001b[38;5;241m.\u001b[39mdrop(labels, level\u001b[38;5;241m=\u001b[39mlevel, errors\u001b[38;5;241m=\u001b[39merrors)\n\u001b[1;32m   4829\u001b[0m     \u001b[38;5;28;01melse\u001b[39;00m:\n\u001b[0;32m-> 4830\u001b[0m         new_axis \u001b[38;5;241m=\u001b[39m \u001b[43maxis\u001b[49m\u001b[38;5;241;43m.\u001b[39;49m\u001b[43mdrop\u001b[49m\u001b[43m(\u001b[49m\u001b[43mlabels\u001b[49m\u001b[43m,\u001b[49m\u001b[43m \u001b[49m\u001b[43merrors\u001b[49m\u001b[38;5;241;43m=\u001b[39;49m\u001b[43merrors\u001b[49m\u001b[43m)\u001b[49m\n\u001b[1;32m   4831\u001b[0m     indexer \u001b[38;5;241m=\u001b[39m axis\u001b[38;5;241m.\u001b[39mget_indexer(new_axis)\n\u001b[1;32m   4833\u001b[0m \u001b[38;5;66;03m# Case for non-unique axis\u001b[39;00m\n\u001b[1;32m   4834\u001b[0m \u001b[38;5;28;01melse\u001b[39;00m:\n",
      "File \u001b[0;32m/opt/conda/lib/python3.10/site-packages/pandas/core/indexes/base.py:7070\u001b[0m, in \u001b[0;36mIndex.drop\u001b[0;34m(self, labels, errors)\u001b[0m\n\u001b[1;32m   7068\u001b[0m \u001b[38;5;28;01mif\u001b[39;00m mask\u001b[38;5;241m.\u001b[39many():\n\u001b[1;32m   7069\u001b[0m     \u001b[38;5;28;01mif\u001b[39;00m errors \u001b[38;5;241m!=\u001b[39m \u001b[38;5;124m\"\u001b[39m\u001b[38;5;124mignore\u001b[39m\u001b[38;5;124m\"\u001b[39m:\n\u001b[0;32m-> 7070\u001b[0m         \u001b[38;5;28;01mraise\u001b[39;00m \u001b[38;5;167;01mKeyError\u001b[39;00m(\u001b[38;5;124mf\u001b[39m\u001b[38;5;124m\"\u001b[39m\u001b[38;5;132;01m{\u001b[39;00mlabels[mask]\u001b[38;5;241m.\u001b[39mtolist()\u001b[38;5;132;01m}\u001b[39;00m\u001b[38;5;124m not found in axis\u001b[39m\u001b[38;5;124m\"\u001b[39m)\n\u001b[1;32m   7071\u001b[0m     indexer \u001b[38;5;241m=\u001b[39m indexer[\u001b[38;5;241m~\u001b[39mmask]\n\u001b[1;32m   7072\u001b[0m \u001b[38;5;28;01mreturn\u001b[39;00m \u001b[38;5;28mself\u001b[39m\u001b[38;5;241m.\u001b[39mdelete(indexer)\n",
      "\u001b[0;31mKeyError\u001b[0m: \"['new_mask_id'] not found in axis\""
     ]
    }
   ],
   "source": [
    "cdata6['group'] = (cdata6['date_diff'] > 2).groupby(cdata6['mask_id']).cumsum()\n",
    "cdata6['mask_id'] = cdata6['mask_id'] + '_' + cdata6['group'].astype(str)\n",
    "# cdata6.drop('new_mask_id', axis=1, inplace=True)\n",
    "cdata6.drop('group', axis=1, inplace=True)"
   ]
  },
  {
   "cell_type": "code",
   "execution_count": 237,
   "metadata": {},
   "outputs": [
    {
     "name": "stdout",
     "output_type": "stream",
     "text": [
      "Randomly selected mask_id: 46616ceeaed4c884092a0d935d4cf25d_3_1\n",
      "Check_datetime associated with the selected mask_id (sorted in ascending order):\n",
      "                                mask_id      check_datetime\n",
      "32058  46616ceeaed4c884092a0d935d4cf25d 2023-02-25 12:40:00\n",
      "32099  46616ceeaed4c884092a0d935d4cf25d 2023-02-25 16:40:00\n",
      "32132  46616ceeaed4c884092a0d935d4cf25d 2023-02-26 08:30:00\n",
      "32194  46616ceeaed4c884092a0d935d4cf25d 2023-02-26 12:30:00\n",
      "32242  46616ceeaed4c884092a0d935d4cf25d 2023-02-26 16:30:00\n",
      "32271  46616ceeaed4c884092a0d935d4cf25d 2023-02-27 08:30:00\n",
      "32341  46616ceeaed4c884092a0d935d4cf25d 2023-02-27 12:30:00\n",
      "32399  46616ceeaed4c884092a0d935d4cf25d 2023-02-27 16:40:00\n"
     ]
    },
    {
     "name": "stderr",
     "output_type": "stream",
     "text": [
      "/tmp/ipykernel_3100/275489962.py:7: UserWarning: Boolean Series key will be reindexed to match DataFrame index.\n",
      "  mask_data = sorted_mask_data[cdata6['mask_id'] == random_mask_id]\n"
     ]
    }
   ],
   "source": [
    "import random\n",
    "\n",
    "# 랜덤하게 mask_id 선택\n",
    "random_mask_id = random.choice(cdata6['mask_id'].unique())\n",
    "\n",
    "# 선택된 mask_id에 해당하는 데이터 추출\n",
    "mask_data = sorted_mask_data[cdata6['mask_id'] == random_mask_id]\n",
    "\n",
    "# mask_id와 check_datetime을 오름차순으로 정렬하여 출력\n",
    "print(\"Randomly selected mask_id:\", random_mask_id)\n",
    "print(\"Check_datetime associated with the selected mask_id (sorted in ascending order):\")\n",
    "print(mask_data[['mask_id', 'check_datetime']].sort_values(by='check_datetime'))"
   ]
  },
  {
   "cell_type": "markdown",
   "metadata": {},
   "source": [
    "### test7"
   ]
  },
  {
   "cell_type": "code",
   "execution_count": 1,
   "metadata": {},
   "outputs": [],
   "source": [
    "import pandas as pd\n",
    "data = pd.read_csv(\"/home/ubuntu/drive/EDA/real_true_final.csv\", encoding=\"UTF-8\")\n",
    "cdata7 = data.copy()"
   ]
  },
  {
   "cell_type": "code",
   "execution_count": 2,
   "metadata": {},
   "outputs": [],
   "source": [
    "cdata7['check_datetime'] = pd.to_datetime(cdata7['check_datetime'])"
   ]
  },
  {
   "cell_type": "code",
   "execution_count": 3,
   "metadata": {},
   "outputs": [],
   "source": [
    "cdata7 = cdata7.sort_values(by=['mask_id', 'check_datetime'])"
   ]
  },
  {
   "cell_type": "code",
   "execution_count": 4,
   "metadata": {},
   "outputs": [],
   "source": [
    "cdata7['date_diff'] = cdata7.groupby('mask_id')['check_datetime'].diff().dt.days"
   ]
  },
  {
   "cell_type": "code",
   "execution_count": 5,
   "metadata": {},
   "outputs": [],
   "source": [
    "cdata7['date_diff'] = cdata7['date_diff'].fillna(0)"
   ]
  },
  {
   "cell_type": "code",
   "execution_count": 6,
   "metadata": {},
   "outputs": [],
   "source": [
    "cdata7['group'] = (cdata7['date_diff'] > 2).groupby(cdata7['mask_id']).cumsum()\n",
    "cdata7['mask_id'] = cdata7['mask_id'] + '_' + cdata7['group'].astype(str)\n",
    "cdata7.drop('group', axis=1, inplace=True)"
   ]
  },
  {
   "cell_type": "code",
   "execution_count": 38,
   "metadata": {},
   "outputs": [
    {
     "name": "stdout",
     "output_type": "stream",
     "text": [
      "Randomly selected mask_id: 5596c481c44e9f4d852520937bf283f8_0.0\n",
      "Check_datetime associated with the selected mask_id (sorted in ascending order):\n",
      "                                    mask_id      check_datetime\n",
      "12182  5596c481c44e9f4d852520937bf283f8_0.0 2022-02-27 08:30:00\n"
     ]
    }
   ],
   "source": [
    "import random\n",
    "\n",
    "# 랜덤하게 mask_id 선택\n",
    "random_mask_id = random.choice(cdata7['mask_id'].unique())\n",
    "\n",
    "# 선택된 mask_id에 해당하는 데이터 추출\n",
    "mask_data = cdata7[cdata7['mask_id'] == random_mask_id]\n",
    "\n",
    "# mask_id와 check_datetime을 오름차순으로 정렬하여 출력\n",
    "print(\"Randomly selected mask_id:\", random_mask_id)\n",
    "print(\"Check_datetime associated with the selected mask_id (sorted in ascending order):\")\n",
    "print(mask_data[['mask_id', 'check_datetime']].sort_values(by='check_datetime'))"
   ]
  },
  {
   "cell_type": "code",
   "execution_count": 39,
   "metadata": {},
   "outputs": [],
   "source": [
    "cdata7.to_csv('sorted_mask_data_final.csv', index=False)"
   ]
  }
 ],
 "metadata": {
  "kernelspec": {
   "display_name": "base",
   "language": "python",
   "name": "python3"
  },
  "language_info": {
   "codemirror_mode": {
    "name": "ipython",
    "version": 3
   },
   "file_extension": ".py",
   "mimetype": "text/x-python",
   "name": "python",
   "nbconvert_exporter": "python",
   "pygments_lexer": "ipython3",
   "version": "3.10.9"
  }
 },
 "nbformat": 4,
 "nbformat_minor": 2
}
